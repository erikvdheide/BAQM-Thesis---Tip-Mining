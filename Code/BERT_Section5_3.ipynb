{
  "nbformat": 4,
  "nbformat_minor": 0,
  "metadata": {
    "colab": {
      "name": "BERT_Section5_3.ipynb",
      "provenance": [],
      "collapsed_sections": []
    },
    "kernelspec": {
      "name": "python3",
      "display_name": "Python 3"
    },
    "language_info": {
      "name": "python"
    },
    "accelerator": "GPU",
    "widgets": {
      "application/vnd.jupyter.widget-state+json": {
        "335f09f612f548ab9ed35cd3fb1c4cb4": {
          "model_module": "@jupyter-widgets/controls",
          "model_name": "HBoxModel",
          "state": {
            "_view_name": "HBoxView",
            "_dom_classes": [],
            "_model_name": "HBoxModel",
            "_view_module": "@jupyter-widgets/controls",
            "_model_module_version": "1.5.0",
            "_view_count": null,
            "_view_module_version": "1.5.0",
            "box_style": "",
            "layout": "IPY_MODEL_77e8e36d28ca4c01bf043ac9e7975310",
            "_model_module": "@jupyter-widgets/controls",
            "children": [
              "IPY_MODEL_e3569eaf00c3492a8de0d91aa3c72266",
              "IPY_MODEL_e7bbff4501af40a79b45b0f139e94fb8"
            ]
          },
          "model_module_version": "1.5.0"
        },
        "77e8e36d28ca4c01bf043ac9e7975310": {
          "model_module": "@jupyter-widgets/base",
          "model_name": "LayoutModel",
          "state": {
            "_view_name": "LayoutView",
            "grid_template_rows": null,
            "right": null,
            "justify_content": null,
            "_view_module": "@jupyter-widgets/base",
            "overflow": null,
            "_model_module_version": "1.2.0",
            "_view_count": null,
            "flex_flow": null,
            "width": null,
            "min_width": null,
            "border": null,
            "align_items": null,
            "bottom": null,
            "_model_module": "@jupyter-widgets/base",
            "top": null,
            "grid_column": null,
            "overflow_y": null,
            "overflow_x": null,
            "grid_auto_flow": null,
            "grid_area": null,
            "grid_template_columns": null,
            "flex": null,
            "_model_name": "LayoutModel",
            "justify_items": null,
            "grid_row": null,
            "max_height": null,
            "align_content": null,
            "visibility": null,
            "align_self": null,
            "height": null,
            "min_height": null,
            "padding": null,
            "grid_auto_rows": null,
            "grid_gap": null,
            "max_width": null,
            "order": null,
            "_view_module_version": "1.2.0",
            "grid_template_areas": null,
            "object_position": null,
            "object_fit": null,
            "grid_auto_columns": null,
            "margin": null,
            "display": null,
            "left": null
          },
          "model_module_version": "1.2.0"
        },
        "e3569eaf00c3492a8de0d91aa3c72266": {
          "model_module": "@jupyter-widgets/controls",
          "model_name": "FloatProgressModel",
          "state": {
            "_view_name": "ProgressView",
            "style": "IPY_MODEL_6fd2729552eb40d1b75223858ce72061",
            "_dom_classes": [],
            "description": "Downloading: 100%",
            "_model_name": "FloatProgressModel",
            "bar_style": "success",
            "max": 231508,
            "_view_module": "@jupyter-widgets/controls",
            "_model_module_version": "1.5.0",
            "value": 231508,
            "_view_count": null,
            "_view_module_version": "1.5.0",
            "orientation": "horizontal",
            "min": 0,
            "description_tooltip": null,
            "_model_module": "@jupyter-widgets/controls",
            "layout": "IPY_MODEL_a64ca71ab5674287a9d27628398ed11d"
          },
          "model_module_version": "1.5.0"
        },
        "e7bbff4501af40a79b45b0f139e94fb8": {
          "model_module": "@jupyter-widgets/controls",
          "model_name": "HTMLModel",
          "state": {
            "_view_name": "HTMLView",
            "style": "IPY_MODEL_091e9097b826463e966dd1e90147d6b6",
            "_dom_classes": [],
            "description": "",
            "_model_name": "HTMLModel",
            "placeholder": "​",
            "_view_module": "@jupyter-widgets/controls",
            "_model_module_version": "1.5.0",
            "value": " 232k/232k [00:09&lt;00:00, 25.6kB/s]",
            "_view_count": null,
            "_view_module_version": "1.5.0",
            "description_tooltip": null,
            "_model_module": "@jupyter-widgets/controls",
            "layout": "IPY_MODEL_cd8981debb6a48e7bd3be3f045381553"
          },
          "model_module_version": "1.5.0"
        },
        "6fd2729552eb40d1b75223858ce72061": {
          "model_module": "@jupyter-widgets/controls",
          "model_name": "ProgressStyleModel",
          "state": {
            "_view_name": "StyleView",
            "_model_name": "ProgressStyleModel",
            "description_width": "initial",
            "_view_module": "@jupyter-widgets/base",
            "_model_module_version": "1.5.0",
            "_view_count": null,
            "_view_module_version": "1.2.0",
            "bar_color": null,
            "_model_module": "@jupyter-widgets/controls"
          },
          "model_module_version": "1.5.0"
        },
        "a64ca71ab5674287a9d27628398ed11d": {
          "model_module": "@jupyter-widgets/base",
          "model_name": "LayoutModel",
          "state": {
            "_view_name": "LayoutView",
            "grid_template_rows": null,
            "right": null,
            "justify_content": null,
            "_view_module": "@jupyter-widgets/base",
            "overflow": null,
            "_model_module_version": "1.2.0",
            "_view_count": null,
            "flex_flow": null,
            "width": null,
            "min_width": null,
            "border": null,
            "align_items": null,
            "bottom": null,
            "_model_module": "@jupyter-widgets/base",
            "top": null,
            "grid_column": null,
            "overflow_y": null,
            "overflow_x": null,
            "grid_auto_flow": null,
            "grid_area": null,
            "grid_template_columns": null,
            "flex": null,
            "_model_name": "LayoutModel",
            "justify_items": null,
            "grid_row": null,
            "max_height": null,
            "align_content": null,
            "visibility": null,
            "align_self": null,
            "height": null,
            "min_height": null,
            "padding": null,
            "grid_auto_rows": null,
            "grid_gap": null,
            "max_width": null,
            "order": null,
            "_view_module_version": "1.2.0",
            "grid_template_areas": null,
            "object_position": null,
            "object_fit": null,
            "grid_auto_columns": null,
            "margin": null,
            "display": null,
            "left": null
          },
          "model_module_version": "1.2.0"
        },
        "091e9097b826463e966dd1e90147d6b6": {
          "model_module": "@jupyter-widgets/controls",
          "model_name": "DescriptionStyleModel",
          "state": {
            "_view_name": "StyleView",
            "_model_name": "DescriptionStyleModel",
            "description_width": "",
            "_view_module": "@jupyter-widgets/base",
            "_model_module_version": "1.5.0",
            "_view_count": null,
            "_view_module_version": "1.2.0",
            "_model_module": "@jupyter-widgets/controls"
          },
          "model_module_version": "1.5.0"
        },
        "cd8981debb6a48e7bd3be3f045381553": {
          "model_module": "@jupyter-widgets/base",
          "model_name": "LayoutModel",
          "state": {
            "_view_name": "LayoutView",
            "grid_template_rows": null,
            "right": null,
            "justify_content": null,
            "_view_module": "@jupyter-widgets/base",
            "overflow": null,
            "_model_module_version": "1.2.0",
            "_view_count": null,
            "flex_flow": null,
            "width": null,
            "min_width": null,
            "border": null,
            "align_items": null,
            "bottom": null,
            "_model_module": "@jupyter-widgets/base",
            "top": null,
            "grid_column": null,
            "overflow_y": null,
            "overflow_x": null,
            "grid_auto_flow": null,
            "grid_area": null,
            "grid_template_columns": null,
            "flex": null,
            "_model_name": "LayoutModel",
            "justify_items": null,
            "grid_row": null,
            "max_height": null,
            "align_content": null,
            "visibility": null,
            "align_self": null,
            "height": null,
            "min_height": null,
            "padding": null,
            "grid_auto_rows": null,
            "grid_gap": null,
            "max_width": null,
            "order": null,
            "_view_module_version": "1.2.0",
            "grid_template_areas": null,
            "object_position": null,
            "object_fit": null,
            "grid_auto_columns": null,
            "margin": null,
            "display": null,
            "left": null
          },
          "model_module_version": "1.2.0"
        },
        "374701e5df4943abb1b2b04e965e0b9e": {
          "model_module": "@jupyter-widgets/controls",
          "model_name": "HBoxModel",
          "state": {
            "_view_name": "HBoxView",
            "_dom_classes": [],
            "_model_name": "HBoxModel",
            "_view_module": "@jupyter-widgets/controls",
            "_model_module_version": "1.5.0",
            "_view_count": null,
            "_view_module_version": "1.5.0",
            "box_style": "",
            "layout": "IPY_MODEL_b83315cf8e9f45c3af32cede6644186b",
            "_model_module": "@jupyter-widgets/controls",
            "children": [
              "IPY_MODEL_39d741a8a2f64c71adfc5ab6abaadf81",
              "IPY_MODEL_29a2fd5795fe4d13b773f26c46d1e099"
            ]
          },
          "model_module_version": "1.5.0"
        },
        "b83315cf8e9f45c3af32cede6644186b": {
          "model_module": "@jupyter-widgets/base",
          "model_name": "LayoutModel",
          "state": {
            "_view_name": "LayoutView",
            "grid_template_rows": null,
            "right": null,
            "justify_content": null,
            "_view_module": "@jupyter-widgets/base",
            "overflow": null,
            "_model_module_version": "1.2.0",
            "_view_count": null,
            "flex_flow": null,
            "width": null,
            "min_width": null,
            "border": null,
            "align_items": null,
            "bottom": null,
            "_model_module": "@jupyter-widgets/base",
            "top": null,
            "grid_column": null,
            "overflow_y": null,
            "overflow_x": null,
            "grid_auto_flow": null,
            "grid_area": null,
            "grid_template_columns": null,
            "flex": null,
            "_model_name": "LayoutModel",
            "justify_items": null,
            "grid_row": null,
            "max_height": null,
            "align_content": null,
            "visibility": null,
            "align_self": null,
            "height": null,
            "min_height": null,
            "padding": null,
            "grid_auto_rows": null,
            "grid_gap": null,
            "max_width": null,
            "order": null,
            "_view_module_version": "1.2.0",
            "grid_template_areas": null,
            "object_position": null,
            "object_fit": null,
            "grid_auto_columns": null,
            "margin": null,
            "display": null,
            "left": null
          },
          "model_module_version": "1.2.0"
        },
        "39d741a8a2f64c71adfc5ab6abaadf81": {
          "model_module": "@jupyter-widgets/controls",
          "model_name": "FloatProgressModel",
          "state": {
            "_view_name": "ProgressView",
            "style": "IPY_MODEL_6a860e91932349c9b60929cd03fe80fa",
            "_dom_classes": [],
            "description": "Downloading: 100%",
            "_model_name": "FloatProgressModel",
            "bar_style": "success",
            "max": 466062,
            "_view_module": "@jupyter-widgets/controls",
            "_model_module_version": "1.5.0",
            "value": 466062,
            "_view_count": null,
            "_view_module_version": "1.5.0",
            "orientation": "horizontal",
            "min": 0,
            "description_tooltip": null,
            "_model_module": "@jupyter-widgets/controls",
            "layout": "IPY_MODEL_794e57739c72480494d0514c8fb958f9"
          },
          "model_module_version": "1.5.0"
        },
        "29a2fd5795fe4d13b773f26c46d1e099": {
          "model_module": "@jupyter-widgets/controls",
          "model_name": "HTMLModel",
          "state": {
            "_view_name": "HTMLView",
            "style": "IPY_MODEL_03db236b849048e2a4ca2ae7d436136c",
            "_dom_classes": [],
            "description": "",
            "_model_name": "HTMLModel",
            "placeholder": "​",
            "_view_module": "@jupyter-widgets/controls",
            "_model_module_version": "1.5.0",
            "value": " 466k/466k [00:07&lt;00:00, 66.5kB/s]",
            "_view_count": null,
            "_view_module_version": "1.5.0",
            "description_tooltip": null,
            "_model_module": "@jupyter-widgets/controls",
            "layout": "IPY_MODEL_0d4ca8d91c8c4f1fb35138135807cca6"
          },
          "model_module_version": "1.5.0"
        },
        "6a860e91932349c9b60929cd03fe80fa": {
          "model_module": "@jupyter-widgets/controls",
          "model_name": "ProgressStyleModel",
          "state": {
            "_view_name": "StyleView",
            "_model_name": "ProgressStyleModel",
            "description_width": "initial",
            "_view_module": "@jupyter-widgets/base",
            "_model_module_version": "1.5.0",
            "_view_count": null,
            "_view_module_version": "1.2.0",
            "bar_color": null,
            "_model_module": "@jupyter-widgets/controls"
          },
          "model_module_version": "1.5.0"
        },
        "794e57739c72480494d0514c8fb958f9": {
          "model_module": "@jupyter-widgets/base",
          "model_name": "LayoutModel",
          "state": {
            "_view_name": "LayoutView",
            "grid_template_rows": null,
            "right": null,
            "justify_content": null,
            "_view_module": "@jupyter-widgets/base",
            "overflow": null,
            "_model_module_version": "1.2.0",
            "_view_count": null,
            "flex_flow": null,
            "width": null,
            "min_width": null,
            "border": null,
            "align_items": null,
            "bottom": null,
            "_model_module": "@jupyter-widgets/base",
            "top": null,
            "grid_column": null,
            "overflow_y": null,
            "overflow_x": null,
            "grid_auto_flow": null,
            "grid_area": null,
            "grid_template_columns": null,
            "flex": null,
            "_model_name": "LayoutModel",
            "justify_items": null,
            "grid_row": null,
            "max_height": null,
            "align_content": null,
            "visibility": null,
            "align_self": null,
            "height": null,
            "min_height": null,
            "padding": null,
            "grid_auto_rows": null,
            "grid_gap": null,
            "max_width": null,
            "order": null,
            "_view_module_version": "1.2.0",
            "grid_template_areas": null,
            "object_position": null,
            "object_fit": null,
            "grid_auto_columns": null,
            "margin": null,
            "display": null,
            "left": null
          },
          "model_module_version": "1.2.0"
        },
        "03db236b849048e2a4ca2ae7d436136c": {
          "model_module": "@jupyter-widgets/controls",
          "model_name": "DescriptionStyleModel",
          "state": {
            "_view_name": "StyleView",
            "_model_name": "DescriptionStyleModel",
            "description_width": "",
            "_view_module": "@jupyter-widgets/base",
            "_model_module_version": "1.5.0",
            "_view_count": null,
            "_view_module_version": "1.2.0",
            "_model_module": "@jupyter-widgets/controls"
          },
          "model_module_version": "1.5.0"
        },
        "0d4ca8d91c8c4f1fb35138135807cca6": {
          "model_module": "@jupyter-widgets/base",
          "model_name": "LayoutModel",
          "state": {
            "_view_name": "LayoutView",
            "grid_template_rows": null,
            "right": null,
            "justify_content": null,
            "_view_module": "@jupyter-widgets/base",
            "overflow": null,
            "_model_module_version": "1.2.0",
            "_view_count": null,
            "flex_flow": null,
            "width": null,
            "min_width": null,
            "border": null,
            "align_items": null,
            "bottom": null,
            "_model_module": "@jupyter-widgets/base",
            "top": null,
            "grid_column": null,
            "overflow_y": null,
            "overflow_x": null,
            "grid_auto_flow": null,
            "grid_area": null,
            "grid_template_columns": null,
            "flex": null,
            "_model_name": "LayoutModel",
            "justify_items": null,
            "grid_row": null,
            "max_height": null,
            "align_content": null,
            "visibility": null,
            "align_self": null,
            "height": null,
            "min_height": null,
            "padding": null,
            "grid_auto_rows": null,
            "grid_gap": null,
            "max_width": null,
            "order": null,
            "_view_module_version": "1.2.0",
            "grid_template_areas": null,
            "object_position": null,
            "object_fit": null,
            "grid_auto_columns": null,
            "margin": null,
            "display": null,
            "left": null
          },
          "model_module_version": "1.2.0"
        },
        "cc965eacf200435588bbe61d38d3433e": {
          "model_module": "@jupyter-widgets/controls",
          "model_name": "HBoxModel",
          "state": {
            "_view_name": "HBoxView",
            "_dom_classes": [],
            "_model_name": "HBoxModel",
            "_view_module": "@jupyter-widgets/controls",
            "_model_module_version": "1.5.0",
            "_view_count": null,
            "_view_module_version": "1.5.0",
            "box_style": "",
            "layout": "IPY_MODEL_8f22f38fc3cf4937b0eb7873d2e4feba",
            "_model_module": "@jupyter-widgets/controls",
            "children": [
              "IPY_MODEL_73ccfaecdac6476ebcf425e03bff4c34",
              "IPY_MODEL_abe92759c6474a9b8f32ebd6d325f5f0"
            ]
          },
          "model_module_version": "1.5.0"
        },
        "8f22f38fc3cf4937b0eb7873d2e4feba": {
          "model_module": "@jupyter-widgets/base",
          "model_name": "LayoutModel",
          "state": {
            "_view_name": "LayoutView",
            "grid_template_rows": null,
            "right": null,
            "justify_content": null,
            "_view_module": "@jupyter-widgets/base",
            "overflow": null,
            "_model_module_version": "1.2.0",
            "_view_count": null,
            "flex_flow": null,
            "width": null,
            "min_width": null,
            "border": null,
            "align_items": null,
            "bottom": null,
            "_model_module": "@jupyter-widgets/base",
            "top": null,
            "grid_column": null,
            "overflow_y": null,
            "overflow_x": null,
            "grid_auto_flow": null,
            "grid_area": null,
            "grid_template_columns": null,
            "flex": null,
            "_model_name": "LayoutModel",
            "justify_items": null,
            "grid_row": null,
            "max_height": null,
            "align_content": null,
            "visibility": null,
            "align_self": null,
            "height": null,
            "min_height": null,
            "padding": null,
            "grid_auto_rows": null,
            "grid_gap": null,
            "max_width": null,
            "order": null,
            "_view_module_version": "1.2.0",
            "grid_template_areas": null,
            "object_position": null,
            "object_fit": null,
            "grid_auto_columns": null,
            "margin": null,
            "display": null,
            "left": null
          },
          "model_module_version": "1.2.0"
        },
        "73ccfaecdac6476ebcf425e03bff4c34": {
          "model_module": "@jupyter-widgets/controls",
          "model_name": "FloatProgressModel",
          "state": {
            "_view_name": "ProgressView",
            "style": "IPY_MODEL_0e318f58bf1043e0aee1be88454af443",
            "_dom_classes": [],
            "description": "Downloading: 100%",
            "_model_name": "FloatProgressModel",
            "bar_style": "success",
            "max": 28,
            "_view_module": "@jupyter-widgets/controls",
            "_model_module_version": "1.5.0",
            "value": 28,
            "_view_count": null,
            "_view_module_version": "1.5.0",
            "orientation": "horizontal",
            "min": 0,
            "description_tooltip": null,
            "_model_module": "@jupyter-widgets/controls",
            "layout": "IPY_MODEL_766062c4baf74284832481bfbc8a12c4"
          },
          "model_module_version": "1.5.0"
        },
        "abe92759c6474a9b8f32ebd6d325f5f0": {
          "model_module": "@jupyter-widgets/controls",
          "model_name": "HTMLModel",
          "state": {
            "_view_name": "HTMLView",
            "style": "IPY_MODEL_b6867dec85c04ac2b37a3389cc96e980",
            "_dom_classes": [],
            "description": "",
            "_model_name": "HTMLModel",
            "placeholder": "​",
            "_view_module": "@jupyter-widgets/controls",
            "_model_module_version": "1.5.0",
            "value": " 28.0/28.0 [00:02&lt;00:00, 9.80B/s]",
            "_view_count": null,
            "_view_module_version": "1.5.0",
            "description_tooltip": null,
            "_model_module": "@jupyter-widgets/controls",
            "layout": "IPY_MODEL_c9007b257f294dd9b0532f0013baf214"
          },
          "model_module_version": "1.5.0"
        },
        "0e318f58bf1043e0aee1be88454af443": {
          "model_module": "@jupyter-widgets/controls",
          "model_name": "ProgressStyleModel",
          "state": {
            "_view_name": "StyleView",
            "_model_name": "ProgressStyleModel",
            "description_width": "initial",
            "_view_module": "@jupyter-widgets/base",
            "_model_module_version": "1.5.0",
            "_view_count": null,
            "_view_module_version": "1.2.0",
            "bar_color": null,
            "_model_module": "@jupyter-widgets/controls"
          },
          "model_module_version": "1.5.0"
        },
        "766062c4baf74284832481bfbc8a12c4": {
          "model_module": "@jupyter-widgets/base",
          "model_name": "LayoutModel",
          "state": {
            "_view_name": "LayoutView",
            "grid_template_rows": null,
            "right": null,
            "justify_content": null,
            "_view_module": "@jupyter-widgets/base",
            "overflow": null,
            "_model_module_version": "1.2.0",
            "_view_count": null,
            "flex_flow": null,
            "width": null,
            "min_width": null,
            "border": null,
            "align_items": null,
            "bottom": null,
            "_model_module": "@jupyter-widgets/base",
            "top": null,
            "grid_column": null,
            "overflow_y": null,
            "overflow_x": null,
            "grid_auto_flow": null,
            "grid_area": null,
            "grid_template_columns": null,
            "flex": null,
            "_model_name": "LayoutModel",
            "justify_items": null,
            "grid_row": null,
            "max_height": null,
            "align_content": null,
            "visibility": null,
            "align_self": null,
            "height": null,
            "min_height": null,
            "padding": null,
            "grid_auto_rows": null,
            "grid_gap": null,
            "max_width": null,
            "order": null,
            "_view_module_version": "1.2.0",
            "grid_template_areas": null,
            "object_position": null,
            "object_fit": null,
            "grid_auto_columns": null,
            "margin": null,
            "display": null,
            "left": null
          },
          "model_module_version": "1.2.0"
        },
        "b6867dec85c04ac2b37a3389cc96e980": {
          "model_module": "@jupyter-widgets/controls",
          "model_name": "DescriptionStyleModel",
          "state": {
            "_view_name": "StyleView",
            "_model_name": "DescriptionStyleModel",
            "description_width": "",
            "_view_module": "@jupyter-widgets/base",
            "_model_module_version": "1.5.0",
            "_view_count": null,
            "_view_module_version": "1.2.0",
            "_model_module": "@jupyter-widgets/controls"
          },
          "model_module_version": "1.5.0"
        },
        "c9007b257f294dd9b0532f0013baf214": {
          "model_module": "@jupyter-widgets/base",
          "model_name": "LayoutModel",
          "state": {
            "_view_name": "LayoutView",
            "grid_template_rows": null,
            "right": null,
            "justify_content": null,
            "_view_module": "@jupyter-widgets/base",
            "overflow": null,
            "_model_module_version": "1.2.0",
            "_view_count": null,
            "flex_flow": null,
            "width": null,
            "min_width": null,
            "border": null,
            "align_items": null,
            "bottom": null,
            "_model_module": "@jupyter-widgets/base",
            "top": null,
            "grid_column": null,
            "overflow_y": null,
            "overflow_x": null,
            "grid_auto_flow": null,
            "grid_area": null,
            "grid_template_columns": null,
            "flex": null,
            "_model_name": "LayoutModel",
            "justify_items": null,
            "grid_row": null,
            "max_height": null,
            "align_content": null,
            "visibility": null,
            "align_self": null,
            "height": null,
            "min_height": null,
            "padding": null,
            "grid_auto_rows": null,
            "grid_gap": null,
            "max_width": null,
            "order": null,
            "_view_module_version": "1.2.0",
            "grid_template_areas": null,
            "object_position": null,
            "object_fit": null,
            "grid_auto_columns": null,
            "margin": null,
            "display": null,
            "left": null
          },
          "model_module_version": "1.2.0"
        },
        "b630b4cae63f4890af205c48d2c7f8ab": {
          "model_module": "@jupyter-widgets/controls",
          "model_name": "HBoxModel",
          "state": {
            "_view_name": "HBoxView",
            "_dom_classes": [],
            "_model_name": "HBoxModel",
            "_view_module": "@jupyter-widgets/controls",
            "_model_module_version": "1.5.0",
            "_view_count": null,
            "_view_module_version": "1.5.0",
            "box_style": "",
            "layout": "IPY_MODEL_06246f2c422a4cdda53031a40610d4d9",
            "_model_module": "@jupyter-widgets/controls",
            "children": [
              "IPY_MODEL_f0f7cb9bdda24a80aa9e10a5a3137bd6",
              "IPY_MODEL_4b5633ac6a73400faaa25c61b57c8e4c"
            ]
          },
          "model_module_version": "1.5.0"
        },
        "06246f2c422a4cdda53031a40610d4d9": {
          "model_module": "@jupyter-widgets/base",
          "model_name": "LayoutModel",
          "state": {
            "_view_name": "LayoutView",
            "grid_template_rows": null,
            "right": null,
            "justify_content": null,
            "_view_module": "@jupyter-widgets/base",
            "overflow": null,
            "_model_module_version": "1.2.0",
            "_view_count": null,
            "flex_flow": null,
            "width": null,
            "min_width": null,
            "border": null,
            "align_items": null,
            "bottom": null,
            "_model_module": "@jupyter-widgets/base",
            "top": null,
            "grid_column": null,
            "overflow_y": null,
            "overflow_x": null,
            "grid_auto_flow": null,
            "grid_area": null,
            "grid_template_columns": null,
            "flex": null,
            "_model_name": "LayoutModel",
            "justify_items": null,
            "grid_row": null,
            "max_height": null,
            "align_content": null,
            "visibility": null,
            "align_self": null,
            "height": null,
            "min_height": null,
            "padding": null,
            "grid_auto_rows": null,
            "grid_gap": null,
            "max_width": null,
            "order": null,
            "_view_module_version": "1.2.0",
            "grid_template_areas": null,
            "object_position": null,
            "object_fit": null,
            "grid_auto_columns": null,
            "margin": null,
            "display": null,
            "left": null
          },
          "model_module_version": "1.2.0"
        },
        "f0f7cb9bdda24a80aa9e10a5a3137bd6": {
          "model_module": "@jupyter-widgets/controls",
          "model_name": "FloatProgressModel",
          "state": {
            "_view_name": "ProgressView",
            "style": "IPY_MODEL_ecb2cb6b466144a6a482ed8c7e9089c9",
            "_dom_classes": [],
            "description": "Downloading: 100%",
            "_model_name": "FloatProgressModel",
            "bar_style": "success",
            "max": 442,
            "_view_module": "@jupyter-widgets/controls",
            "_model_module_version": "1.5.0",
            "value": 442,
            "_view_count": null,
            "_view_module_version": "1.5.0",
            "orientation": "horizontal",
            "min": 0,
            "description_tooltip": null,
            "_model_module": "@jupyter-widgets/controls",
            "layout": "IPY_MODEL_050d90e797804a489bbf6c41b59aff4f"
          },
          "model_module_version": "1.5.0"
        },
        "4b5633ac6a73400faaa25c61b57c8e4c": {
          "model_module": "@jupyter-widgets/controls",
          "model_name": "HTMLModel",
          "state": {
            "_view_name": "HTMLView",
            "style": "IPY_MODEL_7ccb3a8d1cb24c7ea3de07d66555f9aa",
            "_dom_classes": [],
            "description": "",
            "_model_name": "HTMLModel",
            "placeholder": "​",
            "_view_module": "@jupyter-widgets/controls",
            "_model_module_version": "1.5.0",
            "value": " 442/442 [00:01&lt;00:00, 365B/s]",
            "_view_count": null,
            "_view_module_version": "1.5.0",
            "description_tooltip": null,
            "_model_module": "@jupyter-widgets/controls",
            "layout": "IPY_MODEL_da708fa410274c05bcba42b7af707d19"
          },
          "model_module_version": "1.5.0"
        },
        "ecb2cb6b466144a6a482ed8c7e9089c9": {
          "model_module": "@jupyter-widgets/controls",
          "model_name": "ProgressStyleModel",
          "state": {
            "_view_name": "StyleView",
            "_model_name": "ProgressStyleModel",
            "description_width": "initial",
            "_view_module": "@jupyter-widgets/base",
            "_model_module_version": "1.5.0",
            "_view_count": null,
            "_view_module_version": "1.2.0",
            "bar_color": null,
            "_model_module": "@jupyter-widgets/controls"
          },
          "model_module_version": "1.5.0"
        },
        "050d90e797804a489bbf6c41b59aff4f": {
          "model_module": "@jupyter-widgets/base",
          "model_name": "LayoutModel",
          "state": {
            "_view_name": "LayoutView",
            "grid_template_rows": null,
            "right": null,
            "justify_content": null,
            "_view_module": "@jupyter-widgets/base",
            "overflow": null,
            "_model_module_version": "1.2.0",
            "_view_count": null,
            "flex_flow": null,
            "width": null,
            "min_width": null,
            "border": null,
            "align_items": null,
            "bottom": null,
            "_model_module": "@jupyter-widgets/base",
            "top": null,
            "grid_column": null,
            "overflow_y": null,
            "overflow_x": null,
            "grid_auto_flow": null,
            "grid_area": null,
            "grid_template_columns": null,
            "flex": null,
            "_model_name": "LayoutModel",
            "justify_items": null,
            "grid_row": null,
            "max_height": null,
            "align_content": null,
            "visibility": null,
            "align_self": null,
            "height": null,
            "min_height": null,
            "padding": null,
            "grid_auto_rows": null,
            "grid_gap": null,
            "max_width": null,
            "order": null,
            "_view_module_version": "1.2.0",
            "grid_template_areas": null,
            "object_position": null,
            "object_fit": null,
            "grid_auto_columns": null,
            "margin": null,
            "display": null,
            "left": null
          },
          "model_module_version": "1.2.0"
        },
        "7ccb3a8d1cb24c7ea3de07d66555f9aa": {
          "model_module": "@jupyter-widgets/controls",
          "model_name": "DescriptionStyleModel",
          "state": {
            "_view_name": "StyleView",
            "_model_name": "DescriptionStyleModel",
            "description_width": "",
            "_view_module": "@jupyter-widgets/base",
            "_model_module_version": "1.5.0",
            "_view_count": null,
            "_view_module_version": "1.2.0",
            "_model_module": "@jupyter-widgets/controls"
          },
          "model_module_version": "1.5.0"
        },
        "da708fa410274c05bcba42b7af707d19": {
          "model_module": "@jupyter-widgets/base",
          "model_name": "LayoutModel",
          "state": {
            "_view_name": "LayoutView",
            "grid_template_rows": null,
            "right": null,
            "justify_content": null,
            "_view_module": "@jupyter-widgets/base",
            "overflow": null,
            "_model_module_version": "1.2.0",
            "_view_count": null,
            "flex_flow": null,
            "width": null,
            "min_width": null,
            "border": null,
            "align_items": null,
            "bottom": null,
            "_model_module": "@jupyter-widgets/base",
            "top": null,
            "grid_column": null,
            "overflow_y": null,
            "overflow_x": null,
            "grid_auto_flow": null,
            "grid_area": null,
            "grid_template_columns": null,
            "flex": null,
            "_model_name": "LayoutModel",
            "justify_items": null,
            "grid_row": null,
            "max_height": null,
            "align_content": null,
            "visibility": null,
            "align_self": null,
            "height": null,
            "min_height": null,
            "padding": null,
            "grid_auto_rows": null,
            "grid_gap": null,
            "max_width": null,
            "order": null,
            "_view_module_version": "1.2.0",
            "grid_template_areas": null,
            "object_position": null,
            "object_fit": null,
            "grid_auto_columns": null,
            "margin": null,
            "display": null,
            "left": null
          },
          "model_module_version": "1.2.0"
        },
        "3b74d4690b4b40fe8870daa2b09a27da": {
          "model_module": "@jupyter-widgets/controls",
          "model_name": "HBoxModel",
          "state": {
            "_view_name": "HBoxView",
            "_dom_classes": [],
            "_model_name": "HBoxModel",
            "_view_module": "@jupyter-widgets/controls",
            "_model_module_version": "1.5.0",
            "_view_count": null,
            "_view_module_version": "1.5.0",
            "box_style": "",
            "layout": "IPY_MODEL_84b90c2f68fe4cacaa625673133b5619",
            "_model_module": "@jupyter-widgets/controls",
            "children": [
              "IPY_MODEL_26670ea8e9c84d02b2933cc483554ac5",
              "IPY_MODEL_98bb30e09801426c87966a2e0a5c83ab"
            ]
          },
          "model_module_version": "1.5.0"
        },
        "84b90c2f68fe4cacaa625673133b5619": {
          "model_module": "@jupyter-widgets/base",
          "model_name": "LayoutModel",
          "state": {
            "_view_name": "LayoutView",
            "grid_template_rows": null,
            "right": null,
            "justify_content": null,
            "_view_module": "@jupyter-widgets/base",
            "overflow": null,
            "_model_module_version": "1.2.0",
            "_view_count": null,
            "flex_flow": null,
            "width": null,
            "min_width": null,
            "border": null,
            "align_items": null,
            "bottom": null,
            "_model_module": "@jupyter-widgets/base",
            "top": null,
            "grid_column": null,
            "overflow_y": null,
            "overflow_x": null,
            "grid_auto_flow": null,
            "grid_area": null,
            "grid_template_columns": null,
            "flex": null,
            "_model_name": "LayoutModel",
            "justify_items": null,
            "grid_row": null,
            "max_height": null,
            "align_content": null,
            "visibility": null,
            "align_self": null,
            "height": null,
            "min_height": null,
            "padding": null,
            "grid_auto_rows": null,
            "grid_gap": null,
            "max_width": null,
            "order": null,
            "_view_module_version": "1.2.0",
            "grid_template_areas": null,
            "object_position": null,
            "object_fit": null,
            "grid_auto_columns": null,
            "margin": null,
            "display": null,
            "left": null
          },
          "model_module_version": "1.2.0"
        },
        "26670ea8e9c84d02b2933cc483554ac5": {
          "model_module": "@jupyter-widgets/controls",
          "model_name": "FloatProgressModel",
          "state": {
            "_view_name": "ProgressView",
            "style": "IPY_MODEL_cbf9ca687350418d833a3d55c195f4b9",
            "_dom_classes": [],
            "description": "Downloading: 100%",
            "_model_name": "FloatProgressModel",
            "bar_style": "success",
            "max": 363423424,
            "_view_module": "@jupyter-widgets/controls",
            "_model_module_version": "1.5.0",
            "value": 363423424,
            "_view_count": null,
            "_view_module_version": "1.5.0",
            "orientation": "horizontal",
            "min": 0,
            "description_tooltip": null,
            "_model_module": "@jupyter-widgets/controls",
            "layout": "IPY_MODEL_077ccd3a28e34f9f8349a627f083c49d"
          },
          "model_module_version": "1.5.0"
        },
        "98bb30e09801426c87966a2e0a5c83ab": {
          "model_module": "@jupyter-widgets/controls",
          "model_name": "HTMLModel",
          "state": {
            "_view_name": "HTMLView",
            "style": "IPY_MODEL_2c69746a1ba64f8e90019e67c28206a4",
            "_dom_classes": [],
            "description": "",
            "_model_name": "HTMLModel",
            "placeholder": "​",
            "_view_module": "@jupyter-widgets/controls",
            "_model_module_version": "1.5.0",
            "value": " 363M/363M [00:11&lt;00:00, 30.5MB/s]",
            "_view_count": null,
            "_view_module_version": "1.5.0",
            "description_tooltip": null,
            "_model_module": "@jupyter-widgets/controls",
            "layout": "IPY_MODEL_c0af81edc48f4a2fa47315e63b749d0f"
          },
          "model_module_version": "1.5.0"
        },
        "cbf9ca687350418d833a3d55c195f4b9": {
          "model_module": "@jupyter-widgets/controls",
          "model_name": "ProgressStyleModel",
          "state": {
            "_view_name": "StyleView",
            "_model_name": "ProgressStyleModel",
            "description_width": "initial",
            "_view_module": "@jupyter-widgets/base",
            "_model_module_version": "1.5.0",
            "_view_count": null,
            "_view_module_version": "1.2.0",
            "bar_color": null,
            "_model_module": "@jupyter-widgets/controls"
          },
          "model_module_version": "1.5.0"
        },
        "077ccd3a28e34f9f8349a627f083c49d": {
          "model_module": "@jupyter-widgets/base",
          "model_name": "LayoutModel",
          "state": {
            "_view_name": "LayoutView",
            "grid_template_rows": null,
            "right": null,
            "justify_content": null,
            "_view_module": "@jupyter-widgets/base",
            "overflow": null,
            "_model_module_version": "1.2.0",
            "_view_count": null,
            "flex_flow": null,
            "width": null,
            "min_width": null,
            "border": null,
            "align_items": null,
            "bottom": null,
            "_model_module": "@jupyter-widgets/base",
            "top": null,
            "grid_column": null,
            "overflow_y": null,
            "overflow_x": null,
            "grid_auto_flow": null,
            "grid_area": null,
            "grid_template_columns": null,
            "flex": null,
            "_model_name": "LayoutModel",
            "justify_items": null,
            "grid_row": null,
            "max_height": null,
            "align_content": null,
            "visibility": null,
            "align_self": null,
            "height": null,
            "min_height": null,
            "padding": null,
            "grid_auto_rows": null,
            "grid_gap": null,
            "max_width": null,
            "order": null,
            "_view_module_version": "1.2.0",
            "grid_template_areas": null,
            "object_position": null,
            "object_fit": null,
            "grid_auto_columns": null,
            "margin": null,
            "display": null,
            "left": null
          },
          "model_module_version": "1.2.0"
        },
        "2c69746a1ba64f8e90019e67c28206a4": {
          "model_module": "@jupyter-widgets/controls",
          "model_name": "DescriptionStyleModel",
          "state": {
            "_view_name": "StyleView",
            "_model_name": "DescriptionStyleModel",
            "description_width": "",
            "_view_module": "@jupyter-widgets/base",
            "_model_module_version": "1.5.0",
            "_view_count": null,
            "_view_module_version": "1.2.0",
            "_model_module": "@jupyter-widgets/controls"
          },
          "model_module_version": "1.5.0"
        },
        "c0af81edc48f4a2fa47315e63b749d0f": {
          "model_module": "@jupyter-widgets/base",
          "model_name": "LayoutModel",
          "state": {
            "_view_name": "LayoutView",
            "grid_template_rows": null,
            "right": null,
            "justify_content": null,
            "_view_module": "@jupyter-widgets/base",
            "overflow": null,
            "_model_module_version": "1.2.0",
            "_view_count": null,
            "flex_flow": null,
            "width": null,
            "min_width": null,
            "border": null,
            "align_items": null,
            "bottom": null,
            "_model_module": "@jupyter-widgets/base",
            "top": null,
            "grid_column": null,
            "overflow_y": null,
            "overflow_x": null,
            "grid_auto_flow": null,
            "grid_area": null,
            "grid_template_columns": null,
            "flex": null,
            "_model_name": "LayoutModel",
            "justify_items": null,
            "grid_row": null,
            "max_height": null,
            "align_content": null,
            "visibility": null,
            "align_self": null,
            "height": null,
            "min_height": null,
            "padding": null,
            "grid_auto_rows": null,
            "grid_gap": null,
            "max_width": null,
            "order": null,
            "_view_module_version": "1.2.0",
            "grid_template_areas": null,
            "object_position": null,
            "object_fit": null,
            "grid_auto_columns": null,
            "margin": null,
            "display": null,
            "left": null
          },
          "model_module_version": "1.2.0"
        }
      }
    }
  },
  "cells": [
    {
      "cell_type": "markdown",
      "metadata": {
        "id": "lEl8X8mQgYWM"
      },
      "source": [
        "# Fine-tuning the BERT model for Tip Mining\n",
        "Combination of Huggingface library and TensorFlow \n",
        " --------------------------------------\n",
        "@author: Erik van der Heide, EUR 2021-2022"
      ]
    },
    {
      "cell_type": "code",
      "metadata": {
        "colab": {
          "base_uri": "https://localhost:8080/"
        },
        "id": "YAG9N3Rixr2I",
        "outputId": "52b56f9a-c752-425a-d402-8ac62a021caa"
      },
      "source": [
        "!nvidia-smi"
      ],
      "execution_count": null,
      "outputs": [
        {
          "output_type": "stream",
          "text": [
            "Wed Jun 23 07:30:39 2021       \n",
            "+-----------------------------------------------------------------------------+\n",
            "| NVIDIA-SMI 465.27       Driver Version: 460.32.03    CUDA Version: 11.2     |\n",
            "|-------------------------------+----------------------+----------------------+\n",
            "| GPU  Name        Persistence-M| Bus-Id        Disp.A | Volatile Uncorr. ECC |\n",
            "| Fan  Temp  Perf  Pwr:Usage/Cap|         Memory-Usage | GPU-Util  Compute M. |\n",
            "|                               |                      |               MIG M. |\n",
            "|===============================+======================+======================|\n",
            "|   0  Tesla K80           Off  | 00000000:00:04.0 Off |                    0 |\n",
            "| N/A   38C    P8    27W / 149W |      0MiB / 11441MiB |      0%      Default |\n",
            "|                               |                      |                  N/A |\n",
            "+-------------------------------+----------------------+----------------------+\n",
            "                                                                               \n",
            "+-----------------------------------------------------------------------------+\n",
            "| Processes:                                                                  |\n",
            "|  GPU   GI   CI        PID   Type   Process name                  GPU Memory |\n",
            "|        ID   ID                                                   Usage      |\n",
            "|=============================================================================|\n",
            "|  No running processes found                                                 |\n",
            "+-----------------------------------------------------------------------------+\n"
          ],
          "name": "stdout"
        }
      ]
    },
    {
      "cell_type": "markdown",
      "metadata": {
        "id": "zwKM4ly4GrDB"
      },
      "source": [
        "### Hyperparameters"
      ]
    },
    {
      "cell_type": "code",
      "metadata": {
        "id": "OPCdninmiEoS"
      },
      "source": [
        "# Hyperparameters\n",
        "data_type = 'fullf'        # Choose data 'subsetX' or 'full'\n",
        "model_type = 'distilbert'  # Choose model 'bert', 'distilbert' or 'roberta'\n",
        "optim_type = 'adam'        # Choose optimizer 'Adam' or 'AdamW'\n",
        "use_weights = False         # True when using class weights for unbalanced data, False ow\n",
        "max_seq_length = 64        # define maximum length (32, 64)\n",
        "train_batch_size = 16      # define batch size (16, 32)\n",
        "learning_rate = 2e-5       # define learning rate (2e-5, 3e-5, 5e-5)\n",
        "num_epochs = 2             # define nr. of epoch (1, 2, 3, 4)"
      ],
      "execution_count": null,
      "outputs": []
    },
    {
      "cell_type": "markdown",
      "metadata": {
        "id": "Q4JY9K4cHll0"
      },
      "source": [
        "### Installations & packages"
      ]
    },
    {
      "cell_type": "code",
      "metadata": {
        "id": "M8MANF7XgMUX",
        "colab": {
          "base_uri": "https://localhost:8080/"
        },
        "outputId": "715da707-8e61-4602-f12d-d04a47cb1415"
      },
      "source": [
        "# Install transformers\n",
        "!pip install transformers"
      ],
      "execution_count": null,
      "outputs": [
        {
          "output_type": "stream",
          "text": [
            "Collecting transformers\n",
            "\u001b[?25l  Downloading https://files.pythonhosted.org/packages/00/92/6153f4912b84ee1ab53ab45663d23e7cf3704161cb5ef18b0c07e207cef2/transformers-4.7.0-py3-none-any.whl (2.5MB)\n",
            "\u001b[K     |████████████████████████████████| 2.5MB 5.5MB/s \n",
            "\u001b[?25hCollecting huggingface-hub==0.0.8\n",
            "  Downloading https://files.pythonhosted.org/packages/a1/88/7b1e45720ecf59c6c6737ff332f41c955963090a18e72acbcbeac6b25e86/huggingface_hub-0.0.8-py3-none-any.whl\n",
            "Requirement already satisfied: requests in /usr/local/lib/python3.7/dist-packages (from transformers) (2.23.0)\n",
            "Requirement already satisfied: numpy>=1.17 in /usr/local/lib/python3.7/dist-packages (from transformers) (1.19.5)\n",
            "Collecting tokenizers<0.11,>=0.10.1\n",
            "\u001b[?25l  Downloading https://files.pythonhosted.org/packages/d4/e2/df3543e8ffdab68f5acc73f613de9c2b155ac47f162e725dcac87c521c11/tokenizers-0.10.3-cp37-cp37m-manylinux_2_5_x86_64.manylinux1_x86_64.manylinux_2_12_x86_64.manylinux2010_x86_64.whl (3.3MB)\n",
            "\u001b[K     |████████████████████████████████| 3.3MB 23.5MB/s \n",
            "\u001b[?25hRequirement already satisfied: tqdm>=4.27 in /usr/local/lib/python3.7/dist-packages (from transformers) (4.41.1)\n",
            "Requirement already satisfied: filelock in /usr/local/lib/python3.7/dist-packages (from transformers) (3.0.12)\n",
            "Requirement already satisfied: pyyaml in /usr/local/lib/python3.7/dist-packages (from transformers) (3.13)\n",
            "Requirement already satisfied: importlib-metadata; python_version < \"3.8\" in /usr/local/lib/python3.7/dist-packages (from transformers) (4.5.0)\n",
            "Requirement already satisfied: packaging in /usr/local/lib/python3.7/dist-packages (from transformers) (20.9)\n",
            "Collecting sacremoses\n",
            "\u001b[?25l  Downloading https://files.pythonhosted.org/packages/75/ee/67241dc87f266093c533a2d4d3d69438e57d7a90abb216fa076e7d475d4a/sacremoses-0.0.45-py3-none-any.whl (895kB)\n",
            "\u001b[K     |████████████████████████████████| 901kB 37.7MB/s \n",
            "\u001b[?25hRequirement already satisfied: regex!=2019.12.17 in /usr/local/lib/python3.7/dist-packages (from transformers) (2019.12.20)\n",
            "Requirement already satisfied: urllib3!=1.25.0,!=1.25.1,<1.26,>=1.21.1 in /usr/local/lib/python3.7/dist-packages (from requests->transformers) (1.24.3)\n",
            "Requirement already satisfied: chardet<4,>=3.0.2 in /usr/local/lib/python3.7/dist-packages (from requests->transformers) (3.0.4)\n",
            "Requirement already satisfied: idna<3,>=2.5 in /usr/local/lib/python3.7/dist-packages (from requests->transformers) (2.10)\n",
            "Requirement already satisfied: certifi>=2017.4.17 in /usr/local/lib/python3.7/dist-packages (from requests->transformers) (2021.5.30)\n",
            "Requirement already satisfied: typing-extensions>=3.6.4; python_version < \"3.8\" in /usr/local/lib/python3.7/dist-packages (from importlib-metadata; python_version < \"3.8\"->transformers) (3.7.4.3)\n",
            "Requirement already satisfied: zipp>=0.5 in /usr/local/lib/python3.7/dist-packages (from importlib-metadata; python_version < \"3.8\"->transformers) (3.4.1)\n",
            "Requirement already satisfied: pyparsing>=2.0.2 in /usr/local/lib/python3.7/dist-packages (from packaging->transformers) (2.4.7)\n",
            "Requirement already satisfied: click in /usr/local/lib/python3.7/dist-packages (from sacremoses->transformers) (7.1.2)\n",
            "Requirement already satisfied: joblib in /usr/local/lib/python3.7/dist-packages (from sacremoses->transformers) (1.0.1)\n",
            "Requirement already satisfied: six in /usr/local/lib/python3.7/dist-packages (from sacremoses->transformers) (1.15.0)\n",
            "Installing collected packages: huggingface-hub, tokenizers, sacremoses, transformers\n",
            "Successfully installed huggingface-hub-0.0.8 sacremoses-0.0.45 tokenizers-0.10.3 transformers-4.7.0\n"
          ],
          "name": "stdout"
        }
      ]
    },
    {
      "cell_type": "code",
      "metadata": {
        "id": "9PND8MMOj6GZ"
      },
      "source": [
        "# Install tensorflow model environment\n",
        "#!pip install -q tf-models-official"
      ],
      "execution_count": null,
      "outputs": []
    },
    {
      "cell_type": "code",
      "metadata": {
        "id": "chlnSn9XjmGS"
      },
      "source": [
        "# Packages\n",
        "import pandas as pd\n",
        "import time\n",
        "import random\n",
        "\n",
        "import torch\n",
        "import torch.nn as nn\n",
        "import tensorflow as tf\n",
        "#from official.nlp import optimization\n",
        "\n",
        "from transformers import BertTokenizerFast, DistilBertTokenizerFast, RobertaTokenizerFast\n",
        "from transformers import TFDistilBertForSequenceClassification\n",
        "from transformers import TFBertForSequenceClassification\n",
        "from transformers import TFRobertaForSequenceClassification\n",
        "\n",
        "import matplotlib.pyplot as plt\n",
        "from sklearn.model_selection import train_test_split\n",
        "from sklearn.metrics import precision_score, recall_score, f1_score\n",
        "from sklearn.metrics import roc_auc_score, accuracy_score, precision_recall_curve\n",
        "from sklearn.metrics import confusion_matrix"
      ],
      "execution_count": null,
      "outputs": []
    },
    {
      "cell_type": "markdown",
      "metadata": {
        "id": "i-kFITrbixaV"
      },
      "source": [
        "### Loading the data"
      ]
    },
    {
      "cell_type": "code",
      "metadata": {
        "colab": {
          "base_uri": "https://localhost:8080/"
        },
        "id": "WfNhXJtRh4XW",
        "outputId": "5c455699-6b17-4922-e09b-4dc226b951cf"
      },
      "source": [
        "from google.colab import drive\n",
        "drive.mount('/content/drive')"
      ],
      "execution_count": null,
      "outputs": [
        {
          "output_type": "stream",
          "text": [
            "Mounted at /content/drive\n"
          ],
          "name": "stdout"
        }
      ]
    },
    {
      "cell_type": "code",
      "metadata": {
        "id": "98HkvQFVh-K2",
        "colab": {
          "base_uri": "https://localhost:8080/"
        },
        "outputId": "87410065-eb29-4e88-d85f-9f600d382546"
      },
      "source": [
        "# Data for debugging\n",
        "if data_type=='subset' : path =\"drive/MyDrive/Thesis BA&QM 2021/Data/td_clean_subset.csv\"\n",
        "if data_type=='subsetf': path =\"drive/MyDrive/Thesis BA&QM 2021/Data/td_clean_subset_filtered.csv\" \n",
        "if data_type=='full'   : path =\"drive/MyDrive/Thesis BA&QM 2021/Data/td_clean.csv\"    \n",
        "if data_type=='fullf'  : path =\"drive/MyDrive/Thesis BA&QM 2021/Data/td_clean_full_filtered.csv\"   \n",
        "\n",
        "# Data for running\n",
        "if data_type=='subset1': path =\"drive/MyDrive/Thesis BA&QM 2021/Data/td_clean_subset1.csv\"\n",
        "if data_type=='subset2': path =\"drive/MyDrive/Thesis BA&QM 2021/Data/td_clean_subset2.csv\"\n",
        "if data_type=='subset3': path =\"drive/MyDrive/Thesis BA&QM 2021/Data/td_clean_subset3.csv\"\n",
        "if data_type=='subset4': path =\"drive/MyDrive/Thesis BA&QM 2021/Data/td_clean_subset4.csv\"\n",
        "if data_type=='subset5': path =\"drive/MyDrive/Thesis BA&QM 2021/Data/td_clean_subset5.csv\"\n",
        "\n",
        "# Data for categories (5050 manually)\n",
        "if data_type=='baby'  : path =\"drive/MyDrive/Thesis BA&QM 2021/Data/td_clean_baby5050.csv\"\n",
        "if data_type=='music' : path =\"drive/MyDrive/Thesis BA&QM 2021/Data/td_clean_music5050.csv\"\n",
        "if data_type=='sports': path =\"drive/MyDrive/Thesis BA&QM 2021/Data/td_clean_sports5050.csv\"\n",
        "if data_type=='tools' : path =\"drive/MyDrive/Thesis BA&QM 2021/Data/td_clean_tools5050.csv\"\n",
        "if data_type=='toys'  : path =\"drive/MyDrive/Thesis BA&QM 2021/Data/td_clean_toys5050.csv\"\n",
        "if data_type=='random': path =\"drive/MyDrive/Thesis BA&QM 2021/Data/td_clean_random5050.csv\"\n",
        "\n",
        "# Read in data\n",
        "df = pd.read_csv(path, sep=\"\\t\", header=0)\n",
        "print(path)"
      ],
      "execution_count": null,
      "outputs": [
        {
          "output_type": "stream",
          "text": [
            "drive/MyDrive/Thesis BA&QM 2021/Data/td_clean_full_filtered.csv\n"
          ],
          "name": "stdout"
        }
      ]
    },
    {
      "cell_type": "code",
      "metadata": {
        "id": "Ijs6Y9eWh_tt",
        "colab": {
          "base_uri": "https://localhost:8080/"
        },
        "outputId": "68a113a7-d75e-44f7-e7ba-b3c6b56dcfa9"
      },
      "source": [
        "# Choose which data you want to use\n",
        "df = df[['sentence', 'tip']]\n",
        "df.reset_index(drop=True, inplace=True)\n",
        "df['tip'] = df['tip'].astype(int)\n",
        "print(f\"Tip distribution:\\n{df['tip'].value_counts(normalize=True)}\")\n",
        "df.dtypes"
      ],
      "execution_count": null,
      "outputs": [
        {
          "output_type": "stream",
          "text": [
            "Tip distribution:\n",
            "0    0.945627\n",
            "1    0.054373\n",
            "Name: tip, dtype: float64\n"
          ],
          "name": "stdout"
        },
        {
          "output_type": "execute_result",
          "data": {
            "text/plain": [
              "sentence    object\n",
              "tip          int64\n",
              "dtype: object"
            ]
          },
          "metadata": {
            "tags": []
          },
          "execution_count": 9
        }
      ]
    },
    {
      "cell_type": "markdown",
      "metadata": {
        "id": "TI4A80_pJCkD"
      },
      "source": [
        "We split the data into 65% training, 15% validation and 20% testing."
      ]
    },
    {
      "cell_type": "code",
      "metadata": {
        "colab": {
          "base_uri": "https://localhost:8080/"
        },
        "id": "67OWFeVXSqQm",
        "outputId": "2d63649c-51f2-4a0f-bf52-8a97eab99f7a"
      },
      "source": [
        "if data_type[-1] in ['0','1','2','3','4','5','6','7','8','9']: \n",
        "  rand_state = int(data_type[-1]) \n",
        "else:\n",
        "  rand_state = 0\n",
        "print(f\"Random state: {rand_state} \\n\")\n",
        "\n",
        "# Train+validation and test split\n",
        "X_train, X_test, y_train, y_test = train_test_split(df['sentence'], df['tip'], random_state=rand_state,  train_size=0.8, stratify=df['tip'])\n",
        "\n",
        "# Train and validation split\n",
        "#X_train, X_val, y_train, y_val = train_test_split(X_trainval, y_trainval, random_state=0, train_size = 0.65/0.8, stratify=y_trainval)\n",
        "\n",
        "# Reset indices\n",
        "#X_train.reset_index(drop=True, inplace=True), y_train.reset_index(drop=True, inplace=True)\n",
        "#X_val.reset_index(drop=True, inplace=True), y_val.reset_index(drop=True, inplace=True)\n",
        "#X_test.reset_index(drop=True, inplace=True), y_test.reset_index(drop=True, inplace=True)\n",
        "\n",
        "# Sizes & example:\n",
        "print(f\"Train size : {X_train.size} - {100*round(X_train.size/df.shape[0], 2)}% - ratio {round(y_train.value_counts(normalize=True)[0],2)}-{round(y_train.value_counts(normalize=True)[1],2)}\")\n",
        "#print(f\"Valid size : {X_val.size} - {100*round(X_val.size/df.shape[0], 2)}% - ratio {round(y_val.value_counts(normalize=True)[0],2)}-{round(y_val.value_counts(normalize=True)[1],2)}\") \n",
        "print(f\"Test size  : {X_test.size} - {100*round(X_test.size/df.shape[0], 2)}% - ratio {round(y_test.value_counts(normalize=True)[0],2)}-{round(y_test.value_counts(normalize=True)[1],2)}\") \n",
        "#print(f\"\\nExample train data: X = '{X_train[0]}'  y = {y_train[0]}\")"
      ],
      "execution_count": null,
      "outputs": [
        {
          "output_type": "stream",
          "text": [
            "Random state: 0 \n",
            "\n",
            "Train size : 49628 - 80.0% - ratio 0.95-0.05\n",
            "Test size  : 12407 - 20.0% - ratio 0.95-0.05\n"
          ],
          "name": "stdout"
        }
      ]
    },
    {
      "cell_type": "markdown",
      "metadata": {
        "id": "XxITzUEzi1dU"
      },
      "source": [
        "### Tokenization"
      ]
    },
    {
      "cell_type": "markdown",
      "metadata": {
        "id": "HOm13llsVosx"
      },
      "source": [
        "Choose a tokenizer corresponding to your model of choice."
      ]
    },
    {
      "cell_type": "code",
      "metadata": {
        "colab": {
          "base_uri": "https://localhost:8080/",
          "height": 201,
          "referenced_widgets": [
            "335f09f612f548ab9ed35cd3fb1c4cb4",
            "77e8e36d28ca4c01bf043ac9e7975310",
            "e3569eaf00c3492a8de0d91aa3c72266",
            "e7bbff4501af40a79b45b0f139e94fb8",
            "6fd2729552eb40d1b75223858ce72061",
            "a64ca71ab5674287a9d27628398ed11d",
            "091e9097b826463e966dd1e90147d6b6",
            "cd8981debb6a48e7bd3be3f045381553",
            "374701e5df4943abb1b2b04e965e0b9e",
            "b83315cf8e9f45c3af32cede6644186b",
            "39d741a8a2f64c71adfc5ab6abaadf81",
            "29a2fd5795fe4d13b773f26c46d1e099",
            "6a860e91932349c9b60929cd03fe80fa",
            "794e57739c72480494d0514c8fb958f9",
            "03db236b849048e2a4ca2ae7d436136c",
            "0d4ca8d91c8c4f1fb35138135807cca6",
            "cc965eacf200435588bbe61d38d3433e",
            "8f22f38fc3cf4937b0eb7873d2e4feba",
            "73ccfaecdac6476ebcf425e03bff4c34",
            "abe92759c6474a9b8f32ebd6d325f5f0",
            "0e318f58bf1043e0aee1be88454af443",
            "766062c4baf74284832481bfbc8a12c4",
            "b6867dec85c04ac2b37a3389cc96e980",
            "c9007b257f294dd9b0532f0013baf214"
          ]
        },
        "id": "JlvyO6TK36Sz",
        "outputId": "20adbd47-ec65-46ae-c5a0-aed97924d76c"
      },
      "source": [
        "if model_type.lower() == 'distilbert':\n",
        "  tokenizer = DistilBertTokenizerFast.from_pretrained('distilbert-base-uncased')\n",
        "elif model_type.lower() == 'bert':\n",
        "  tokenizer = BertTokenizerFast.from_pretrained('bert-base-uncased')\n",
        "elif model_type.lower() == 'roberta':\n",
        "  tokenizer = RobertaTokenizerFast.from_pretrained('roberta-base')\n",
        "tokenizer"
      ],
      "execution_count": null,
      "outputs": [
        {
          "output_type": "display_data",
          "data": {
            "application/vnd.jupyter.widget-view+json": {
              "model_id": "335f09f612f548ab9ed35cd3fb1c4cb4",
              "version_minor": 0,
              "version_major": 2
            },
            "text/plain": [
              "HBox(children=(FloatProgress(value=0.0, description='Downloading', max=231508.0, style=ProgressStyle(descripti…"
            ]
          },
          "metadata": {
            "tags": []
          }
        },
        {
          "output_type": "stream",
          "text": [
            "\n"
          ],
          "name": "stdout"
        },
        {
          "output_type": "display_data",
          "data": {
            "application/vnd.jupyter.widget-view+json": {
              "model_id": "374701e5df4943abb1b2b04e965e0b9e",
              "version_minor": 0,
              "version_major": 2
            },
            "text/plain": [
              "HBox(children=(FloatProgress(value=0.0, description='Downloading', max=466062.0, style=ProgressStyle(descripti…"
            ]
          },
          "metadata": {
            "tags": []
          }
        },
        {
          "output_type": "stream",
          "text": [
            "\n"
          ],
          "name": "stdout"
        },
        {
          "output_type": "display_data",
          "data": {
            "application/vnd.jupyter.widget-view+json": {
              "model_id": "cc965eacf200435588bbe61d38d3433e",
              "version_minor": 0,
              "version_major": 2
            },
            "text/plain": [
              "HBox(children=(FloatProgress(value=0.0, description='Downloading', max=28.0, style=ProgressStyle(description_w…"
            ]
          },
          "metadata": {
            "tags": []
          }
        },
        {
          "output_type": "stream",
          "text": [
            "\n"
          ],
          "name": "stdout"
        },
        {
          "output_type": "execute_result",
          "data": {
            "text/plain": [
              "PreTrainedTokenizerFast(name_or_path='distilbert-base-uncased', vocab_size=30522, model_max_len=512, is_fast=True, padding_side='right', special_tokens={'unk_token': '[UNK]', 'sep_token': '[SEP]', 'pad_token': '[PAD]', 'cls_token': '[CLS]', 'mask_token': '[MASK]'})"
            ]
          },
          "metadata": {
            "tags": []
          },
          "execution_count": 11
        }
      ]
    },
    {
      "cell_type": "markdown",
      "metadata": {
        "id": "NHuaJVHKchXl"
      },
      "source": [
        "Tokenize the training, validation and test set."
      ]
    },
    {
      "cell_type": "code",
      "metadata": {
        "id": "osqHdzuRi4l2"
      },
      "source": [
        "train_encodings = tokenizer(X_train.tolist(), truncation=True, padding=True, max_length=max_seq_length)\n",
        "#val_encodings = tokenizer(X_val.tolist(), truncation=True, padding=True, max_length=max_seq_length)\n",
        "test_encodings = tokenizer(X_test.tolist(), truncation=True, padding=True, max_length=max_seq_length)\n",
        "\n",
        "# Example\n",
        "#print(f\"Example        : {X_train[0]}\")\n",
        "#toks = ['CLS'] + tokenizer.tokenize(X_train[0]) + ['SEP']\n",
        "#print(f\"Tokens         : {toks}  ({len(toks)} tokens)\")\n",
        "#print(f\"Token id's     : {train_encodings['input_ids'][0]}\")\n",
        "#print(f\"Attention mask : {train_encodings['attention_mask'][0]}\")"
      ],
      "execution_count": null,
      "outputs": []
    },
    {
      "cell_type": "code",
      "metadata": {
        "id": "kDdk0FvckI4T"
      },
      "source": [
        "#with tf.device('/cpu:0'): # run on cpu\n",
        "# Write datasets to tensor slices\n",
        "train_dataset = tf.data.Dataset.from_tensor_slices((dict(train_encodings), y_train))\n",
        "#val_dataset = tf.data.Dataset.from_tensor_slices((dict(val_encodings), y_val))\n",
        "test_dataset = tf.data.Dataset.from_tensor_slices((dict(test_encodings), y_test))"
      ],
      "execution_count": null,
      "outputs": []
    },
    {
      "cell_type": "markdown",
      "metadata": {
        "id": "Etl7V8zMvIdC"
      },
      "source": [
        "### Model definition"
      ]
    },
    {
      "cell_type": "markdown",
      "metadata": {
        "id": "n_hzECssivS3"
      },
      "source": [
        "Set the model to your prefered model architecture."
      ]
    },
    {
      "cell_type": "code",
      "metadata": {
        "id": "ik-G9mKJGwWO",
        "colab": {
          "base_uri": "https://localhost:8080/",
          "height": 237,
          "referenced_widgets": [
            "b630b4cae63f4890af205c48d2c7f8ab",
            "06246f2c422a4cdda53031a40610d4d9",
            "f0f7cb9bdda24a80aa9e10a5a3137bd6",
            "4b5633ac6a73400faaa25c61b57c8e4c",
            "ecb2cb6b466144a6a482ed8c7e9089c9",
            "050d90e797804a489bbf6c41b59aff4f",
            "7ccb3a8d1cb24c7ea3de07d66555f9aa",
            "da708fa410274c05bcba42b7af707d19",
            "3b74d4690b4b40fe8870daa2b09a27da",
            "84b90c2f68fe4cacaa625673133b5619",
            "26670ea8e9c84d02b2933cc483554ac5",
            "98bb30e09801426c87966a2e0a5c83ab",
            "cbf9ca687350418d833a3d55c195f4b9",
            "077ccd3a28e34f9f8349a627f083c49d",
            "2c69746a1ba64f8e90019e67c28206a4",
            "c0af81edc48f4a2fa47315e63b749d0f"
          ]
        },
        "outputId": "c5324599-98c0-4bab-eef1-6220f9988db8"
      },
      "source": [
        "if model_type.lower() == 'distilbert':\n",
        "  model = TFDistilBertForSequenceClassification.from_pretrained('distilbert-base-uncased')\n",
        "elif model_type.lower() == 'bert':\n",
        "  model = TFBertForSequenceClassification.from_pretrained('bert-base-uncased')\n",
        "elif model_type.lower() == 'roberta':\n",
        "  model = TFRobertaForSequenceClassification.from_pretrained('roberta-base')\n",
        "model"
      ],
      "execution_count": null,
      "outputs": [
        {
          "output_type": "display_data",
          "data": {
            "application/vnd.jupyter.widget-view+json": {
              "model_id": "b630b4cae63f4890af205c48d2c7f8ab",
              "version_minor": 0,
              "version_major": 2
            },
            "text/plain": [
              "HBox(children=(FloatProgress(value=0.0, description='Downloading', max=442.0, style=ProgressStyle(description_…"
            ]
          },
          "metadata": {
            "tags": []
          }
        },
        {
          "output_type": "stream",
          "text": [
            "\n"
          ],
          "name": "stdout"
        },
        {
          "output_type": "display_data",
          "data": {
            "application/vnd.jupyter.widget-view+json": {
              "model_id": "3b74d4690b4b40fe8870daa2b09a27da",
              "version_minor": 0,
              "version_major": 2
            },
            "text/plain": [
              "HBox(children=(FloatProgress(value=0.0, description='Downloading', max=363423424.0, style=ProgressStyle(descri…"
            ]
          },
          "metadata": {
            "tags": []
          }
        },
        {
          "output_type": "stream",
          "text": [
            "\n"
          ],
          "name": "stdout"
        },
        {
          "output_type": "stream",
          "text": [
            "Some layers from the model checkpoint at distilbert-base-uncased were not used when initializing TFDistilBertForSequenceClassification: ['vocab_layer_norm', 'activation_13', 'vocab_transform', 'vocab_projector']\n",
            "- This IS expected if you are initializing TFDistilBertForSequenceClassification from the checkpoint of a model trained on another task or with another architecture (e.g. initializing a BertForSequenceClassification model from a BertForPreTraining model).\n",
            "- This IS NOT expected if you are initializing TFDistilBertForSequenceClassification from the checkpoint of a model that you expect to be exactly identical (initializing a BertForSequenceClassification model from a BertForSequenceClassification model).\n",
            "Some layers of TFDistilBertForSequenceClassification were not initialized from the model checkpoint at distilbert-base-uncased and are newly initialized: ['pre_classifier', 'classifier', 'dropout_19']\n",
            "You should probably TRAIN this model on a down-stream task to be able to use it for predictions and inference.\n"
          ],
          "name": "stderr"
        },
        {
          "output_type": "execute_result",
          "data": {
            "text/plain": [
              "<transformers.models.distilbert.modeling_tf_distilbert.TFDistilBertForSequenceClassification at 0x7fb795241d50>"
            ]
          },
          "metadata": {
            "tags": []
          },
          "execution_count": 14
        }
      ]
    },
    {
      "cell_type": "markdown",
      "metadata": {
        "id": "-t1_boPei0MG"
      },
      "source": [
        "Define your optimizer, loss function, and evaluation metrics, then compile the model."
      ]
    },
    {
      "cell_type": "code",
      "metadata": {
        "id": "-OpMbcCbimIX"
      },
      "source": [
        "# Optimizer\n",
        "if optim_type.lower() == 'adam':\n",
        "  optimizer = tf.keras.optimizers.Adam(learning_rate=learning_rate)\n",
        "elif optim_type.lower() == 'adamw':  # not improving results\n",
        "  steps_per_epoch = 156\n",
        "  num_train_steps = steps_per_epoch * num_epochs\n",
        "  num_warmup_steps = int(0.1*num_train_steps)\n",
        "  optimizer = optimization.create_optimizer(init_lr=learning_rate,\n",
        "                                            num_train_steps=num_train_steps,\n",
        "                                            num_warmup_steps=num_warmup_steps,\n",
        "                                            optimizer_type='adamw')\n",
        "  \n",
        "# Loss function\n",
        "loss_function = tf.keras.losses.SparseCategoricalCrossentropy(from_logits=True) \n",
        "# Sparse, as true are [0, 1, ..], and pred is [[0.9, 0.1], [0.2, 0.8]]\n",
        "\n",
        "# Evaluation metrics\n",
        "ev_metrics = [tf.keras.metrics.SparseCategoricalAccuracy('accuracy')]\n",
        "\n",
        "# Compile model  \n",
        "model.compile(optimizer=optimizer, loss=loss_function, metrics=ev_metrics)\n",
        "\n",
        "# Save weights of model with minimum validation loss\n",
        "#checkpoint_filepath = '/content/drive/MyDrive/Thesis BA&QM 2021'\n",
        "#model_checkpoint_callback = tf.keras.callbacks.ModelCheckpoint(\n",
        "#    filepath=checkpoint_filepath,\n",
        "#    save_weights_only=True,\n",
        "#    monitor='val_loss',\n",
        "#    mode='min',\n",
        "#    save_best_only=True)"
      ],
      "execution_count": null,
      "outputs": []
    },
    {
      "cell_type": "code",
      "metadata": {
        "id": "iGS8RRxMbTA0",
        "colab": {
          "base_uri": "https://localhost:8080/"
        },
        "outputId": "0604fbe2-8446-4ba2-bded-7599490ef23b"
      },
      "source": [
        "model.summary()"
      ],
      "execution_count": null,
      "outputs": [
        {
          "output_type": "stream",
          "text": [
            "Model: \"tf_distil_bert_for_sequence_classification\"\n",
            "_________________________________________________________________\n",
            "Layer (type)                 Output Shape              Param #   \n",
            "=================================================================\n",
            "distilbert (TFDistilBertMain multiple                  66362880  \n",
            "_________________________________________________________________\n",
            "pre_classifier (Dense)       multiple                  590592    \n",
            "_________________________________________________________________\n",
            "classifier (Dense)           multiple                  1538      \n",
            "_________________________________________________________________\n",
            "dropout_19 (Dropout)         multiple                  0         \n",
            "=================================================================\n",
            "Total params: 66,955,010\n",
            "Trainable params: 66,955,010\n",
            "Non-trainable params: 0\n",
            "_________________________________________________________________\n"
          ],
          "name": "stdout"
        }
      ]
    },
    {
      "cell_type": "markdown",
      "metadata": {
        "id": "mZTARlNabfnU"
      },
      "source": [
        "Run the model."
      ]
    },
    {
      "cell_type": "code",
      "metadata": {
        "colab": {
          "base_uri": "https://localhost:8080/"
        },
        "id": "a9FJIQlTQ4HK",
        "outputId": "dbe9103b-9237-4b3e-ffda-4acd6587cfa6"
      },
      "source": [
        "from sklearn.utils import class_weight \n",
        "import numpy as np\n",
        "class_weights = class_weight.compute_class_weight('balanced', np.unique(y_train), y_train)\n",
        "class_weights = dict(enumerate(class_weights))\n",
        "print(\"Class weights: \", class_weights)"
      ],
      "execution_count": null,
      "outputs": [
        {
          "output_type": "stream",
          "text": [
            "Class weights:  {0: 0.5287449392712551, 1: 9.19718309859155}\n"
          ],
          "name": "stdout"
        }
      ]
    },
    {
      "cell_type": "code",
      "metadata": {
        "id": "DSLUFhLabbrc",
        "colab": {
          "base_uri": "https://localhost:8080/"
        },
        "outputId": "fb55e8f9-5794-4203-bc9a-a9a266290c2b"
      },
      "source": [
        "train_data = train_dataset.shuffle(1000).batch(train_batch_size, drop_remainder=True).prefetch(tf.data.experimental.AUTOTUNE)\n",
        "#valid_data = val_dataset.batch(train_batch_size, drop_remainder=True).prefetch(tf.data.experimental.AUTOTUNE)\n",
        "test_data = test_dataset.batch(train_batch_size, drop_remainder=False).prefetch(tf.data.experimental.AUTOTUNE)\n",
        "\n",
        "start = time.time()\n",
        "\n",
        "# Fit model\n",
        "if use_weights == True:\n",
        "  history = model.fit(train_data, \n",
        "       #   validation_data=valid_data, \n",
        "          epochs=num_epochs,\n",
        "         #callbacks=[model_checkpoint_callback],\n",
        "          verbose=1,\n",
        "          class_weight = class_weights)\n",
        "else: \n",
        "  history = model.fit(train_data, \n",
        "        #  validation_data=valid_data, \n",
        "          epochs=num_epochs,\n",
        "          #callbacks=[model_checkpoint_callback],\n",
        "          verbose=1)\n",
        "\n",
        "end = time.time()\n",
        "print(\"Training completed\")\n",
        "print(\"Elapsed time fine-tuning the model: \", (end-start)/60, \"min\\n\")"
      ],
      "execution_count": null,
      "outputs": [
        {
          "output_type": "stream",
          "text": [
            "Epoch 1/2\n",
            "WARNING:tensorflow:The parameters `output_attentions`, `output_hidden_states` and `use_cache` cannot be updated when calling a model.They have to be set to True/False in the config object (i.e.: `config=XConfig.from_pretrained('name', output_attentions=True)`).\n",
            "WARNING:tensorflow:AutoGraph could not transform <bound method Socket.send of <zmq.sugar.socket.Socket object at 0x7fb799b18de0>> and will run it as-is.\n",
            "Please report this to the TensorFlow team. When filing the bug, set the verbosity to 10 (on Linux, `export AUTOGRAPH_VERBOSITY=10`) and attach the full output.\n",
            "Cause: module, class, method, function, traceback, frame, or code object was expected, got cython_function_or_method\n",
            "To silence this warning, decorate the function with @tf.autograph.experimental.do_not_convert\n",
            "WARNING: AutoGraph could not transform <bound method Socket.send of <zmq.sugar.socket.Socket object at 0x7fb799b18de0>> and will run it as-is.\n",
            "Please report this to the TensorFlow team. When filing the bug, set the verbosity to 10 (on Linux, `export AUTOGRAPH_VERBOSITY=10`) and attach the full output.\n",
            "Cause: module, class, method, function, traceback, frame, or code object was expected, got cython_function_or_method\n",
            "To silence this warning, decorate the function with @tf.autograph.experimental.do_not_convert\n",
            "WARNING:tensorflow:AutoGraph could not transform <function wrap at 0x7fb7b53c0dd0> and will run it as-is.\n",
            "Cause: while/else statement not yet supported\n",
            "To silence this warning, decorate the function with @tf.autograph.experimental.do_not_convert\n",
            "WARNING: AutoGraph could not transform <function wrap at 0x7fb7b53c0dd0> and will run it as-is.\n",
            "Cause: while/else statement not yet supported\n",
            "To silence this warning, decorate the function with @tf.autograph.experimental.do_not_convert\n",
            "WARNING:tensorflow:The parameter `return_dict` cannot be set in graph mode and will always be set to `True`.\n",
            "WARNING:tensorflow:From /usr/local/lib/python3.7/dist-packages/tensorflow/python/ops/array_ops.py:5049: calling gather (from tensorflow.python.ops.array_ops) with validate_indices is deprecated and will be removed in a future version.\n",
            "Instructions for updating:\n",
            "The `validate_indices` argument has no effect. Indices are always validated on CPU and never validated on GPU.\n",
            "WARNING:tensorflow:The parameters `output_attentions`, `output_hidden_states` and `use_cache` cannot be updated when calling a model.They have to be set to True/False in the config object (i.e.: `config=XConfig.from_pretrained('name', output_attentions=True)`).\n",
            "WARNING:tensorflow:The parameter `return_dict` cannot be set in graph mode and will always be set to `True`.\n",
            "3101/3101 [==============================] - 726s 220ms/step - loss: 0.1882 - accuracy: 0.9453\n",
            "Epoch 2/2\n",
            "3101/3101 [==============================] - 682s 220ms/step - loss: 0.1443 - accuracy: 0.9478\n",
            "Training completed\n",
            "Elapsed time fine-tuning the model:  23.468119458357492 min\n",
            "\n"
          ],
          "name": "stdout"
        }
      ]
    },
    {
      "cell_type": "markdown",
      "metadata": {
        "id": "E757qyyMeUbc"
      },
      "source": [
        "### Evaluate epochs"
      ]
    },
    {
      "cell_type": "markdown",
      "metadata": {
        "id": "1rixyF1ktvcl"
      },
      "source": [
        "Print the train and validation loss given the epoch number."
      ]
    },
    {
      "cell_type": "code",
      "metadata": {
        "id": "lYd5nWJaeUD8",
        "colab": {
          "base_uri": "https://localhost:8080/",
          "height": 231
        },
        "outputId": "b09da92b-a7c9-4b4b-af40-ae23f7e0b36d"
      },
      "source": [
        "if num_epochs > 1:\n",
        "  history_dict = history.history\n",
        "  #print(history_dict.keys())\n",
        "\n",
        "  acc = history_dict['accuracy']\n",
        "  val_acc = history_dict['val_accuracy']\n",
        "  loss = history_dict['loss']\n",
        "  val_loss = history_dict['val_loss']\n",
        "\n",
        "  epochs = range(1, len(acc) + 1)\n",
        "  fig = plt.figure(figsize=(10, 5))\n",
        "  fig.subplots_adjust(hspace=0.4)\n",
        "\n",
        "  plt.subplot(2, 1, 1)\n",
        "  plt.plot(epochs, loss, 'r', label='training loss')\n",
        "  plt.plot(epochs, val_loss, 'b', label='validation loss')\n",
        "  #plt.title('Training and validation loss')\n",
        "  plt.xlabel('Epochs')\n",
        "  plt.ylabel('Loss')\n",
        "  plt.locator_params(axis=\"x\", nbins=len(acc))\n",
        "  plt.legend()\n",
        "\n",
        "  plt.subplot(2, 1, 2)\n",
        "  plt.plot(epochs, acc, 'r', label='training accuracy')\n",
        "  plt.plot(epochs, val_acc, 'b', label='validation accuracy')\n",
        "  #plt.title('Training and validation accuracy')\n",
        "  plt.xlabel('Epochs')\n",
        "  plt.ylabel('Accuracy')\n",
        "  #plt.ylim((0.70,0.78))\n",
        "  plt.locator_params(axis=\"x\", nbins=len(acc))\n",
        "  plt.legend(loc='upper left')\n",
        "else:\n",
        "  print(\"Not enough epochs to plot\")"
      ],
      "execution_count": null,
      "outputs": [
        {
          "output_type": "error",
          "ename": "KeyError",
          "evalue": "ignored",
          "traceback": [
            "\u001b[0;31m---------------------------------------------------------------------------\u001b[0m",
            "\u001b[0;31mKeyError\u001b[0m                                  Traceback (most recent call last)",
            "\u001b[0;32m<ipython-input-19-5abeb05f25cc>\u001b[0m in \u001b[0;36m<module>\u001b[0;34m()\u001b[0m\n\u001b[1;32m      4\u001b[0m \u001b[0;34m\u001b[0m\u001b[0m\n\u001b[1;32m      5\u001b[0m   \u001b[0macc\u001b[0m \u001b[0;34m=\u001b[0m \u001b[0mhistory_dict\u001b[0m\u001b[0;34m[\u001b[0m\u001b[0;34m'accuracy'\u001b[0m\u001b[0;34m]\u001b[0m\u001b[0;34m\u001b[0m\u001b[0;34m\u001b[0m\u001b[0m\n\u001b[0;32m----> 6\u001b[0;31m   \u001b[0mval_acc\u001b[0m \u001b[0;34m=\u001b[0m \u001b[0mhistory_dict\u001b[0m\u001b[0;34m[\u001b[0m\u001b[0;34m'val_accuracy'\u001b[0m\u001b[0;34m]\u001b[0m\u001b[0;34m\u001b[0m\u001b[0;34m\u001b[0m\u001b[0m\n\u001b[0m\u001b[1;32m      7\u001b[0m   \u001b[0mloss\u001b[0m \u001b[0;34m=\u001b[0m \u001b[0mhistory_dict\u001b[0m\u001b[0;34m[\u001b[0m\u001b[0;34m'loss'\u001b[0m\u001b[0;34m]\u001b[0m\u001b[0;34m\u001b[0m\u001b[0;34m\u001b[0m\u001b[0m\n\u001b[1;32m      8\u001b[0m   \u001b[0mval_loss\u001b[0m \u001b[0;34m=\u001b[0m \u001b[0mhistory_dict\u001b[0m\u001b[0;34m[\u001b[0m\u001b[0;34m'val_loss'\u001b[0m\u001b[0;34m]\u001b[0m\u001b[0;34m\u001b[0m\u001b[0;34m\u001b[0m\u001b[0m\n",
            "\u001b[0;31mKeyError\u001b[0m: 'val_accuracy'"
          ]
        }
      ]
    },
    {
      "cell_type": "markdown",
      "metadata": {
        "id": "WeN8HDNlipi8"
      },
      "source": [
        "### Model evaluation"
      ]
    },
    {
      "cell_type": "markdown",
      "metadata": {
        "id": "kwVLFEMOAxjf"
      },
      "source": [
        "Load best model weights with lowest validation loss into the model."
      ]
    },
    {
      "cell_type": "code",
      "metadata": {
        "id": "MTJWB1PYtNcD"
      },
      "source": [
        "#model.load_weights(checkpoint_filepath)"
      ],
      "execution_count": null,
      "outputs": []
    },
    {
      "cell_type": "markdown",
      "metadata": {
        "id": "5YOz2nX0d5Mp"
      },
      "source": [
        "Evaluate the model on 4 artificial sentences: 2 tips and 2 non-tips."
      ]
    },
    {
      "cell_type": "code",
      "metadata": {
        "id": "P_g4UjfAwQqA",
        "colab": {
          "base_uri": "https://localhost:8080/"
        },
        "outputId": "102a16b5-c3eb-4ebb-d7b5-85caae9200ce"
      },
      "source": [
        "# Example data\n",
        "sample_examples = [\"Just make sure to check if you have enough batteries at home.\",      # TIP\n",
        "                  \"I would argue that a child of two is still too young for this toy.\",  # TIP\n",
        "                  \"It was way too expensive and the shipping was late.\",                 # NON-TIP\n",
        "                  \"Loved it!\"]                                                           # NON-TIP\n",
        "sample_labels = pd.Series([1, 1, 0, 0])\n",
        "\n",
        "# Prepare examples\n",
        "sample_encodings = tokenizer(sample_examples, truncation=True, padding=True, max_length=max_seq_length)\n",
        "sample_encodings = tf.data.Dataset.from_tensor_slices((dict(sample_encodings), sample_labels))\n",
        "\n",
        "# Calculate accuracy\n",
        "sample_loss, sample_accuracy = model.evaluate(sample_encodings.batch(1))\n",
        "\n",
        "# Make predictions\n",
        "preds_percentage = model.predict(sample_encodings.batch(1)).logits\n",
        "preds_percentage = tf.nn.softmax(preds_percentage, axis=1).numpy()\n",
        "print(preds_percentage)    \n",
        "preds_prob = preds_percentage[:,1]\n",
        "threshold = 0.5\n",
        "preds = [1 if pred[1] >=threshold else 0 for pred in preds_percentage]\n",
        "\n",
        "# Print results\n",
        "print()\n",
        "for i in range(len(sample_examples)):\n",
        "  print(f\"Sentence   : {sample_examples[i]}\")\n",
        "  print(f\"Prob. tip  : {preds_percentage[i][1]}\")\n",
        "  print(f\"Prediction : Pred = {preds[i]} True = {sample_labels[i]}\")\n",
        "  print()\n",
        "print(\"Final  accuracy : \", sample_accuracy)\n",
        "print(\"Final  loss     : \", sample_loss)"
      ],
      "execution_count": null,
      "outputs": [
        {
          "output_type": "stream",
          "text": [
            "WARNING:tensorflow:The parameters `output_attentions`, `output_hidden_states` and `use_cache` cannot be updated when calling a model.They have to be set to True/False in the config object (i.e.: `config=XConfig.from_pretrained('name', output_attentions=True)`).\n",
            "WARNING:tensorflow:The parameter `return_dict` cannot be set in graph mode and will always be set to `True`.\n",
            "4/4 [==============================] - 2s 28ms/step - loss: 0.4112 - accuracy: 0.7500\n",
            "WARNING:tensorflow:The parameters `output_attentions`, `output_hidden_states` and `use_cache` cannot be updated when calling a model.They have to be set to True/False in the config object (i.e.: `config=XConfig.from_pretrained('name', output_attentions=True)`).\n",
            "WARNING:tensorflow:The parameter `return_dict` cannot be set in graph mode and will always be set to `True`.\n",
            "[[0.3361773  0.6638227 ]\n",
            " [0.7084449  0.29155517]\n",
            " [0.9983469  0.00165305]\n",
            " [0.9989278  0.00107218]]\n",
            "\n",
            "Sentence   : Just make sure to check if you have enough batteries at home.\n",
            "Prob. tip  : 0.6638227105140686\n",
            "Prediction : Pred = 1 True = 1\n",
            "\n",
            "Sentence   : I would argue that a child of two is still too young for this toy.\n",
            "Prob. tip  : 0.29155516624450684\n",
            "Prediction : Pred = 0 True = 1\n",
            "\n",
            "Sentence   : It was way too expensive and the shipping was late.\n",
            "Prob. tip  : 0.0016530470456928015\n",
            "Prediction : Pred = 0 True = 0\n",
            "\n",
            "Sentence   : Loved it!\n",
            "Prob. tip  : 0.0010721846483647823\n",
            "Prediction : Pred = 0 True = 0\n",
            "\n",
            "Final  accuracy :  0.75\n",
            "Final  loss     :  0.4112483859062195\n"
          ],
          "name": "stdout"
        }
      ]
    },
    {
      "cell_type": "markdown",
      "metadata": {
        "id": "QpxEtisbm5SC"
      },
      "source": [
        "Evaluate on the test set."
      ]
    },
    {
      "cell_type": "code",
      "metadata": {
        "id": "cB2ZYkytwQk3",
        "colab": {
          "base_uri": "https://localhost:8080/"
        },
        "outputId": "3c73e937-36ff-43e0-db3c-1b502e40a7b4"
      },
      "source": [
        "# Evaluate model\n",
        "LOSS, test_accuracy = model.evaluate(test_dataset.shuffle(1000).batch(train_batch_size))\n",
        "\n",
        "# Make predictions\n",
        "preds_percentage = model.predict(test_dataset.batch(train_batch_size)).logits\n",
        "preds_percentage = tf.nn.softmax(preds_percentage, axis=1).numpy()    \n",
        "preds_prob = preds_percentage[:,1]\n",
        "\n",
        "# Create binary predictions\n",
        "threshold = 0.5\n",
        "preds = [1 if pred[1] >=threshold else 0 for pred in preds_percentage]\n",
        "\n",
        "# Evaluation metrics\n",
        "PR   = precision_score(y_test, preds)\n",
        "RC   = recall_score(y_test, preds)\n",
        "F1   = f1_score(y_test, preds)\n",
        "ACC  = accuracy_score(y_test, preds)\n",
        "AUC  = roc_auc_score(y_test, preds_prob)\n",
        "\n",
        "print(f\"Precision : {PR}\")\n",
        "print(f\"Recall    : {RC}\")\n",
        "print(f\"F1-score  : {F1}\")\n",
        "print(f\"Accuracy  : {ACC}\")\n",
        "print(f\"AUC       : {AUC}\")\n",
        "print(f\"Loss      : {LOSS}\")\n",
        "print()\n",
        "\n",
        "print(f\"COPY:  {round(PR,4)}, {round(RC,4)}, {round(F1,4)}, {round(ACC,4)}, {round(AUC,4)}, {round(LOSS,4)}\")"
      ],
      "execution_count": null,
      "outputs": [
        {
          "output_type": "stream",
          "text": [
            "WARNING:tensorflow:The parameters `output_attentions`, `output_hidden_states` and `use_cache` cannot be updated when calling a model.They have to be set to True/False in the config object (i.e.: `config=XConfig.from_pretrained('name', output_attentions=True)`).\n",
            "WARNING:tensorflow:The parameter `return_dict` cannot be set in graph mode and will always be set to `True`.\n",
            "776/776 [==============================] - 69s 86ms/step - loss: 0.1933 - accuracy: 0.9421\n",
            "WARNING:tensorflow:The parameters `output_attentions`, `output_hidden_states` and `use_cache` cannot be updated when calling a model.They have to be set to True/False in the config object (i.e.: `config=XConfig.from_pretrained('name', output_attentions=True)`).\n",
            "WARNING:tensorflow:The parameter `return_dict` cannot be set in graph mode and will always be set to `True`.\n",
            "Precision : 0.38974358974358975\n",
            "Recall    : 0.11259259259259259\n",
            "F1-score  : 0.1747126436781609\n",
            "Accuracy  : 0.9421294430563392\n",
            "AUC       : 0.8135826672222853\n",
            "Loss      : 0.19327029585838318\n",
            "\n",
            "COPY:  0.3897, 0.1126, 0.1747, 0.9421, 0.8136, 0.1933\n"
          ],
          "name": "stdout"
        }
      ]
    },
    {
      "cell_type": "markdown",
      "metadata": {
        "id": "OLxy_d_Gvg6L"
      },
      "source": [
        "Print the confusion matrix and the number of tips obtained."
      ]
    },
    {
      "cell_type": "code",
      "metadata": {
        "id": "y63_kwuF81tq",
        "colab": {
          "base_uri": "https://localhost:8080/"
        },
        "outputId": "394d61df-b1f7-49fe-a0b1-e490f7d613ba"
      },
      "source": [
        "threshold2 = 0.5\n",
        "preds2 = [1 if pred[1] >=threshold2 else 0 for pred in preds_percentage]\n",
        "\n",
        "print(\"Confusion matrix:\")\n",
        "print(confusion_matrix(y_test, preds2))\n",
        "print()\n",
        "print(\"Predicted as tip: \", preds2.count(1))\n",
        "print(\"Predicted as non-tip: \", preds2.count(0))\n",
        "print(\"Real number of tips:\", y_test.sum())"
      ],
      "execution_count": null,
      "outputs": [
        {
          "output_type": "stream",
          "text": [
            "Confusion matrix:\n",
            "[[11613   119]\n",
            " [  599    76]]\n",
            "\n",
            "Predicted as tip:  195\n",
            "Predicted as non-tip:  12212\n",
            "Real number of tips: 675\n"
          ],
          "name": "stdout"
        }
      ]
    },
    {
      "cell_type": "markdown",
      "metadata": {
        "id": "Hx014X92wcEH"
      },
      "source": [
        "Print the precision and recall as a function of the threshold."
      ]
    },
    {
      "cell_type": "code",
      "metadata": {
        "id": "LIU8-U6Avf94",
        "colab": {
          "base_uri": "https://localhost:8080/"
        },
        "outputId": "0742cb82-8f82-436d-fd2b-782ea809782a"
      },
      "source": [
        "precisions = []\n",
        "recalls = []\n",
        "f1s = []\n",
        "tips_pred = []\n",
        "nontips_pred = []\n",
        "false_pos = []\n",
        "false_neg = []\n",
        "true_pos = []\n",
        "thresholds = np.arange(0.4, 1.0, 0.01)\n",
        "\n",
        "for threshold3 in thresholds:\n",
        "  preds3 = [1 if pred[1] >=threshold3 else 0 for pred in preds_percentage]\n",
        "  precisions.append(precision_score(y_test, preds3))\n",
        "  recalls.append(recall_score(y_test, preds3))\n",
        "  f1s.append(f1_score(y_test, preds3))\n",
        "  tips_pred.append(preds3.count(1))\n",
        "  nontips_pred.append(preds3.count(0))\n",
        "  false_pos.append(confusion_matrix(y_test, preds3)[0,1])\n",
        "  false_neg.append(confusion_matrix(y_test, preds3)[1,0])\n",
        "  true_pos.append(confusion_matrix(y_test, preds3)[1,1])"
      ],
      "execution_count": null,
      "outputs": [
        {
          "output_type": "stream",
          "text": [
            "/usr/local/lib/python3.7/dist-packages/sklearn/metrics/_classification.py:1272: UndefinedMetricWarning: Precision is ill-defined and being set to 0.0 due to no predicted samples. Use `zero_division` parameter to control this behavior.\n",
            "  _warn_prf(average, modifier, msg_start, len(result))\n"
          ],
          "name": "stderr"
        }
      ]
    },
    {
      "cell_type": "code",
      "metadata": {
        "id": "5PqEu4AA7Kzo",
        "colab": {
          "base_uri": "https://localhost:8080/",
          "height": 805
        },
        "outputId": "4decb060-15a5-4c5e-c7f4-b451947b3d23"
      },
      "source": [
        "# Precision vs. Recall\n",
        "plt.plot(thresholds, precisions, 'blue', label='precision')\n",
        "plt.plot(thresholds, recalls, 'red', label='recall')\n",
        "plt.plot(thresholds, f1s, 'black', label='f1')\n",
        "plt.xlabel('Threshold')\n",
        "plt.grid(axis='y', alpha=0.75)\n",
        "plt.legend()\n",
        "plt.show()\n",
        "\n",
        "# False positives vs. False negatives\n",
        "plt.plot(thresholds, false_pos, 'blue', label='false pos.')\n",
        "plt.plot(thresholds, false_neg, 'red', label='false neg.')\n",
        "plt.plot(thresholds, true_pos, 'black', label='true pos.')\n",
        "plt.xlabel('Threshold')\n",
        "plt.grid(axis='y', alpha=0.75)\n",
        "plt.legend()\n",
        "plt.show()\n",
        "\n",
        "# Predicted tips vs. non-tips\n",
        "plt.plot(thresholds, tips_pred, 'blue', label='predicted tips')\n",
        "plt.plot(thresholds, nontips_pred, 'red', label='predicted non-tips')\n",
        "plt.xlabel('Threshold')\n",
        "plt.grid(axis='y', alpha=0.75)\n",
        "plt.legend()\n",
        "#plt.hlines(y=770, xmin=0.4, xmax=0.99, linestyle='dotted', linewidth=1.0)\n",
        "plt.show()"
      ],
      "execution_count": null,
      "outputs": [
        {
          "output_type": "display_data",
          "data": {
            "image/png": "[encoded data removed]",
            "text/plain": [
              "<Figure size 432x288 with 1 Axes>"
            ]
          },
          "metadata": {
            "tags": [],
            "needs_background": "light"
          }
        },
        {
          "output_type": "display_data",
          "data": {
            "image/png": "[encoded data removed]",
            "text/plain": [
              "<Figure size 432x288 with 1 Axes>"
            ]
          },
          "metadata": {
            "tags": [],
            "needs_background": "light"
          }
        },
        {
          "output_type": "display_data",
          "data": {
            "image/png": "[encoded data removed]",
            "text/plain": [
              "<Figure size 432x288 with 1 Axes>"
            ]
          },
          "metadata": {
            "tags": [],
            "needs_background": "light"
          }
        }
      ]
    },
    {
      "cell_type": "markdown",
      "source": [
        "@references: \n",
        "* https://huggingface.co/transformers/custom_datasets.html"
      ],
      "metadata": {
        "id": "VXDld1C-wL5a"
      }
    }
  ]
}