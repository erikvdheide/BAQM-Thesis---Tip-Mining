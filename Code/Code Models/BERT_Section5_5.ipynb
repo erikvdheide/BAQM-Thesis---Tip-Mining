{
  "nbformat": 4,
  "nbformat_minor": 0,
  "metadata": {
    "colab": {
      "name": "BERT_Section5_5.ipynb",
      "provenance": [],
      "collapsed_sections": []
    },
    "kernelspec": {
      "name": "python3",
      "display_name": "Python 3"
    },
    "language_info": {
      "name": "python"
    },
    "accelerator": "GPU",
    "widgets": {
      "application/vnd.jupyter.widget-state+json": {
        "fc685ddf904549b7bedb8b00c4578f0e": {
          "model_module": "@jupyter-widgets/controls",
          "model_name": "HBoxModel",
          "state": {
            "_view_name": "HBoxView",
            "_dom_classes": [],
            "_model_name": "HBoxModel",
            "_view_module": "@jupyter-widgets/controls",
            "_model_module_version": "1.5.0",
            "_view_count": null,
            "_view_module_version": "1.5.0",
            "box_style": "",
            "layout": "IPY_MODEL_0016a888adf64a81b4d23040bbff4258",
            "_model_module": "@jupyter-widgets/controls",
            "children": [
              "IPY_MODEL_3b07ed99d67f43c49f6c35c744e08750",
              "IPY_MODEL_05a6efc431944daab7070289dd1c3f53"
            ]
          },
          "model_module_version": "1.5.0"
        },
        "0016a888adf64a81b4d23040bbff4258": {
          "model_module": "@jupyter-widgets/base",
          "model_name": "LayoutModel",
          "state": {
            "_view_name": "LayoutView",
            "grid_template_rows": null,
            "right": null,
            "justify_content": null,
            "_view_module": "@jupyter-widgets/base",
            "overflow": null,
            "_model_module_version": "1.2.0",
            "_view_count": null,
            "flex_flow": null,
            "width": null,
            "min_width": null,
            "border": null,
            "align_items": null,
            "bottom": null,
            "_model_module": "@jupyter-widgets/base",
            "top": null,
            "grid_column": null,
            "overflow_y": null,
            "overflow_x": null,
            "grid_auto_flow": null,
            "grid_area": null,
            "grid_template_columns": null,
            "flex": null,
            "_model_name": "LayoutModel",
            "justify_items": null,
            "grid_row": null,
            "max_height": null,
            "align_content": null,
            "visibility": null,
            "align_self": null,
            "height": null,
            "min_height": null,
            "padding": null,
            "grid_auto_rows": null,
            "grid_gap": null,
            "max_width": null,
            "order": null,
            "_view_module_version": "1.2.0",
            "grid_template_areas": null,
            "object_position": null,
            "object_fit": null,
            "grid_auto_columns": null,
            "margin": null,
            "display": null,
            "left": null
          },
          "model_module_version": "1.2.0"
        },
        "3b07ed99d67f43c49f6c35c744e08750": {
          "model_module": "@jupyter-widgets/controls",
          "model_name": "FloatProgressModel",
          "state": {
            "_view_name": "ProgressView",
            "style": "IPY_MODEL_7bd194d465c740a6b016fef9bc0516ff",
            "_dom_classes": [],
            "description": "Downloading: 100%",
            "_model_name": "FloatProgressModel",
            "bar_style": "success",
            "max": 231508,
            "_view_module": "@jupyter-widgets/controls",
            "_model_module_version": "1.5.0",
            "value": 231508,
            "_view_count": null,
            "_view_module_version": "1.5.0",
            "orientation": "horizontal",
            "min": 0,
            "description_tooltip": null,
            "_model_module": "@jupyter-widgets/controls",
            "layout": "IPY_MODEL_c142582c655145df9695012f1378fa7e"
          },
          "model_module_version": "1.5.0"
        },
        "05a6efc431944daab7070289dd1c3f53": {
          "model_module": "@jupyter-widgets/controls",
          "model_name": "HTMLModel",
          "state": {
            "_view_name": "HTMLView",
            "style": "IPY_MODEL_5e7d0910c6a24240adca4bddb2b1a481",
            "_dom_classes": [],
            "description": "",
            "_model_name": "HTMLModel",
            "placeholder": "​",
            "_view_module": "@jupyter-widgets/controls",
            "_model_module_version": "1.5.0",
            "value": " 232k/232k [00:05&lt;00:00, 43.2kB/s]",
            "_view_count": null,
            "_view_module_version": "1.5.0",
            "description_tooltip": null,
            "_model_module": "@jupyter-widgets/controls",
            "layout": "IPY_MODEL_8bdae9b2226447e8882883d598b9355d"
          },
          "model_module_version": "1.5.0"
        },
        "7bd194d465c740a6b016fef9bc0516ff": {
          "model_module": "@jupyter-widgets/controls",
          "model_name": "ProgressStyleModel",
          "state": {
            "_view_name": "StyleView",
            "_model_name": "ProgressStyleModel",
            "description_width": "initial",
            "_view_module": "@jupyter-widgets/base",
            "_model_module_version": "1.5.0",
            "_view_count": null,
            "_view_module_version": "1.2.0",
            "bar_color": null,
            "_model_module": "@jupyter-widgets/controls"
          },
          "model_module_version": "1.5.0"
        },
        "c142582c655145df9695012f1378fa7e": {
          "model_module": "@jupyter-widgets/base",
          "model_name": "LayoutModel",
          "state": {
            "_view_name": "LayoutView",
            "grid_template_rows": null,
            "right": null,
            "justify_content": null,
            "_view_module": "@jupyter-widgets/base",
            "overflow": null,
            "_model_module_version": "1.2.0",
            "_view_count": null,
            "flex_flow": null,
            "width": null,
            "min_width": null,
            "border": null,
            "align_items": null,
            "bottom": null,
            "_model_module": "@jupyter-widgets/base",
            "top": null,
            "grid_column": null,
            "overflow_y": null,
            "overflow_x": null,
            "grid_auto_flow": null,
            "grid_area": null,
            "grid_template_columns": null,
            "flex": null,
            "_model_name": "LayoutModel",
            "justify_items": null,
            "grid_row": null,
            "max_height": null,
            "align_content": null,
            "visibility": null,
            "align_self": null,
            "height": null,
            "min_height": null,
            "padding": null,
            "grid_auto_rows": null,
            "grid_gap": null,
            "max_width": null,
            "order": null,
            "_view_module_version": "1.2.0",
            "grid_template_areas": null,
            "object_position": null,
            "object_fit": null,
            "grid_auto_columns": null,
            "margin": null,
            "display": null,
            "left": null
          },
          "model_module_version": "1.2.0"
        },
        "5e7d0910c6a24240adca4bddb2b1a481": {
          "model_module": "@jupyter-widgets/controls",
          "model_name": "DescriptionStyleModel",
          "state": {
            "_view_name": "StyleView",
            "_model_name": "DescriptionStyleModel",
            "description_width": "",
            "_view_module": "@jupyter-widgets/base",
            "_model_module_version": "1.5.0",
            "_view_count": null,
            "_view_module_version": "1.2.0",
            "_model_module": "@jupyter-widgets/controls"
          },
          "model_module_version": "1.5.0"
        },
        "8bdae9b2226447e8882883d598b9355d": {
          "model_module": "@jupyter-widgets/base",
          "model_name": "LayoutModel",
          "state": {
            "_view_name": "LayoutView",
            "grid_template_rows": null,
            "right": null,
            "justify_content": null,
            "_view_module": "@jupyter-widgets/base",
            "overflow": null,
            "_model_module_version": "1.2.0",
            "_view_count": null,
            "flex_flow": null,
            "width": null,
            "min_width": null,
            "border": null,
            "align_items": null,
            "bottom": null,
            "_model_module": "@jupyter-widgets/base",
            "top": null,
            "grid_column": null,
            "overflow_y": null,
            "overflow_x": null,
            "grid_auto_flow": null,
            "grid_area": null,
            "grid_template_columns": null,
            "flex": null,
            "_model_name": "LayoutModel",
            "justify_items": null,
            "grid_row": null,
            "max_height": null,
            "align_content": null,
            "visibility": null,
            "align_self": null,
            "height": null,
            "min_height": null,
            "padding": null,
            "grid_auto_rows": null,
            "grid_gap": null,
            "max_width": null,
            "order": null,
            "_view_module_version": "1.2.0",
            "grid_template_areas": null,
            "object_position": null,
            "object_fit": null,
            "grid_auto_columns": null,
            "margin": null,
            "display": null,
            "left": null
          },
          "model_module_version": "1.2.0"
        },
        "900f7c86f2c84d278ee28b93872d1a3b": {
          "model_module": "@jupyter-widgets/controls",
          "model_name": "HBoxModel",
          "state": {
            "_view_name": "HBoxView",
            "_dom_classes": [],
            "_model_name": "HBoxModel",
            "_view_module": "@jupyter-widgets/controls",
            "_model_module_version": "1.5.0",
            "_view_count": null,
            "_view_module_version": "1.5.0",
            "box_style": "",
            "layout": "IPY_MODEL_58661e3adf54434c90bff829a8ddade4",
            "_model_module": "@jupyter-widgets/controls",
            "children": [
              "IPY_MODEL_a9e9531b86cb41d48e7464814b184217",
              "IPY_MODEL_edd0a34ac6e94b80a28b6e9decb6365d"
            ]
          },
          "model_module_version": "1.5.0"
        },
        "58661e3adf54434c90bff829a8ddade4": {
          "model_module": "@jupyter-widgets/base",
          "model_name": "LayoutModel",
          "state": {
            "_view_name": "LayoutView",
            "grid_template_rows": null,
            "right": null,
            "justify_content": null,
            "_view_module": "@jupyter-widgets/base",
            "overflow": null,
            "_model_module_version": "1.2.0",
            "_view_count": null,
            "flex_flow": null,
            "width": null,
            "min_width": null,
            "border": null,
            "align_items": null,
            "bottom": null,
            "_model_module": "@jupyter-widgets/base",
            "top": null,
            "grid_column": null,
            "overflow_y": null,
            "overflow_x": null,
            "grid_auto_flow": null,
            "grid_area": null,
            "grid_template_columns": null,
            "flex": null,
            "_model_name": "LayoutModel",
            "justify_items": null,
            "grid_row": null,
            "max_height": null,
            "align_content": null,
            "visibility": null,
            "align_self": null,
            "height": null,
            "min_height": null,
            "padding": null,
            "grid_auto_rows": null,
            "grid_gap": null,
            "max_width": null,
            "order": null,
            "_view_module_version": "1.2.0",
            "grid_template_areas": null,
            "object_position": null,
            "object_fit": null,
            "grid_auto_columns": null,
            "margin": null,
            "display": null,
            "left": null
          },
          "model_module_version": "1.2.0"
        },
        "a9e9531b86cb41d48e7464814b184217": {
          "model_module": "@jupyter-widgets/controls",
          "model_name": "FloatProgressModel",
          "state": {
            "_view_name": "ProgressView",
            "style": "IPY_MODEL_4e202d186c394d259f53a071cf78efb5",
            "_dom_classes": [],
            "description": "Downloading: 100%",
            "_model_name": "FloatProgressModel",
            "bar_style": "success",
            "max": 466062,
            "_view_module": "@jupyter-widgets/controls",
            "_model_module_version": "1.5.0",
            "value": 466062,
            "_view_count": null,
            "_view_module_version": "1.5.0",
            "orientation": "horizontal",
            "min": 0,
            "description_tooltip": null,
            "_model_module": "@jupyter-widgets/controls",
            "layout": "IPY_MODEL_9e425780c37e4a2685dcd04653758da4"
          },
          "model_module_version": "1.5.0"
        },
        "edd0a34ac6e94b80a28b6e9decb6365d": {
          "model_module": "@jupyter-widgets/controls",
          "model_name": "HTMLModel",
          "state": {
            "_view_name": "HTMLView",
            "style": "IPY_MODEL_8eaf39bb106345bda0ba5e7eb20f13c9",
            "_dom_classes": [],
            "description": "",
            "_model_name": "HTMLModel",
            "placeholder": "​",
            "_view_module": "@jupyter-widgets/controls",
            "_model_module_version": "1.5.0",
            "value": " 466k/466k [00:04&lt;00:00, 100kB/s]",
            "_view_count": null,
            "_view_module_version": "1.5.0",
            "description_tooltip": null,
            "_model_module": "@jupyter-widgets/controls",
            "layout": "IPY_MODEL_1345feddd1804c6c9080b4c5071b9373"
          },
          "model_module_version": "1.5.0"
        },
        "4e202d186c394d259f53a071cf78efb5": {
          "model_module": "@jupyter-widgets/controls",
          "model_name": "ProgressStyleModel",
          "state": {
            "_view_name": "StyleView",
            "_model_name": "ProgressStyleModel",
            "description_width": "initial",
            "_view_module": "@jupyter-widgets/base",
            "_model_module_version": "1.5.0",
            "_view_count": null,
            "_view_module_version": "1.2.0",
            "bar_color": null,
            "_model_module": "@jupyter-widgets/controls"
          },
          "model_module_version": "1.5.0"
        },
        "9e425780c37e4a2685dcd04653758da4": {
          "model_module": "@jupyter-widgets/base",
          "model_name": "LayoutModel",
          "state": {
            "_view_name": "LayoutView",
            "grid_template_rows": null,
            "right": null,
            "justify_content": null,
            "_view_module": "@jupyter-widgets/base",
            "overflow": null,
            "_model_module_version": "1.2.0",
            "_view_count": null,
            "flex_flow": null,
            "width": null,
            "min_width": null,
            "border": null,
            "align_items": null,
            "bottom": null,
            "_model_module": "@jupyter-widgets/base",
            "top": null,
            "grid_column": null,
            "overflow_y": null,
            "overflow_x": null,
            "grid_auto_flow": null,
            "grid_area": null,
            "grid_template_columns": null,
            "flex": null,
            "_model_name": "LayoutModel",
            "justify_items": null,
            "grid_row": null,
            "max_height": null,
            "align_content": null,
            "visibility": null,
            "align_self": null,
            "height": null,
            "min_height": null,
            "padding": null,
            "grid_auto_rows": null,
            "grid_gap": null,
            "max_width": null,
            "order": null,
            "_view_module_version": "1.2.0",
            "grid_template_areas": null,
            "object_position": null,
            "object_fit": null,
            "grid_auto_columns": null,
            "margin": null,
            "display": null,
            "left": null
          },
          "model_module_version": "1.2.0"
        },
        "8eaf39bb106345bda0ba5e7eb20f13c9": {
          "model_module": "@jupyter-widgets/controls",
          "model_name": "DescriptionStyleModel",
          "state": {
            "_view_name": "StyleView",
            "_model_name": "DescriptionStyleModel",
            "description_width": "",
            "_view_module": "@jupyter-widgets/base",
            "_model_module_version": "1.5.0",
            "_view_count": null,
            "_view_module_version": "1.2.0",
            "_model_module": "@jupyter-widgets/controls"
          },
          "model_module_version": "1.5.0"
        },
        "1345feddd1804c6c9080b4c5071b9373": {
          "model_module": "@jupyter-widgets/base",
          "model_name": "LayoutModel",
          "state": {
            "_view_name": "LayoutView",
            "grid_template_rows": null,
            "right": null,
            "justify_content": null,
            "_view_module": "@jupyter-widgets/base",
            "overflow": null,
            "_model_module_version": "1.2.0",
            "_view_count": null,
            "flex_flow": null,
            "width": null,
            "min_width": null,
            "border": null,
            "align_items": null,
            "bottom": null,
            "_model_module": "@jupyter-widgets/base",
            "top": null,
            "grid_column": null,
            "overflow_y": null,
            "overflow_x": null,
            "grid_auto_flow": null,
            "grid_area": null,
            "grid_template_columns": null,
            "flex": null,
            "_model_name": "LayoutModel",
            "justify_items": null,
            "grid_row": null,
            "max_height": null,
            "align_content": null,
            "visibility": null,
            "align_self": null,
            "height": null,
            "min_height": null,
            "padding": null,
            "grid_auto_rows": null,
            "grid_gap": null,
            "max_width": null,
            "order": null,
            "_view_module_version": "1.2.0",
            "grid_template_areas": null,
            "object_position": null,
            "object_fit": null,
            "grid_auto_columns": null,
            "margin": null,
            "display": null,
            "left": null
          },
          "model_module_version": "1.2.0"
        },
        "785678c03e724f72b92482f30d8e95f7": {
          "model_module": "@jupyter-widgets/controls",
          "model_name": "HBoxModel",
          "state": {
            "_view_name": "HBoxView",
            "_dom_classes": [],
            "_model_name": "HBoxModel",
            "_view_module": "@jupyter-widgets/controls",
            "_model_module_version": "1.5.0",
            "_view_count": null,
            "_view_module_version": "1.5.0",
            "box_style": "",
            "layout": "IPY_MODEL_4190e6f85cc64967b5aeefa61178155b",
            "_model_module": "@jupyter-widgets/controls",
            "children": [
              "IPY_MODEL_aea9f2f000f14276aa160ba66a7a08eb",
              "IPY_MODEL_8ac9b11a51a7452bb6959c191fecc369"
            ]
          },
          "model_module_version": "1.5.0"
        },
        "4190e6f85cc64967b5aeefa61178155b": {
          "model_module": "@jupyter-widgets/base",
          "model_name": "LayoutModel",
          "state": {
            "_view_name": "LayoutView",
            "grid_template_rows": null,
            "right": null,
            "justify_content": null,
            "_view_module": "@jupyter-widgets/base",
            "overflow": null,
            "_model_module_version": "1.2.0",
            "_view_count": null,
            "flex_flow": null,
            "width": null,
            "min_width": null,
            "border": null,
            "align_items": null,
            "bottom": null,
            "_model_module": "@jupyter-widgets/base",
            "top": null,
            "grid_column": null,
            "overflow_y": null,
            "overflow_x": null,
            "grid_auto_flow": null,
            "grid_area": null,
            "grid_template_columns": null,
            "flex": null,
            "_model_name": "LayoutModel",
            "justify_items": null,
            "grid_row": null,
            "max_height": null,
            "align_content": null,
            "visibility": null,
            "align_self": null,
            "height": null,
            "min_height": null,
            "padding": null,
            "grid_auto_rows": null,
            "grid_gap": null,
            "max_width": null,
            "order": null,
            "_view_module_version": "1.2.0",
            "grid_template_areas": null,
            "object_position": null,
            "object_fit": null,
            "grid_auto_columns": null,
            "margin": null,
            "display": null,
            "left": null
          },
          "model_module_version": "1.2.0"
        },
        "aea9f2f000f14276aa160ba66a7a08eb": {
          "model_module": "@jupyter-widgets/controls",
          "model_name": "FloatProgressModel",
          "state": {
            "_view_name": "ProgressView",
            "style": "IPY_MODEL_df723ee1fdbe443c9404b1262f4eb0a3",
            "_dom_classes": [],
            "description": "Downloading: 100%",
            "_model_name": "FloatProgressModel",
            "bar_style": "success",
            "max": 28,
            "_view_module": "@jupyter-widgets/controls",
            "_model_module_version": "1.5.0",
            "value": 28,
            "_view_count": null,
            "_view_module_version": "1.5.0",
            "orientation": "horizontal",
            "min": 0,
            "description_tooltip": null,
            "_model_module": "@jupyter-widgets/controls",
            "layout": "IPY_MODEL_a63da89a4c73414e94fa2afce9a3784f"
          },
          "model_module_version": "1.5.0"
        },
        "8ac9b11a51a7452bb6959c191fecc369": {
          "model_module": "@jupyter-widgets/controls",
          "model_name": "HTMLModel",
          "state": {
            "_view_name": "HTMLView",
            "style": "IPY_MODEL_c16cb5d477b54fc98def1386a913205e",
            "_dom_classes": [],
            "description": "",
            "_model_name": "HTMLModel",
            "placeholder": "​",
            "_view_module": "@jupyter-widgets/controls",
            "_model_module_version": "1.5.0",
            "value": " 28.0/28.0 [00:03&lt;00:00, 8.27B/s]",
            "_view_count": null,
            "_view_module_version": "1.5.0",
            "description_tooltip": null,
            "_model_module": "@jupyter-widgets/controls",
            "layout": "IPY_MODEL_1a111c15c0d04cae913230b95d609349"
          },
          "model_module_version": "1.5.0"
        },
        "df723ee1fdbe443c9404b1262f4eb0a3": {
          "model_module": "@jupyter-widgets/controls",
          "model_name": "ProgressStyleModel",
          "state": {
            "_view_name": "StyleView",
            "_model_name": "ProgressStyleModel",
            "description_width": "initial",
            "_view_module": "@jupyter-widgets/base",
            "_model_module_version": "1.5.0",
            "_view_count": null,
            "_view_module_version": "1.2.0",
            "bar_color": null,
            "_model_module": "@jupyter-widgets/controls"
          },
          "model_module_version": "1.5.0"
        },
        "a63da89a4c73414e94fa2afce9a3784f": {
          "model_module": "@jupyter-widgets/base",
          "model_name": "LayoutModel",
          "state": {
            "_view_name": "LayoutView",
            "grid_template_rows": null,
            "right": null,
            "justify_content": null,
            "_view_module": "@jupyter-widgets/base",
            "overflow": null,
            "_model_module_version": "1.2.0",
            "_view_count": null,
            "flex_flow": null,
            "width": null,
            "min_width": null,
            "border": null,
            "align_items": null,
            "bottom": null,
            "_model_module": "@jupyter-widgets/base",
            "top": null,
            "grid_column": null,
            "overflow_y": null,
            "overflow_x": null,
            "grid_auto_flow": null,
            "grid_area": null,
            "grid_template_columns": null,
            "flex": null,
            "_model_name": "LayoutModel",
            "justify_items": null,
            "grid_row": null,
            "max_height": null,
            "align_content": null,
            "visibility": null,
            "align_self": null,
            "height": null,
            "min_height": null,
            "padding": null,
            "grid_auto_rows": null,
            "grid_gap": null,
            "max_width": null,
            "order": null,
            "_view_module_version": "1.2.0",
            "grid_template_areas": null,
            "object_position": null,
            "object_fit": null,
            "grid_auto_columns": null,
            "margin": null,
            "display": null,
            "left": null
          },
          "model_module_version": "1.2.0"
        },
        "c16cb5d477b54fc98def1386a913205e": {
          "model_module": "@jupyter-widgets/controls",
          "model_name": "DescriptionStyleModel",
          "state": {
            "_view_name": "StyleView",
            "_model_name": "DescriptionStyleModel",
            "description_width": "",
            "_view_module": "@jupyter-widgets/base",
            "_model_module_version": "1.5.0",
            "_view_count": null,
            "_view_module_version": "1.2.0",
            "_model_module": "@jupyter-widgets/controls"
          },
          "model_module_version": "1.5.0"
        },
        "1a111c15c0d04cae913230b95d609349": {
          "model_module": "@jupyter-widgets/base",
          "model_name": "LayoutModel",
          "state": {
            "_view_name": "LayoutView",
            "grid_template_rows": null,
            "right": null,
            "justify_content": null,
            "_view_module": "@jupyter-widgets/base",
            "overflow": null,
            "_model_module_version": "1.2.0",
            "_view_count": null,
            "flex_flow": null,
            "width": null,
            "min_width": null,
            "border": null,
            "align_items": null,
            "bottom": null,
            "_model_module": "@jupyter-widgets/base",
            "top": null,
            "grid_column": null,
            "overflow_y": null,
            "overflow_x": null,
            "grid_auto_flow": null,
            "grid_area": null,
            "grid_template_columns": null,
            "flex": null,
            "_model_name": "LayoutModel",
            "justify_items": null,
            "grid_row": null,
            "max_height": null,
            "align_content": null,
            "visibility": null,
            "align_self": null,
            "height": null,
            "min_height": null,
            "padding": null,
            "grid_auto_rows": null,
            "grid_gap": null,
            "max_width": null,
            "order": null,
            "_view_module_version": "1.2.0",
            "grid_template_areas": null,
            "object_position": null,
            "object_fit": null,
            "grid_auto_columns": null,
            "margin": null,
            "display": null,
            "left": null
          },
          "model_module_version": "1.2.0"
        },
        "d462a27181594128aaa232c37241ffd2": {
          "model_module": "@jupyter-widgets/controls",
          "model_name": "HBoxModel",
          "state": {
            "_view_name": "HBoxView",
            "_dom_classes": [],
            "_model_name": "HBoxModel",
            "_view_module": "@jupyter-widgets/controls",
            "_model_module_version": "1.5.0",
            "_view_count": null,
            "_view_module_version": "1.5.0",
            "box_style": "",
            "layout": "IPY_MODEL_0e96dd6bbc054cf38d61bae805775004",
            "_model_module": "@jupyter-widgets/controls",
            "children": [
              "IPY_MODEL_f55de5471f5442b1a86ec10920883b82",
              "IPY_MODEL_80b3c57c94914b46a41c2f3eb9129ce2"
            ]
          },
          "model_module_version": "1.5.0"
        },
        "0e96dd6bbc054cf38d61bae805775004": {
          "model_module": "@jupyter-widgets/base",
          "model_name": "LayoutModel",
          "state": {
            "_view_name": "LayoutView",
            "grid_template_rows": null,
            "right": null,
            "justify_content": null,
            "_view_module": "@jupyter-widgets/base",
            "overflow": null,
            "_model_module_version": "1.2.0",
            "_view_count": null,
            "flex_flow": null,
            "width": null,
            "min_width": null,
            "border": null,
            "align_items": null,
            "bottom": null,
            "_model_module": "@jupyter-widgets/base",
            "top": null,
            "grid_column": null,
            "overflow_y": null,
            "overflow_x": null,
            "grid_auto_flow": null,
            "grid_area": null,
            "grid_template_columns": null,
            "flex": null,
            "_model_name": "LayoutModel",
            "justify_items": null,
            "grid_row": null,
            "max_height": null,
            "align_content": null,
            "visibility": null,
            "align_self": null,
            "height": null,
            "min_height": null,
            "padding": null,
            "grid_auto_rows": null,
            "grid_gap": null,
            "max_width": null,
            "order": null,
            "_view_module_version": "1.2.0",
            "grid_template_areas": null,
            "object_position": null,
            "object_fit": null,
            "grid_auto_columns": null,
            "margin": null,
            "display": null,
            "left": null
          },
          "model_module_version": "1.2.0"
        },
        "f55de5471f5442b1a86ec10920883b82": {
          "model_module": "@jupyter-widgets/controls",
          "model_name": "FloatProgressModel",
          "state": {
            "_view_name": "ProgressView",
            "style": "IPY_MODEL_ac6672eb4c3842089a23487205d4e830",
            "_dom_classes": [],
            "description": "Downloading: 100%",
            "_model_name": "FloatProgressModel",
            "bar_style": "success",
            "max": 570,
            "_view_module": "@jupyter-widgets/controls",
            "_model_module_version": "1.5.0",
            "value": 570,
            "_view_count": null,
            "_view_module_version": "1.5.0",
            "orientation": "horizontal",
            "min": 0,
            "description_tooltip": null,
            "_model_module": "@jupyter-widgets/controls",
            "layout": "IPY_MODEL_9a4e20efd69846ee9e42686c9b08e1f8"
          },
          "model_module_version": "1.5.0"
        },
        "80b3c57c94914b46a41c2f3eb9129ce2": {
          "model_module": "@jupyter-widgets/controls",
          "model_name": "HTMLModel",
          "state": {
            "_view_name": "HTMLView",
            "style": "IPY_MODEL_46a21e76446b427d8e8448b177157406",
            "_dom_classes": [],
            "description": "",
            "_model_name": "HTMLModel",
            "placeholder": "​",
            "_view_module": "@jupyter-widgets/controls",
            "_model_module_version": "1.5.0",
            "value": " 570/570 [00:10&lt;00:00, 52.9B/s]",
            "_view_count": null,
            "_view_module_version": "1.5.0",
            "description_tooltip": null,
            "_model_module": "@jupyter-widgets/controls",
            "layout": "IPY_MODEL_5cdbb1640485419689b822604f9dede0"
          },
          "model_module_version": "1.5.0"
        },
        "ac6672eb4c3842089a23487205d4e830": {
          "model_module": "@jupyter-widgets/controls",
          "model_name": "ProgressStyleModel",
          "state": {
            "_view_name": "StyleView",
            "_model_name": "ProgressStyleModel",
            "description_width": "initial",
            "_view_module": "@jupyter-widgets/base",
            "_model_module_version": "1.5.0",
            "_view_count": null,
            "_view_module_version": "1.2.0",
            "bar_color": null,
            "_model_module": "@jupyter-widgets/controls"
          },
          "model_module_version": "1.5.0"
        },
        "9a4e20efd69846ee9e42686c9b08e1f8": {
          "model_module": "@jupyter-widgets/base",
          "model_name": "LayoutModel",
          "state": {
            "_view_name": "LayoutView",
            "grid_template_rows": null,
            "right": null,
            "justify_content": null,
            "_view_module": "@jupyter-widgets/base",
            "overflow": null,
            "_model_module_version": "1.2.0",
            "_view_count": null,
            "flex_flow": null,
            "width": null,
            "min_width": null,
            "border": null,
            "align_items": null,
            "bottom": null,
            "_model_module": "@jupyter-widgets/base",
            "top": null,
            "grid_column": null,
            "overflow_y": null,
            "overflow_x": null,
            "grid_auto_flow": null,
            "grid_area": null,
            "grid_template_columns": null,
            "flex": null,
            "_model_name": "LayoutModel",
            "justify_items": null,
            "grid_row": null,
            "max_height": null,
            "align_content": null,
            "visibility": null,
            "align_self": null,
            "height": null,
            "min_height": null,
            "padding": null,
            "grid_auto_rows": null,
            "grid_gap": null,
            "max_width": null,
            "order": null,
            "_view_module_version": "1.2.0",
            "grid_template_areas": null,
            "object_position": null,
            "object_fit": null,
            "grid_auto_columns": null,
            "margin": null,
            "display": null,
            "left": null
          },
          "model_module_version": "1.2.0"
        },
        "46a21e76446b427d8e8448b177157406": {
          "model_module": "@jupyter-widgets/controls",
          "model_name": "DescriptionStyleModel",
          "state": {
            "_view_name": "StyleView",
            "_model_name": "DescriptionStyleModel",
            "description_width": "",
            "_view_module": "@jupyter-widgets/base",
            "_model_module_version": "1.5.0",
            "_view_count": null,
            "_view_module_version": "1.2.0",
            "_model_module": "@jupyter-widgets/controls"
          },
          "model_module_version": "1.5.0"
        },
        "5cdbb1640485419689b822604f9dede0": {
          "model_module": "@jupyter-widgets/base",
          "model_name": "LayoutModel",
          "state": {
            "_view_name": "LayoutView",
            "grid_template_rows": null,
            "right": null,
            "justify_content": null,
            "_view_module": "@jupyter-widgets/base",
            "overflow": null,
            "_model_module_version": "1.2.0",
            "_view_count": null,
            "flex_flow": null,
            "width": null,
            "min_width": null,
            "border": null,
            "align_items": null,
            "bottom": null,
            "_model_module": "@jupyter-widgets/base",
            "top": null,
            "grid_column": null,
            "overflow_y": null,
            "overflow_x": null,
            "grid_auto_flow": null,
            "grid_area": null,
            "grid_template_columns": null,
            "flex": null,
            "_model_name": "LayoutModel",
            "justify_items": null,
            "grid_row": null,
            "max_height": null,
            "align_content": null,
            "visibility": null,
            "align_self": null,
            "height": null,
            "min_height": null,
            "padding": null,
            "grid_auto_rows": null,
            "grid_gap": null,
            "max_width": null,
            "order": null,
            "_view_module_version": "1.2.0",
            "grid_template_areas": null,
            "object_position": null,
            "object_fit": null,
            "grid_auto_columns": null,
            "margin": null,
            "display": null,
            "left": null
          },
          "model_module_version": "1.2.0"
        },
        "be8e7b1b96214e41ab1ce12b1608c742": {
          "model_module": "@jupyter-widgets/controls",
          "model_name": "HBoxModel",
          "state": {
            "_view_name": "HBoxView",
            "_dom_classes": [],
            "_model_name": "HBoxModel",
            "_view_module": "@jupyter-widgets/controls",
            "_model_module_version": "1.5.0",
            "_view_count": null,
            "_view_module_version": "1.5.0",
            "box_style": "",
            "layout": "IPY_MODEL_99daa0b40fd94113ba3e9dfe18bc6acd",
            "_model_module": "@jupyter-widgets/controls",
            "children": [
              "IPY_MODEL_6f57dbd2cdc3452c8a323ad73885f022",
              "IPY_MODEL_d5346e3c5424468ead4c36aad242071b"
            ]
          },
          "model_module_version": "1.5.0"
        },
        "99daa0b40fd94113ba3e9dfe18bc6acd": {
          "model_module": "@jupyter-widgets/base",
          "model_name": "LayoutModel",
          "state": {
            "_view_name": "LayoutView",
            "grid_template_rows": null,
            "right": null,
            "justify_content": null,
            "_view_module": "@jupyter-widgets/base",
            "overflow": null,
            "_model_module_version": "1.2.0",
            "_view_count": null,
            "flex_flow": null,
            "width": null,
            "min_width": null,
            "border": null,
            "align_items": null,
            "bottom": null,
            "_model_module": "@jupyter-widgets/base",
            "top": null,
            "grid_column": null,
            "overflow_y": null,
            "overflow_x": null,
            "grid_auto_flow": null,
            "grid_area": null,
            "grid_template_columns": null,
            "flex": null,
            "_model_name": "LayoutModel",
            "justify_items": null,
            "grid_row": null,
            "max_height": null,
            "align_content": null,
            "visibility": null,
            "align_self": null,
            "height": null,
            "min_height": null,
            "padding": null,
            "grid_auto_rows": null,
            "grid_gap": null,
            "max_width": null,
            "order": null,
            "_view_module_version": "1.2.0",
            "grid_template_areas": null,
            "object_position": null,
            "object_fit": null,
            "grid_auto_columns": null,
            "margin": null,
            "display": null,
            "left": null
          },
          "model_module_version": "1.2.0"
        },
        "6f57dbd2cdc3452c8a323ad73885f022": {
          "model_module": "@jupyter-widgets/controls",
          "model_name": "FloatProgressModel",
          "state": {
            "_view_name": "ProgressView",
            "style": "IPY_MODEL_9b5fb0beb07a4d34b17e563aaa3224f7",
            "_dom_classes": [],
            "description": "Downloading: 100%",
            "_model_name": "FloatProgressModel",
            "bar_style": "success",
            "max": 536063208,
            "_view_module": "@jupyter-widgets/controls",
            "_model_module_version": "1.5.0",
            "value": 536063208,
            "_view_count": null,
            "_view_module_version": "1.5.0",
            "orientation": "horizontal",
            "min": 0,
            "description_tooltip": null,
            "_model_module": "@jupyter-widgets/controls",
            "layout": "IPY_MODEL_8a7daa1b89594effb79a264cffb68e70"
          },
          "model_module_version": "1.5.0"
        },
        "d5346e3c5424468ead4c36aad242071b": {
          "model_module": "@jupyter-widgets/controls",
          "model_name": "HTMLModel",
          "state": {
            "_view_name": "HTMLView",
            "style": "IPY_MODEL_8a992f1f30fd4f2ebbc83bb1f2d460ad",
            "_dom_classes": [],
            "description": "",
            "_model_name": "HTMLModel",
            "placeholder": "​",
            "_view_module": "@jupyter-widgets/controls",
            "_model_module_version": "1.5.0",
            "value": " 536M/536M [00:10&lt;00:00, 52.6MB/s]",
            "_view_count": null,
            "_view_module_version": "1.5.0",
            "description_tooltip": null,
            "_model_module": "@jupyter-widgets/controls",
            "layout": "IPY_MODEL_6f540f01d5224bf89869ccea136acb7e"
          },
          "model_module_version": "1.5.0"
        },
        "9b5fb0beb07a4d34b17e563aaa3224f7": {
          "model_module": "@jupyter-widgets/controls",
          "model_name": "ProgressStyleModel",
          "state": {
            "_view_name": "StyleView",
            "_model_name": "ProgressStyleModel",
            "description_width": "initial",
            "_view_module": "@jupyter-widgets/base",
            "_model_module_version": "1.5.0",
            "_view_count": null,
            "_view_module_version": "1.2.0",
            "bar_color": null,
            "_model_module": "@jupyter-widgets/controls"
          },
          "model_module_version": "1.5.0"
        },
        "8a7daa1b89594effb79a264cffb68e70": {
          "model_module": "@jupyter-widgets/base",
          "model_name": "LayoutModel",
          "state": {
            "_view_name": "LayoutView",
            "grid_template_rows": null,
            "right": null,
            "justify_content": null,
            "_view_module": "@jupyter-widgets/base",
            "overflow": null,
            "_model_module_version": "1.2.0",
            "_view_count": null,
            "flex_flow": null,
            "width": null,
            "min_width": null,
            "border": null,
            "align_items": null,
            "bottom": null,
            "_model_module": "@jupyter-widgets/base",
            "top": null,
            "grid_column": null,
            "overflow_y": null,
            "overflow_x": null,
            "grid_auto_flow": null,
            "grid_area": null,
            "grid_template_columns": null,
            "flex": null,
            "_model_name": "LayoutModel",
            "justify_items": null,
            "grid_row": null,
            "max_height": null,
            "align_content": null,
            "visibility": null,
            "align_self": null,
            "height": null,
            "min_height": null,
            "padding": null,
            "grid_auto_rows": null,
            "grid_gap": null,
            "max_width": null,
            "order": null,
            "_view_module_version": "1.2.0",
            "grid_template_areas": null,
            "object_position": null,
            "object_fit": null,
            "grid_auto_columns": null,
            "margin": null,
            "display": null,
            "left": null
          },
          "model_module_version": "1.2.0"
        },
        "8a992f1f30fd4f2ebbc83bb1f2d460ad": {
          "model_module": "@jupyter-widgets/controls",
          "model_name": "DescriptionStyleModel",
          "state": {
            "_view_name": "StyleView",
            "_model_name": "DescriptionStyleModel",
            "description_width": "",
            "_view_module": "@jupyter-widgets/base",
            "_model_module_version": "1.5.0",
            "_view_count": null,
            "_view_module_version": "1.2.0",
            "_model_module": "@jupyter-widgets/controls"
          },
          "model_module_version": "1.5.0"
        },
        "6f540f01d5224bf89869ccea136acb7e": {
          "model_module": "@jupyter-widgets/base",
          "model_name": "LayoutModel",
          "state": {
            "_view_name": "LayoutView",
            "grid_template_rows": null,
            "right": null,
            "justify_content": null,
            "_view_module": "@jupyter-widgets/base",
            "overflow": null,
            "_model_module_version": "1.2.0",
            "_view_count": null,
            "flex_flow": null,
            "width": null,
            "min_width": null,
            "border": null,
            "align_items": null,
            "bottom": null,
            "_model_module": "@jupyter-widgets/base",
            "top": null,
            "grid_column": null,
            "overflow_y": null,
            "overflow_x": null,
            "grid_auto_flow": null,
            "grid_area": null,
            "grid_template_columns": null,
            "flex": null,
            "_model_name": "LayoutModel",
            "justify_items": null,
            "grid_row": null,
            "max_height": null,
            "align_content": null,
            "visibility": null,
            "align_self": null,
            "height": null,
            "min_height": null,
            "padding": null,
            "grid_auto_rows": null,
            "grid_gap": null,
            "max_width": null,
            "order": null,
            "_view_module_version": "1.2.0",
            "grid_template_areas": null,
            "object_position": null,
            "object_fit": null,
            "grid_auto_columns": null,
            "margin": null,
            "display": null,
            "left": null
          },
          "model_module_version": "1.2.0"
        }
      }
    }
  },
  "cells": [
    {
      "cell_type": "markdown",
      "metadata": {
        "id": "lEl8X8mQgYWM"
      },
      "source": [
        "# Fine-tuning the BERT model for Tip Mining\n",
        "Combination of Huggingface library and TensorFlow \n",
        " --------------------------------------\n",
        "@author: Erik van der Heide, EUR 2021-2022"
      ]
    },
    {
      "cell_type": "code",
      "metadata": {
        "colab": {
          "base_uri": "https://localhost:8080/"
        },
        "id": "YAG9N3Rixr2I",
        "outputId": "47ecac7b-a8bd-4c70-c4ca-1b3e2310e3d1"
      },
      "source": [
        "!nvidia-smi"
      ],
      "execution_count": null,
      "outputs": [
        {
          "output_type": "stream",
          "text": [
            "Wed Jun 23 11:46:26 2021       \n",
            "+-----------------------------------------------------------------------------+\n",
            "| NVIDIA-SMI 465.27       Driver Version: 460.32.03    CUDA Version: 11.2     |\n",
            "|-------------------------------+----------------------+----------------------+\n",
            "| GPU  Name        Persistence-M| Bus-Id        Disp.A | Volatile Uncorr. ECC |\n",
            "| Fan  Temp  Perf  Pwr:Usage/Cap|         Memory-Usage | GPU-Util  Compute M. |\n",
            "|                               |                      |               MIG M. |\n",
            "|===============================+======================+======================|\n",
            "|   0  Tesla T4            Off  | 00000000:00:04.0 Off |                    0 |\n",
            "| N/A   73C    P0    32W /  70W |   4478MiB / 15109MiB |      0%      Default |\n",
            "|                               |                      |                  N/A |\n",
            "+-------------------------------+----------------------+----------------------+\n",
            "                                                                               \n",
            "+-----------------------------------------------------------------------------+\n",
            "| Processes:                                                                  |\n",
            "|  GPU   GI   CI        PID   Type   Process name                  GPU Memory |\n",
            "|        ID   ID                                                   Usage      |\n",
            "|=============================================================================|\n",
            "+-----------------------------------------------------------------------------+\n"
          ],
          "name": "stdout"
        }
      ]
    },
    {
      "cell_type": "markdown",
      "metadata": {
        "id": "zwKM4ly4GrDB"
      },
      "source": [
        "### Hyperparameters"
      ]
    },
    {
      "cell_type": "code",
      "metadata": {
        "id": "OPCdninmiEoS"
      },
      "source": [
        "# Hyperparameters\n",
        "data_type = 'full'         # Choose data 'subsetX' or 'full'\n",
        "model_type = 'bert'        # Choose model 'bert', 'distilbert' or 'roberta'\n",
        "optim_type = 'adam'        # Choose optimizer 'Adam' or 'AdamW'\n",
        "use_weights = True         # True when using class weights for unbalanced data, False ow\n",
        "max_seq_length = 64        # define maximum length (32, 64)\n",
        "train_batch_size = 16      # define batch size (16, 32)\n",
        "learning_rate = 2e-5       # define learning rate (2e-5, 3e-5, 5e-5)\n",
        "num_epochs = 2             # define nr. of epoch (1, 2, 3, 4)"
      ],
      "execution_count": null,
      "outputs": []
    },
    {
      "cell_type": "markdown",
      "metadata": {
        "id": "Q4JY9K4cHll0"
      },
      "source": [
        "### Installations & packages"
      ]
    },
    {
      "cell_type": "code",
      "metadata": {
        "id": "M8MANF7XgMUX",
        "colab": {
          "base_uri": "https://localhost:8080/"
        },
        "outputId": "8b33cbe6-294f-4ec2-a145-dbc787c12bc6"
      },
      "source": [
        "# Install transformers\n",
        "!pip install transformers"
      ],
      "execution_count": null,
      "outputs": [
        {
          "output_type": "stream",
          "text": [
            "Requirement already satisfied: transformers in /usr/local/lib/python3.7/dist-packages (4.7.0)\n",
            "Requirement already satisfied: importlib-metadata; python_version < \"3.8\" in /usr/local/lib/python3.7/dist-packages (from transformers) (4.5.0)\n",
            "Requirement already satisfied: filelock in /usr/local/lib/python3.7/dist-packages (from transformers) (3.0.12)\n",
            "Requirement already satisfied: huggingface-hub==0.0.8 in /usr/local/lib/python3.7/dist-packages (from transformers) (0.0.8)\n",
            "Requirement already satisfied: packaging in /usr/local/lib/python3.7/dist-packages (from transformers) (20.9)\n",
            "Requirement already satisfied: sacremoses in /usr/local/lib/python3.7/dist-packages (from transformers) (0.0.45)\n",
            "Requirement already satisfied: regex!=2019.12.17 in /usr/local/lib/python3.7/dist-packages (from transformers) (2019.12.20)\n",
            "Requirement already satisfied: tokenizers<0.11,>=0.10.1 in /usr/local/lib/python3.7/dist-packages (from transformers) (0.10.3)\n",
            "Requirement already satisfied: pyyaml in /usr/local/lib/python3.7/dist-packages (from transformers) (3.13)\n",
            "Requirement already satisfied: numpy>=1.17 in /usr/local/lib/python3.7/dist-packages (from transformers) (1.19.5)\n",
            "Requirement already satisfied: requests in /usr/local/lib/python3.7/dist-packages (from transformers) (2.23.0)\n",
            "Requirement already satisfied: tqdm>=4.27 in /usr/local/lib/python3.7/dist-packages (from transformers) (4.41.1)\n",
            "Requirement already satisfied: typing-extensions>=3.6.4; python_version < \"3.8\" in /usr/local/lib/python3.7/dist-packages (from importlib-metadata; python_version < \"3.8\"->transformers) (3.7.4.3)\n",
            "Requirement already satisfied: zipp>=0.5 in /usr/local/lib/python3.7/dist-packages (from importlib-metadata; python_version < \"3.8\"->transformers) (3.4.1)\n",
            "Requirement already satisfied: pyparsing>=2.0.2 in /usr/local/lib/python3.7/dist-packages (from packaging->transformers) (2.4.7)\n",
            "Requirement already satisfied: joblib in /usr/local/lib/python3.7/dist-packages (from sacremoses->transformers) (1.0.1)\n",
            "Requirement already satisfied: six in /usr/local/lib/python3.7/dist-packages (from sacremoses->transformers) (1.15.0)\n",
            "Requirement already satisfied: click in /usr/local/lib/python3.7/dist-packages (from sacremoses->transformers) (7.1.2)\n",
            "Requirement already satisfied: chardet<4,>=3.0.2 in /usr/local/lib/python3.7/dist-packages (from requests->transformers) (3.0.4)\n",
            "Requirement already satisfied: certifi>=2017.4.17 in /usr/local/lib/python3.7/dist-packages (from requests->transformers) (2021.5.30)\n",
            "Requirement already satisfied: urllib3!=1.25.0,!=1.25.1,<1.26,>=1.21.1 in /usr/local/lib/python3.7/dist-packages (from requests->transformers) (1.24.3)\n",
            "Requirement already satisfied: idna<3,>=2.5 in /usr/local/lib/python3.7/dist-packages (from requests->transformers) (2.10)\n"
          ],
          "name": "stdout"
        }
      ]
    },
    {
      "cell_type": "code",
      "metadata": {
        "id": "9PND8MMOj6GZ"
      },
      "source": [
        "# Install tensorflow model environment\n",
        "#!pip install -q tf-models-official"
      ],
      "execution_count": null,
      "outputs": []
    },
    {
      "cell_type": "code",
      "metadata": {
        "id": "chlnSn9XjmGS"
      },
      "source": [
        "# Packages\n",
        "import pandas as pd\n",
        "import time\n",
        "import random\n",
        "\n",
        "import torch\n",
        "import torch.nn as nn\n",
        "import tensorflow as tf\n",
        "#from official.nlp import optimization\n",
        "\n",
        "from transformers import BertTokenizerFast, DistilBertTokenizerFast, RobertaTokenizerFast\n",
        "from transformers import TFDistilBertForSequenceClassification\n",
        "from transformers import TFBertForSequenceClassification\n",
        "from transformers import TFRobertaForSequenceClassification\n",
        "\n",
        "import matplotlib.pyplot as plt\n",
        "from sklearn.model_selection import train_test_split\n",
        "from sklearn.metrics import precision_score, recall_score, f1_score\n",
        "from sklearn.metrics import roc_auc_score, accuracy_score, precision_recall_curve\n",
        "from sklearn.metrics import confusion_matrix\n",
        "from sklearn.utils import shuffle"
      ],
      "execution_count": null,
      "outputs": []
    },
    {
      "cell_type": "markdown",
      "metadata": {
        "id": "i-kFITrbixaV"
      },
      "source": [
        "### Loading the data"
      ]
    },
    {
      "cell_type": "code",
      "metadata": {
        "colab": {
          "base_uri": "https://localhost:8080/"
        },
        "id": "WfNhXJtRh4XW",
        "outputId": "0f4aec8a-8cc4-4755-a302-bfef88ae1be9"
      },
      "source": [
        "from google.colab import drive\n",
        "drive.mount('/content/drive')"
      ],
      "execution_count": null,
      "outputs": [
        {
          "output_type": "stream",
          "text": [
            "Drive already mounted at /content/drive; to attempt to forcibly remount, call drive.mount(\"/content/drive\", force_remount=True).\n"
          ],
          "name": "stdout"
        }
      ]
    },
    {
      "cell_type": "markdown",
      "metadata": {
        "id": "I1qX45l6wmbc"
      },
      "source": [
        "Training data"
      ]
    },
    {
      "cell_type": "code",
      "metadata": {
        "id": "98HkvQFVh-K2",
        "colab": {
          "base_uri": "https://localhost:8080/"
        },
        "outputId": "6d46abf7-5cc6-44b2-ce9a-44fb6092ea4a"
      },
      "source": [
        "if data_type=='subset' : path =\"drive/MyDrive/Thesis BA&QM 2021/Data/td_clean_subset.csv\"\n",
        "if data_type=='subsetf': path =\"drive/MyDrive/Thesis BA&QM 2021/Data/td_clean_subset_filtered.csv\" \n",
        "if data_type=='full'   : path =\"drive/MyDrive/Thesis BA&QM 2021/Data/td_clean.csv\"    \n",
        "if data_type=='fullf'  : path =\"drive/MyDrive/Thesis BA&QM 2021/Data/td_clean_full_filtered.csv\"   \n",
        "\n",
        "# Read in data\n",
        "df = pd.read_csv(path, sep=\"\\t\", header=0)\n",
        "print(path)"
      ],
      "execution_count": null,
      "outputs": [
        {
          "output_type": "stream",
          "text": [
            "drive/MyDrive/Thesis BA&QM 2021/Data/td_clean.csv\n"
          ],
          "name": "stdout"
        }
      ]
    },
    {
      "cell_type": "markdown",
      "metadata": {
        "id": "odokhnwNwnzC"
      },
      "source": [
        "Evaluation data"
      ]
    },
    {
      "cell_type": "code",
      "metadata": {
        "id": "zHk6S9rlwpkF"
      },
      "source": [
        "ev_baby = pd.read_csv(\"drive/MyDrive/Thesis BA&QM 2021/Data/ev10_baby_5.csv\", sep=\"\\t\", header=0)\n",
        "ev_cloth = pd.read_csv(\"drive/MyDrive/Thesis BA&QM 2021/Data/ev10_cloth_5.csv\", sep=\"\\t\", header=0)\n",
        "ev_food = pd.read_csv(\"drive/MyDrive/Thesis BA&QM 2021/Data/ev10_food_5.csv\", sep=\"\\t\", header=0)\n",
        "ev_health = pd.read_csv(\"drive/MyDrive/Thesis BA&QM 2021/Data/ev10_health_5.csv\", sep=\"\\t\", header=0)\n",
        "ev_music = pd.read_csv(\"drive/MyDrive/Thesis BA&QM 2021/Data/ev10_music_5.csv\", sep=\"\\t\", header=0)\n",
        "ev_phone = pd.read_csv(\"drive/MyDrive/Thesis BA&QM 2021/Data/ev10_phone_5.csv\", sep=\"\\t\", header=0)\n",
        "ev_sports = pd.read_csv(\"drive/MyDrive/Thesis BA&QM 2021/Data/ev10_sports_5.csv\", sep=\"\\t\", header=0)\n",
        "ev_tools = pd.read_csv(\"drive/MyDrive/Thesis BA&QM 2021/Data/ev10_tools_5.csv\", sep=\"\\t\", header=0)\n",
        "ev_toys = pd.read_csv(\"drive/MyDrive/Thesis BA&QM 2021/Data/ev10_toys_5.csv\", sep=\"\\t\", header=0)\n",
        "ev_video = pd.read_csv(\"drive/MyDrive/Thesis BA&QM 2021/Data/ev10_video_5.csv\", sep=\"\\t\", header=0)"
      ],
      "execution_count": null,
      "outputs": []
    },
    {
      "cell_type": "code",
      "metadata": {
        "id": "Ijs6Y9eWh_tt",
        "colab": {
          "base_uri": "https://localhost:8080/"
        },
        "outputId": "a08c5e0b-68f7-474e-8485-a9e0bf97aff9"
      },
      "source": [
        "# Choose which data you want to use\n",
        "df = df[['sentence', 'tip']]\n",
        "df.reset_index(drop=True, inplace=True)\n",
        "df['tip'] = df['tip'].astype(int)\n",
        "print(f\"Tip distribution:\\n{df['tip'].value_counts(normalize=True)}\")\n",
        "df.dtypes"
      ],
      "execution_count": null,
      "outputs": [
        {
          "output_type": "stream",
          "text": [
            "Tip distribution:\n",
            "0    0.954229\n",
            "1    0.045771\n",
            "Name: tip, dtype: float64\n"
          ],
          "name": "stdout"
        },
        {
          "output_type": "execute_result",
          "data": {
            "text/plain": [
              "sentence    object\n",
              "tip          int64\n",
              "dtype: object"
            ]
          },
          "metadata": {
            "tags": []
          },
          "execution_count": 109
        }
      ]
    },
    {
      "cell_type": "markdown",
      "metadata": {
        "id": "TI4A80_pJCkD"
      },
      "source": [
        "We split the data into 65% training, 15% validation and 20% testing."
      ]
    },
    {
      "cell_type": "code",
      "metadata": {
        "colab": {
          "base_uri": "https://localhost:8080/"
        },
        "id": "67OWFeVXSqQm",
        "outputId": "fe7000af-421a-49b2-ca73-3c09f16707fa"
      },
      "source": [
        "# Train+validation and test split\n",
        "df = shuffle(df, random_state=0)\n",
        "\n",
        "X_train = df['sentence']\n",
        "y_train = df['tip']\n",
        "\n",
        "# Sizes & example:\n",
        "print(f\"Train size : {X_train.size} - {100*round(X_train.size/df.shape[0], 2)}% - ratio {round(y_train.value_counts(normalize=True)[0],2)}-{round(y_train.value_counts(normalize=True)[1],2)}\")"
      ],
      "execution_count": null,
      "outputs": [
        {
          "output_type": "stream",
          "text": [
            "Train size : 84071 - 100.0% - ratio 0.95-0.05\n"
          ],
          "name": "stdout"
        }
      ]
    },
    {
      "cell_type": "markdown",
      "metadata": {
        "id": "XxITzUEzi1dU"
      },
      "source": [
        "### Tokenization"
      ]
    },
    {
      "cell_type": "markdown",
      "metadata": {
        "id": "HOm13llsVosx"
      },
      "source": [
        "Choose a tokenizer corresponding to your model of choice."
      ]
    },
    {
      "cell_type": "code",
      "metadata": {
        "colab": {
          "base_uri": "https://localhost:8080/",
          "height": 201,
          "referenced_widgets": [
            "fc685ddf904549b7bedb8b00c4578f0e",
            "0016a888adf64a81b4d23040bbff4258",
            "3b07ed99d67f43c49f6c35c744e08750",
            "05a6efc431944daab7070289dd1c3f53",
            "7bd194d465c740a6b016fef9bc0516ff",
            "c142582c655145df9695012f1378fa7e",
            "5e7d0910c6a24240adca4bddb2b1a481",
            "8bdae9b2226447e8882883d598b9355d",
            "900f7c86f2c84d278ee28b93872d1a3b",
            "58661e3adf54434c90bff829a8ddade4",
            "a9e9531b86cb41d48e7464814b184217",
            "edd0a34ac6e94b80a28b6e9decb6365d",
            "4e202d186c394d259f53a071cf78efb5",
            "9e425780c37e4a2685dcd04653758da4",
            "8eaf39bb106345bda0ba5e7eb20f13c9",
            "1345feddd1804c6c9080b4c5071b9373",
            "785678c03e724f72b92482f30d8e95f7",
            "4190e6f85cc64967b5aeefa61178155b",
            "aea9f2f000f14276aa160ba66a7a08eb",
            "8ac9b11a51a7452bb6959c191fecc369",
            "df723ee1fdbe443c9404b1262f4eb0a3",
            "a63da89a4c73414e94fa2afce9a3784f",
            "c16cb5d477b54fc98def1386a913205e",
            "1a111c15c0d04cae913230b95d609349"
          ]
        },
        "id": "JlvyO6TK36Sz",
        "outputId": "511e5540-1a4f-4c69-86ae-45db83eda2f3"
      },
      "source": [
        "if model_type.lower() == 'distilbert':\n",
        "  tokenizer = DistilBertTokenizerFast.from_pretrained('distilbert-base-uncased')\n",
        "elif model_type.lower() == 'bert':\n",
        "  tokenizer = BertTokenizerFast.from_pretrained('bert-base-uncased')\n",
        "elif model_type.lower() == 'roberta':\n",
        "  tokenizer = RobertaTokenizerFast.from_pretrained('roberta-base')\n",
        "tokenizer"
      ],
      "execution_count": null,
      "outputs": [
        {
          "output_type": "display_data",
          "data": {
            "application/vnd.jupyter.widget-view+json": {
              "model_id": "fc685ddf904549b7bedb8b00c4578f0e",
              "version_minor": 0,
              "version_major": 2
            },
            "text/plain": [
              "HBox(children=(FloatProgress(value=0.0, description='Downloading', max=231508.0, style=ProgressStyle(descripti…"
            ]
          },
          "metadata": {
            "tags": []
          }
        },
        {
          "output_type": "stream",
          "text": [
            "\n"
          ],
          "name": "stdout"
        },
        {
          "output_type": "display_data",
          "data": {
            "application/vnd.jupyter.widget-view+json": {
              "model_id": "900f7c86f2c84d278ee28b93872d1a3b",
              "version_minor": 0,
              "version_major": 2
            },
            "text/plain": [
              "HBox(children=(FloatProgress(value=0.0, description='Downloading', max=466062.0, style=ProgressStyle(descripti…"
            ]
          },
          "metadata": {
            "tags": []
          }
        },
        {
          "output_type": "stream",
          "text": [
            "\n"
          ],
          "name": "stdout"
        },
        {
          "output_type": "display_data",
          "data": {
            "application/vnd.jupyter.widget-view+json": {
              "model_id": "785678c03e724f72b92482f30d8e95f7",
              "version_minor": 0,
              "version_major": 2
            },
            "text/plain": [
              "HBox(children=(FloatProgress(value=0.0, description='Downloading', max=28.0, style=ProgressStyle(description_w…"
            ]
          },
          "metadata": {
            "tags": []
          }
        },
        {
          "output_type": "stream",
          "text": [
            "\n"
          ],
          "name": "stdout"
        },
        {
          "output_type": "execute_result",
          "data": {
            "text/plain": [
              "PreTrainedTokenizerFast(name_or_path='bert-base-uncased', vocab_size=30522, model_max_len=512, is_fast=True, padding_side='right', special_tokens={'unk_token': '[UNK]', 'sep_token': '[SEP]', 'pad_token': '[PAD]', 'cls_token': '[CLS]', 'mask_token': '[MASK]'})"
            ]
          },
          "metadata": {
            "tags": []
          },
          "execution_count": 111
        }
      ]
    },
    {
      "cell_type": "markdown",
      "metadata": {
        "id": "NHuaJVHKchXl"
      },
      "source": [
        "Tokenize the training, validation and test set."
      ]
    },
    {
      "cell_type": "code",
      "metadata": {
        "id": "osqHdzuRi4l2"
      },
      "source": [
        "train_encodings = tokenizer(X_train.tolist(), truncation=True, padding=True, max_length=max_seq_length)\n",
        "\n",
        "# Example\n",
        "#print(f\"Example        : {X_train[0]}\")\n",
        "#toks = ['CLS'] + tokenizer.tokenize(X_train[0]) + ['SEP']\n",
        "#print(f\"Tokens         : {toks}  ({len(toks)} tokens)\")\n",
        "#print(f\"Token id's     : {train_encodings['input_ids'][0]}\")\n",
        "#print(f\"Attention mask : {train_encodings['attention_mask'][0]}\")"
      ],
      "execution_count": null,
      "outputs": []
    },
    {
      "cell_type": "code",
      "metadata": {
        "id": "kDdk0FvckI4T"
      },
      "source": [
        "#with tf.device('/cpu:0'): # run on cpu\n",
        "# Write datasets to tensor slices\n",
        "train_dataset = tf.data.Dataset.from_tensor_slices((dict(train_encodings), y_train))"
      ],
      "execution_count": null,
      "outputs": []
    },
    {
      "cell_type": "markdown",
      "metadata": {
        "id": "Etl7V8zMvIdC"
      },
      "source": [
        "### Model definition"
      ]
    },
    {
      "cell_type": "markdown",
      "metadata": {
        "id": "n_hzECssivS3"
      },
      "source": [
        "Set the model to your prefered model architecture."
      ]
    },
    {
      "cell_type": "code",
      "metadata": {
        "id": "ik-G9mKJGwWO",
        "colab": {
          "base_uri": "https://localhost:8080/",
          "height": 200,
          "referenced_widgets": [
            "d462a27181594128aaa232c37241ffd2",
            "0e96dd6bbc054cf38d61bae805775004",
            "f55de5471f5442b1a86ec10920883b82",
            "80b3c57c94914b46a41c2f3eb9129ce2",
            "ac6672eb4c3842089a23487205d4e830",
            "9a4e20efd69846ee9e42686c9b08e1f8",
            "46a21e76446b427d8e8448b177157406",
            "5cdbb1640485419689b822604f9dede0",
            "be8e7b1b96214e41ab1ce12b1608c742",
            "99daa0b40fd94113ba3e9dfe18bc6acd",
            "6f57dbd2cdc3452c8a323ad73885f022",
            "d5346e3c5424468ead4c36aad242071b",
            "9b5fb0beb07a4d34b17e563aaa3224f7",
            "8a7daa1b89594effb79a264cffb68e70",
            "8a992f1f30fd4f2ebbc83bb1f2d460ad",
            "6f540f01d5224bf89869ccea136acb7e"
          ]
        },
        "outputId": "00a62741-d0c3-4b84-9c97-65a28bdcdbc4"
      },
      "source": [
        "if model_type.lower() == 'distilbert':\n",
        "  model = TFDistilBertForSequenceClassification.from_pretrained('distilbert-base-uncased')\n",
        "elif model_type.lower() == 'bert':\n",
        "  model = TFBertForSequenceClassification.from_pretrained('bert-base-uncased')\n",
        "elif model_type.lower() == 'roberta':\n",
        "  model = TFRobertaForSequenceClassification.from_pretrained('roberta-base')\n",
        "model"
      ],
      "execution_count": null,
      "outputs": [
        {
          "output_type": "display_data",
          "data": {
            "application/vnd.jupyter.widget-view+json": {
              "model_id": "d462a27181594128aaa232c37241ffd2",
              "version_minor": 0,
              "version_major": 2
            },
            "text/plain": [
              "HBox(children=(FloatProgress(value=0.0, description='Downloading', max=570.0, style=ProgressStyle(description_…"
            ]
          },
          "metadata": {
            "tags": []
          }
        },
        {
          "output_type": "stream",
          "text": [
            "\n"
          ],
          "name": "stdout"
        },
        {
          "output_type": "display_data",
          "data": {
            "application/vnd.jupyter.widget-view+json": {
              "model_id": "be8e7b1b96214e41ab1ce12b1608c742",
              "version_minor": 0,
              "version_major": 2
            },
            "text/plain": [
              "HBox(children=(FloatProgress(value=0.0, description='Downloading', max=536063208.0, style=ProgressStyle(descri…"
            ]
          },
          "metadata": {
            "tags": []
          }
        },
        {
          "output_type": "stream",
          "text": [
            "\n"
          ],
          "name": "stdout"
        },
        {
          "output_type": "stream",
          "text": [
            "All model checkpoint layers were used when initializing TFBertForSequenceClassification.\n",
            "\n",
            "Some layers of TFBertForSequenceClassification were not initialized from the model checkpoint at bert-base-uncased and are newly initialized: ['classifier']\n",
            "You should probably TRAIN this model on a down-stream task to be able to use it for predictions and inference.\n"
          ],
          "name": "stderr"
        },
        {
          "output_type": "execute_result",
          "data": {
            "text/plain": [
              "<transformers.models.bert.modeling_tf_bert.TFBertForSequenceClassification at 0x7f6064a69e10>"
            ]
          },
          "metadata": {
            "tags": []
          },
          "execution_count": 114
        }
      ]
    },
    {
      "cell_type": "markdown",
      "metadata": {
        "id": "-t1_boPei0MG"
      },
      "source": [
        "Define your optimizer, loss function, and evaluation metrics, then compile the model."
      ]
    },
    {
      "cell_type": "code",
      "metadata": {
        "id": "-OpMbcCbimIX"
      },
      "source": [
        "# Optimizer\n",
        "if optim_type.lower() == 'adam':\n",
        "  optimizer = tf.keras.optimizers.Adam(learning_rate=learning_rate)\n",
        "elif optim_type.lower() == 'adamw':  # not improving results\n",
        "  steps_per_epoch = 156\n",
        "  num_train_steps = steps_per_epoch * num_epochs\n",
        "  num_warmup_steps = int(0.1*num_train_steps)\n",
        "  optimizer = optimization.create_optimizer(init_lr=learning_rate,\n",
        "                                            num_train_steps=num_train_steps,\n",
        "                                            num_warmup_steps=num_warmup_steps,\n",
        "                                            optimizer_type='adamw')\n",
        "  \n",
        "# Loss function\n",
        "loss_function = tf.keras.losses.SparseCategoricalCrossentropy(from_logits=True) \n",
        "# Sparse, as true are [0, 1, ..], and pred is [[0.9, 0.1], [0.2, 0.8]]\n",
        "\n",
        "# Evaluation metrics\n",
        "ev_metrics = [tf.keras.metrics.SparseCategoricalAccuracy('accuracy')]\n",
        "\n",
        "# Compile model  \n",
        "model.compile(optimizer=optimizer, loss=loss_function, metrics=ev_metrics)"
      ],
      "execution_count": null,
      "outputs": []
    },
    {
      "cell_type": "code",
      "metadata": {
        "id": "iGS8RRxMbTA0",
        "colab": {
          "base_uri": "https://localhost:8080/"
        },
        "outputId": "8e7d29f3-dcd9-497d-dae8-03566c3977ee"
      },
      "source": [
        "model.summary()"
      ],
      "execution_count": null,
      "outputs": [
        {
          "output_type": "stream",
          "text": [
            "Model: \"tf_bert_for_sequence_classification\"\n",
            "_________________________________________________________________\n",
            "Layer (type)                 Output Shape              Param #   \n",
            "=================================================================\n",
            "bert (TFBertMainLayer)       multiple                  109482240 \n",
            "_________________________________________________________________\n",
            "dropout_97 (Dropout)         multiple                  0         \n",
            "_________________________________________________________________\n",
            "classifier (Dense)           multiple                  1538      \n",
            "=================================================================\n",
            "Total params: 109,483,778\n",
            "Trainable params: 109,483,778\n",
            "Non-trainable params: 0\n",
            "_________________________________________________________________\n"
          ],
          "name": "stdout"
        }
      ]
    },
    {
      "cell_type": "markdown",
      "metadata": {
        "id": "mZTARlNabfnU"
      },
      "source": [
        "Run the model."
      ]
    },
    {
      "cell_type": "code",
      "metadata": {
        "colab": {
          "base_uri": "https://localhost:8080/"
        },
        "id": "a9FJIQlTQ4HK",
        "outputId": "0e199e0c-661c-40f7-a170-b92e5129d955"
      },
      "source": [
        "from sklearn.utils import class_weight \n",
        "import numpy as np\n",
        "class_weights = class_weight.compute_class_weight('balanced', np.unique(y_train), y_train)\n",
        "class_weights = dict(enumerate(class_weights))\n",
        "print(\"Class weights: \", class_weights)"
      ],
      "execution_count": null,
      "outputs": [
        {
          "output_type": "stream",
          "text": [
            "Class weights:  {0: 0.5239831469777994, 1: 10.923986486486486}\n"
          ],
          "name": "stdout"
        }
      ]
    },
    {
      "cell_type": "code",
      "metadata": {
        "id": "DSLUFhLabbrc",
        "colab": {
          "base_uri": "https://localhost:8080/"
        },
        "outputId": "b27c6f2c-4d32-424b-f32d-e21162ea2439"
      },
      "source": [
        "train_data = train_dataset.shuffle(1000).batch(train_batch_size, drop_remainder=True).prefetch(tf.data.experimental.AUTOTUNE)\n",
        "\n",
        "start = time.time()\n",
        "\n",
        "# Fit model\n",
        "if use_weights == True:\n",
        "  history = model.fit(train_data, \n",
        "          epochs=num_epochs,\n",
        "          verbose=1,\n",
        "          class_weight = class_weights)\n",
        "else: \n",
        "  history = model.fit(train_data, \n",
        "          epochs=num_epochs,\n",
        "          verbose=1)\n",
        "\n",
        "end = time.time()\n",
        "print(\"Training completed\")\n",
        "print(\"Elapsed time fine-tuning the model: \", (end-start)/60, \"min\\n\")"
      ],
      "execution_count": null,
      "outputs": [
        {
          "output_type": "stream",
          "text": [
            "Epoch 1/2\n",
            "WARNING:tensorflow:The parameters `output_attentions`, `output_hidden_states` and `use_cache` cannot be updated when calling a model.They have to be set to True/False in the config object (i.e.: `config=XConfig.from_pretrained('name', output_attentions=True)`).\n",
            "WARNING:tensorflow:The parameter `return_dict` cannot be set in graph mode and will always be set to `True`.\n",
            "WARNING:tensorflow:The parameters `output_attentions`, `output_hidden_states` and `use_cache` cannot be updated when calling a model.They have to be set to True/False in the config object (i.e.: `config=XConfig.from_pretrained('name', output_attentions=True)`).\n",
            "WARNING:tensorflow:The parameter `return_dict` cannot be set in graph mode and will always be set to `True`.\n",
            "5254/5254 [==============================] - 1121s 212ms/step - loss: 0.5328 - accuracy: 0.7065\n",
            "Epoch 2/2\n",
            "5254/5254 [==============================] - 1111s 211ms/step - loss: 0.3825 - accuracy: 0.7996\n",
            "Training completed\n",
            "Elapsed time fine-tuning the model:  38.05428458849589 min\n",
            "\n"
          ],
          "name": "stdout"
        }
      ]
    },
    {
      "cell_type": "markdown",
      "metadata": {
        "id": "WeN8HDNlipi8"
      },
      "source": [
        "### Model evaluation"
      ]
    },
    {
      "cell_type": "markdown",
      "metadata": {
        "id": "dGplKZEyAUJl"
      },
      "source": [
        "Test if the model works reasonably."
      ]
    },
    {
      "cell_type": "code",
      "metadata": {
        "id": "P_g4UjfAwQqA",
        "colab": {
          "base_uri": "https://localhost:8080/"
        },
        "outputId": "2456c156-3a77-49f1-abb2-3d8b9d660f8b"
      },
      "source": [
        "# Example data\n",
        "sample_examples = [\"Just make sure to check if you have enough batteries at home.\",      # TIP\n",
        "                  \"I would argue that a child of two is still too young for this toy.\",  # TIP\n",
        "                  \"It was way too expensive and the shipping was late.\",                 # NON-TIP\n",
        "                  \"Loved it!\"]                                                           # NON-TIP\n",
        "sample_labels = pd.Series([1, 1, 0, 0])\n",
        "\n",
        "# Prepare examples\n",
        "sample_encodings = tokenizer(sample_examples, truncation=True, padding=True, max_length=max_seq_length)\n",
        "sample_encodings = tf.data.Dataset.from_tensor_slices((dict(sample_encodings), sample_labels))\n",
        "\n",
        "# Calculate accuracy\n",
        "sample_loss, sample_accuracy = model.evaluate(sample_encodings.batch(1))\n",
        "\n",
        "# Make predictions\n",
        "preds_percentage = model.predict(sample_encodings.batch(1)).logits\n",
        "preds_percentage = tf.nn.softmax(preds_percentage, axis=1).numpy()\n",
        "print(preds_percentage)    \n",
        "preds_prob = preds_percentage[:,1]\n",
        "threshold = 0.5\n",
        "preds = [1 if pred[1] >=threshold else 0 for pred in preds_percentage]\n",
        "\n",
        "# Print results\n",
        "print()\n",
        "for i in range(len(sample_examples)):\n",
        "  print(f\"Sentence   : {sample_examples[i]}\")\n",
        "  print(f\"Prob. tip  : {preds_percentage[i][1]}\")\n",
        "  print(f\"Prediction : Pred = {preds[i]} True = {sample_labels[i]}\")\n",
        "  print()\n",
        "print(\"Final  accuracy : \", sample_accuracy)\n",
        "print(\"Final  loss     : \", sample_loss)"
      ],
      "execution_count": null,
      "outputs": [
        {
          "output_type": "stream",
          "text": [
            "WARNING:tensorflow:The parameters `output_attentions`, `output_hidden_states` and `use_cache` cannot be updated when calling a model.They have to be set to True/False in the config object (i.e.: `config=XConfig.from_pretrained('name', output_attentions=True)`).\n",
            "WARNING:tensorflow:The parameter `return_dict` cannot be set in graph mode and will always be set to `True`.\n",
            "4/4 [==============================] - 2s 30ms/step - loss: 0.0752 - accuracy: 1.0000\n",
            "WARNING:tensorflow:The parameters `output_attentions`, `output_hidden_states` and `use_cache` cannot be updated when calling a model.They have to be set to True/False in the config object (i.e.: `config=XConfig.from_pretrained('name', output_attentions=True)`).\n",
            "WARNING:tensorflow:The parameter `return_dict` cannot be set in graph mode and will always be set to `True`.\n",
            "[[0.04498824 0.95501184]\n",
            " [0.13212228 0.8678778 ]\n",
            " [0.8991388  0.10086124]\n",
            " [0.99316347 0.00683656]]\n",
            "\n",
            "Sentence   : Just make sure to check if you have enough batteries at home.\n",
            "Prob. tip  : 0.9550118446350098\n",
            "Prediction : Pred = 1 True = 1\n",
            "\n",
            "Sentence   : I would argue that a child of two is still too young for this toy.\n",
            "Prob. tip  : 0.8678777813911438\n",
            "Prediction : Pred = 1 True = 1\n",
            "\n",
            "Sentence   : It was way too expensive and the shipping was late.\n",
            "Prob. tip  : 0.10086123645305634\n",
            "Prediction : Pred = 0 True = 0\n",
            "\n",
            "Sentence   : Loved it!\n",
            "Prob. tip  : 0.006836556829512119\n",
            "Prediction : Pred = 0 True = 0\n",
            "\n",
            "Final  accuracy :  1.0\n",
            "Final  loss     :  0.07522846758365631\n"
          ],
          "name": "stdout"
        }
      ]
    },
    {
      "cell_type": "markdown",
      "metadata": {
        "id": "bSMYK0I3A1MC"
      },
      "source": [
        "Evaluate the model on unseen data and save the predictions."
      ]
    },
    {
      "cell_type": "code",
      "metadata": {
        "id": "KetrUOcRABPY",
        "colab": {
          "base_uri": "https://localhost:8080/",
          "height": 272
        },
        "outputId": "525674ba-99f4-4c54-a87a-7ec4c1b44096"
      },
      "source": [
        "# BABY\n",
        "baby_encodings = tokenizer(ev_baby['sentence'].tolist(), truncation=True, padding=True, max_length=max_seq_length)\n",
        "baby_dataset = tf.data.Dataset.from_tensor_slices((dict(baby_encodings))) # test dataset\n",
        "baby_data = baby_dataset.batch(train_batch_size, drop_remainder=False).prefetch(tf.data.experimental.AUTOTUNE)\n",
        "\n",
        "preds_percentage_baby = model.predict(baby_data).logits\n",
        "preds_percentage_baby = tf.nn.softmax(preds_percentage_baby, axis=1).numpy()  \n",
        "preds_prob_baby = preds_percentage_baby[:,1]\n",
        "\n",
        "print(f\"Num. tips baby at threshold = 0.5:  {(preds_prob_baby > 0.5).sum()} / {len(preds_prob_baby)}  \")\n",
        "print(f\"Num. tips baby at threshold = 0.7:  {(preds_prob_baby > 0.7).sum()} / {len(preds_prob_baby)}  \")\n",
        "print(f\"Num. tips baby at threshold = 0.9:  {(preds_prob_baby > 0.9).sum()} / {len(preds_prob_baby)}  \\n\")\n",
        "\n",
        "ev_baby['prediction'] = preds_prob_baby\n",
        "ev_baby.head(5)"
      ],
      "execution_count": null,
      "outputs": [
        {
          "output_type": "stream",
          "text": [
            "Num. tips baby at threshold = 0.5:  52 / 363  \n",
            "Num. tips baby at threshold = 0.7:  32 / 363  \n",
            "Num. tips baby at threshold = 0.9:  4 / 363  \n",
            "\n"
          ],
          "name": "stdout"
        },
        {
          "output_type": "execute_result",
          "data": {
            "text/html": [
              "<div>\n",
              "<style scoped>\n",
              "    .dataframe tbody tr th:only-of-type {\n",
              "        vertical-align: middle;\n",
              "    }\n",
              "\n",
              "    .dataframe tbody tr th {\n",
              "        vertical-align: top;\n",
              "    }\n",
              "\n",
              "    .dataframe thead th {\n",
              "        text-align: right;\n",
              "    }\n",
              "</style>\n",
              "<table border=\"1\" class=\"dataframe\">\n",
              "  <thead>\n",
              "    <tr style=\"text-align: right;\">\n",
              "      <th></th>\n",
              "      <th>Unnamed: 0</th>\n",
              "      <th>asin</th>\n",
              "      <th>reviewer_id</th>\n",
              "      <th>category</th>\n",
              "      <th>freq</th>\n",
              "      <th>sentence</th>\n",
              "      <th>num_review</th>\n",
              "      <th>num_sentence</th>\n",
              "      <th>sen_length</th>\n",
              "      <th>prediction</th>\n",
              "    </tr>\n",
              "  </thead>\n",
              "  <tbody>\n",
              "    <tr>\n",
              "      <th>0</th>\n",
              "      <td>0</td>\n",
              "      <td>B000DZTS2I</td>\n",
              "      <td>A3R0RVO90YCOSR</td>\n",
              "      <td>Baby</td>\n",
              "      <td>75</td>\n",
              "      <td>This is the only carrier that my daughter woul...</td>\n",
              "      <td>1</td>\n",
              "      <td>1</td>\n",
              "      <td>17</td>\n",
              "      <td>0.059832</td>\n",
              "    </tr>\n",
              "    <tr>\n",
              "      <th>1</th>\n",
              "      <td>1</td>\n",
              "      <td>B000DZTS2I</td>\n",
              "      <td>A3R0RVO90YCOSR</td>\n",
              "      <td>Baby</td>\n",
              "      <td>75</td>\n",
              "      <td>It is super easy to sling over your shoulder a...</td>\n",
              "      <td>1</td>\n",
              "      <td>2</td>\n",
              "      <td>22</td>\n",
              "      <td>0.283269</td>\n",
              "    </tr>\n",
              "    <tr>\n",
              "      <th>2</th>\n",
              "      <td>2</td>\n",
              "      <td>B000DZTS2I</td>\n",
              "      <td>A3R0RVO90YCOSR</td>\n",
              "      <td>Baby</td>\n",
              "      <td>75</td>\n",
              "      <td>It felt very natural and intuitive unlike othe...</td>\n",
              "      <td>1</td>\n",
              "      <td>3</td>\n",
              "      <td>11</td>\n",
              "      <td>0.021588</td>\n",
              "    </tr>\n",
              "    <tr>\n",
              "      <th>3</th>\n",
              "      <td>3</td>\n",
              "      <td>B000DZTS2I</td>\n",
              "      <td>A3R0RVO90YCOSR</td>\n",
              "      <td>Baby</td>\n",
              "      <td>75</td>\n",
              "      <td>Also, if the baby falls asleep while you're we...</td>\n",
              "      <td>1</td>\n",
              "      <td>4</td>\n",
              "      <td>29</td>\n",
              "      <td>0.493169</td>\n",
              "    </tr>\n",
              "    <tr>\n",
              "      <th>4</th>\n",
              "      <td>4</td>\n",
              "      <td>B000DZTS2I</td>\n",
              "      <td>A3R0RVO90YCOSR</td>\n",
              "      <td>Baby</td>\n",
              "      <td>75</td>\n",
              "      <td>(It takes a bit of practice, but it is very do...</td>\n",
              "      <td>1</td>\n",
              "      <td>5</td>\n",
              "      <td>15</td>\n",
              "      <td>0.015891</td>\n",
              "    </tr>\n",
              "  </tbody>\n",
              "</table>\n",
              "</div>"
            ],
            "text/plain": [
              "   Unnamed: 0        asin     reviewer_id  ... num_sentence  sen_length prediction\n",
              "0           0  B000DZTS2I  A3R0RVO90YCOSR  ...            1          17   0.059832\n",
              "1           1  B000DZTS2I  A3R0RVO90YCOSR  ...            2          22   0.283269\n",
              "2           2  B000DZTS2I  A3R0RVO90YCOSR  ...            3          11   0.021588\n",
              "3           3  B000DZTS2I  A3R0RVO90YCOSR  ...            4          29   0.493169\n",
              "4           4  B000DZTS2I  A3R0RVO90YCOSR  ...            5          15   0.015891\n",
              "\n",
              "[5 rows x 10 columns]"
            ]
          },
          "metadata": {
            "tags": []
          },
          "execution_count": 181
        }
      ]
    },
    {
      "cell_type": "code",
      "metadata": {
        "id": "aWEnyBUHP5gU",
        "colab": {
          "base_uri": "https://localhost:8080/",
          "height": 272
        },
        "outputId": "9ebb1b5d-7b9e-4f1b-e139-f6476877d307"
      },
      "source": [
        "# CLOTH\n",
        "cloth_encodings = tokenizer(ev_cloth['sentence'].tolist(), truncation=True, padding=True, max_length=max_seq_length)\n",
        "cloth_dataset = tf.data.Dataset.from_tensor_slices((dict(cloth_encodings))) # test dataset\n",
        "cloth_data = cloth_dataset.batch(train_batch_size, drop_remainder=False).prefetch(tf.data.experimental.AUTOTUNE)\n",
        "\n",
        "preds_percentage_cloth = model.predict(cloth_data).logits\n",
        "preds_percentage_cloth = tf.nn.softmax(preds_percentage_cloth, axis=1).numpy()  \n",
        "preds_prob_cloth = preds_percentage_cloth[:,1]\n",
        "\n",
        "print(f\"Num. tips cloth at threshold = 0.5:  {(preds_prob_cloth > 0.5).sum()} / {len(preds_prob_cloth)}  \")\n",
        "print(f\"Num. tips cloth at threshold = 0.7:  {(preds_prob_cloth > 0.7).sum()} / {len(preds_prob_cloth)}  \")\n",
        "print(f\"Num. tips cloth at threshold = 0.9:  {(preds_prob_cloth > 0.9).sum()} / {len(preds_prob_cloth)}  \\n\")\n",
        "\n",
        "ev_cloth['prediction'] = preds_prob_cloth\n",
        "ev_cloth.head(5)"
      ],
      "execution_count": null,
      "outputs": [
        {
          "output_type": "stream",
          "text": [
            "Num. tips cloth at threshold = 0.5:  48 / 225  \n",
            "Num. tips cloth at threshold = 0.7:  31 / 225  \n",
            "Num. tips cloth at threshold = 0.9:  4 / 225  \n",
            "\n"
          ],
          "name": "stdout"
        },
        {
          "output_type": "execute_result",
          "data": {
            "text/html": [
              "<div>\n",
              "<style scoped>\n",
              "    .dataframe tbody tr th:only-of-type {\n",
              "        vertical-align: middle;\n",
              "    }\n",
              "\n",
              "    .dataframe tbody tr th {\n",
              "        vertical-align: top;\n",
              "    }\n",
              "\n",
              "    .dataframe thead th {\n",
              "        text-align: right;\n",
              "    }\n",
              "</style>\n",
              "<table border=\"1\" class=\"dataframe\">\n",
              "  <thead>\n",
              "    <tr style=\"text-align: right;\">\n",
              "      <th></th>\n",
              "      <th>Unnamed: 0</th>\n",
              "      <th>asin</th>\n",
              "      <th>reviewer_id</th>\n",
              "      <th>category</th>\n",
              "      <th>freq</th>\n",
              "      <th>sentence</th>\n",
              "      <th>num_review</th>\n",
              "      <th>num_sentence</th>\n",
              "      <th>sen_length</th>\n",
              "      <th>prediction</th>\n",
              "    </tr>\n",
              "  </thead>\n",
              "  <tbody>\n",
              "    <tr>\n",
              "      <th>0</th>\n",
              "      <td>0</td>\n",
              "      <td>B000J3H31W</td>\n",
              "      <td>A1P64ZMQZDLL1W</td>\n",
              "      <td>Clothing, Shoes &amp; Jewelry</td>\n",
              "      <td>12</td>\n",
              "      <td>These are easy shoes to slip on and off so I c...</td>\n",
              "      <td>1</td>\n",
              "      <td>1</td>\n",
              "      <td>14</td>\n",
              "      <td>0.232792</td>\n",
              "    </tr>\n",
              "    <tr>\n",
              "      <th>1</th>\n",
              "      <td>1</td>\n",
              "      <td>B000J3H31W</td>\n",
              "      <td>A1P64ZMQZDLL1W</td>\n",
              "      <td>Clothing, Shoes &amp; Jewelry</td>\n",
              "      <td>12</td>\n",
              "      <td>They are slightly bigger than I expected, but ...</td>\n",
              "      <td>1</td>\n",
              "      <td>2</td>\n",
              "      <td>15</td>\n",
              "      <td>0.785652</td>\n",
              "    </tr>\n",
              "    <tr>\n",
              "      <th>2</th>\n",
              "      <td>2</td>\n",
              "      <td>B000J3H31W</td>\n",
              "      <td>A1P64ZMQZDLL1W</td>\n",
              "      <td>Clothing, Shoes &amp; Jewelry</td>\n",
              "      <td>12</td>\n",
              "      <td>The points of the shoes kind of start to go up...</td>\n",
              "      <td>1</td>\n",
              "      <td>3</td>\n",
              "      <td>19</td>\n",
              "      <td>0.690341</td>\n",
              "    </tr>\n",
              "    <tr>\n",
              "      <th>3</th>\n",
              "      <td>3</td>\n",
              "      <td>B000J3H31W</td>\n",
              "      <td>A36NGMIQTDR5YT</td>\n",
              "      <td>Clothing, Shoes &amp; Jewelry</td>\n",
              "      <td>12</td>\n",
              "      <td>I wear between a 6 1/2 and 7.</td>\n",
              "      <td>2</td>\n",
              "      <td>1</td>\n",
              "      <td>5</td>\n",
              "      <td>0.415958</td>\n",
              "    </tr>\n",
              "    <tr>\n",
              "      <th>4</th>\n",
              "      <td>4</td>\n",
              "      <td>B000J3H31W</td>\n",
              "      <td>A36NGMIQTDR5YT</td>\n",
              "      <td>Clothing, Shoes &amp; Jewelry</td>\n",
              "      <td>12</td>\n",
              "      <td>Usually I get a 7 to be on the safe side.</td>\n",
              "      <td>2</td>\n",
              "      <td>2</td>\n",
              "      <td>10</td>\n",
              "      <td>0.023230</td>\n",
              "    </tr>\n",
              "  </tbody>\n",
              "</table>\n",
              "</div>"
            ],
            "text/plain": [
              "   Unnamed: 0        asin     reviewer_id  ... num_sentence  sen_length prediction\n",
              "0           0  B000J3H31W  A1P64ZMQZDLL1W  ...            1          14   0.232792\n",
              "1           1  B000J3H31W  A1P64ZMQZDLL1W  ...            2          15   0.785652\n",
              "2           2  B000J3H31W  A1P64ZMQZDLL1W  ...            3          19   0.690341\n",
              "3           3  B000J3H31W  A36NGMIQTDR5YT  ...            1           5   0.415958\n",
              "4           4  B000J3H31W  A36NGMIQTDR5YT  ...            2          10   0.023230\n",
              "\n",
              "[5 rows x 10 columns]"
            ]
          },
          "metadata": {
            "tags": []
          },
          "execution_count": 180
        }
      ]
    },
    {
      "cell_type": "code",
      "metadata": {
        "id": "vGnZp0p8P5dR",
        "colab": {
          "base_uri": "https://localhost:8080/",
          "height": 272
        },
        "outputId": "71d37f5c-5b16-45b9-c929-f22b5f93796c"
      },
      "source": [
        "# FOOD\n",
        "food_encodings = tokenizer(ev_food['sentence'].tolist(), truncation=True, padding=True, max_length=max_seq_length)\n",
        "food_dataset = tf.data.Dataset.from_tensor_slices((dict(food_encodings))) # test dataset\n",
        "food_data = food_dataset.batch(train_batch_size, drop_remainder=False).prefetch(tf.data.experimental.AUTOTUNE)\n",
        "\n",
        "preds_percentage_food = model.predict(food_data).logits\n",
        "preds_percentage_food = tf.nn.softmax(preds_percentage_food, axis=1).numpy()  \n",
        "preds_prob_food = preds_percentage_food[:,1]\n",
        "\n",
        "print(f\"Num. tips food at threshold = 0.5:  {(preds_prob_food > 0.5).sum()} / {len(preds_prob_food)}  \")\n",
        "print(f\"Num. tips food at threshold = 0.7:  {(preds_prob_food > 0.7).sum()} / {len(preds_prob_food)}  \")\n",
        "print(f\"Num. tips food at threshold = 0.9:  {(preds_prob_food > 0.9).sum()} / {len(preds_prob_food)}  \\n\")\n",
        "\n",
        "ev_food['prediction'] = preds_prob_food\n",
        "ev_food.head(5)"
      ],
      "execution_count": null,
      "outputs": [
        {
          "output_type": "stream",
          "text": [
            "Num. tips food at threshold = 0.5:  33 / 191  \n",
            "Num. tips food at threshold = 0.7:  23 / 191  \n",
            "Num. tips food at threshold = 0.9:  6 / 191  \n",
            "\n"
          ],
          "name": "stdout"
        },
        {
          "output_type": "execute_result",
          "data": {
            "text/html": [
              "<div>\n",
              "<style scoped>\n",
              "    .dataframe tbody tr th:only-of-type {\n",
              "        vertical-align: middle;\n",
              "    }\n",
              "\n",
              "    .dataframe tbody tr th {\n",
              "        vertical-align: top;\n",
              "    }\n",
              "\n",
              "    .dataframe thead th {\n",
              "        text-align: right;\n",
              "    }\n",
              "</style>\n",
              "<table border=\"1\" class=\"dataframe\">\n",
              "  <thead>\n",
              "    <tr style=\"text-align: right;\">\n",
              "      <th></th>\n",
              "      <th>Unnamed: 0</th>\n",
              "      <th>asin</th>\n",
              "      <th>reviewer_id</th>\n",
              "      <th>category</th>\n",
              "      <th>freq</th>\n",
              "      <th>sentence</th>\n",
              "      <th>num_review</th>\n",
              "      <th>num_sentence</th>\n",
              "      <th>sen_length</th>\n",
              "      <th>prediction</th>\n",
              "    </tr>\n",
              "  </thead>\n",
              "  <tbody>\n",
              "    <tr>\n",
              "      <th>0</th>\n",
              "      <td>0</td>\n",
              "      <td>B000E1BL5S</td>\n",
              "      <td>A3LMS2UO0ESHX5</td>\n",
              "      <td>Grocery &amp; Gourmet Food</td>\n",
              "      <td>89</td>\n",
              "      <td>May 26th: New update I just received a new shi...</td>\n",
              "      <td>1</td>\n",
              "      <td>1</td>\n",
              "      <td>22</td>\n",
              "      <td>0.118403</td>\n",
              "    </tr>\n",
              "    <tr>\n",
              "      <th>1</th>\n",
              "      <td>1</td>\n",
              "      <td>B000E1BL5S</td>\n",
              "      <td>A3LMS2UO0ESHX5</td>\n",
              "      <td>Grocery &amp; Gourmet Food</td>\n",
              "      <td>89</td>\n",
              "      <td>Fortunately, Amazon is making it right but I a...</td>\n",
              "      <td>1</td>\n",
              "      <td>2</td>\n",
              "      <td>61</td>\n",
              "      <td>0.070481</td>\n",
              "    </tr>\n",
              "    <tr>\n",
              "      <th>2</th>\n",
              "      <td>2</td>\n",
              "      <td>B000E1BL5S</td>\n",
              "      <td>A3LMS2UO0ESHX5</td>\n",
              "      <td>Grocery &amp; Gourmet Food</td>\n",
              "      <td>89</td>\n",
              "      <td>Anyway, last week I received my latest Subscri...</td>\n",
              "      <td>1</td>\n",
              "      <td>3</td>\n",
              "      <td>53</td>\n",
              "      <td>0.008666</td>\n",
              "    </tr>\n",
              "    <tr>\n",
              "      <th>3</th>\n",
              "      <td>3</td>\n",
              "      <td>B000E1BL5S</td>\n",
              "      <td>A3LMS2UO0ESHX5</td>\n",
              "      <td>Grocery &amp; Gourmet Food</td>\n",
              "      <td>89</td>\n",
              "      <td>This particular variety of planters nuts are m...</td>\n",
              "      <td>1</td>\n",
              "      <td>4</td>\n",
              "      <td>34</td>\n",
              "      <td>0.006456</td>\n",
              "    </tr>\n",
              "    <tr>\n",
              "      <th>4</th>\n",
              "      <td>4</td>\n",
              "      <td>B000E1BL5S</td>\n",
              "      <td>A3LMS2UO0ESHX5</td>\n",
              "      <td>Grocery &amp; Gourmet Food</td>\n",
              "      <td>89</td>\n",
              "      <td>Chipotle has an aftertaste I don't enjoy and t...</td>\n",
              "      <td>1</td>\n",
              "      <td>5</td>\n",
              "      <td>18</td>\n",
              "      <td>0.130728</td>\n",
              "    </tr>\n",
              "  </tbody>\n",
              "</table>\n",
              "</div>"
            ],
            "text/plain": [
              "   Unnamed: 0        asin     reviewer_id  ... num_sentence  sen_length prediction\n",
              "0           0  B000E1BL5S  A3LMS2UO0ESHX5  ...            1          22   0.118403\n",
              "1           1  B000E1BL5S  A3LMS2UO0ESHX5  ...            2          61   0.070481\n",
              "2           2  B000E1BL5S  A3LMS2UO0ESHX5  ...            3          53   0.008666\n",
              "3           3  B000E1BL5S  A3LMS2UO0ESHX5  ...            4          34   0.006456\n",
              "4           4  B000E1BL5S  A3LMS2UO0ESHX5  ...            5          18   0.130728\n",
              "\n",
              "[5 rows x 10 columns]"
            ]
          },
          "metadata": {
            "tags": []
          },
          "execution_count": 179
        }
      ]
    },
    {
      "cell_type": "code",
      "metadata": {
        "id": "-UGbQfAWP5a8",
        "colab": {
          "base_uri": "https://localhost:8080/",
          "height": 272
        },
        "outputId": "5fb7409f-d7b3-4c36-c176-9b2a9c92831b"
      },
      "source": [
        "# HEALTH\n",
        "health_encodings = tokenizer(ev_health['sentence'].tolist(), truncation=True, padding=True, max_length=max_seq_length)\n",
        "health_dataset = tf.data.Dataset.from_tensor_slices((dict(health_encodings))) # test dataset\n",
        "health_data = health_dataset.batch(train_batch_size, drop_remainder=False).prefetch(tf.data.experimental.AUTOTUNE)\n",
        "\n",
        "preds_percentage_health = model.predict(health_data).logits\n",
        "preds_percentage_health = tf.nn.softmax(preds_percentage_health, axis=1).numpy()  \n",
        "preds_prob_health = preds_percentage_health[:,1]\n",
        "\n",
        "print(f\"Num. tips health at threshold = 0.5:  {(preds_prob_health > 0.5).sum()} / {len(preds_prob_health)}  \")\n",
        "print(f\"Num. tips health at threshold = 0.7:  {(preds_prob_health > 0.7).sum()} / {len(preds_prob_health)}  \")\n",
        "print(f\"Num. tips health at threshold = 0.9:  {(preds_prob_health > 0.9).sum()} / {len(preds_prob_health)}  \\n\")\n",
        "\n",
        "ev_health['prediction'] = preds_prob_health\n",
        "ev_health.head(5)"
      ],
      "execution_count": null,
      "outputs": [
        {
          "output_type": "stream",
          "text": [
            "Num. tips health at threshold = 0.5:  36 / 245  \n",
            "Num. tips health at threshold = 0.7:  24 / 245  \n",
            "Num. tips health at threshold = 0.9:  3 / 245  \n",
            "\n"
          ],
          "name": "stdout"
        },
        {
          "output_type": "execute_result",
          "data": {
            "text/html": [
              "<div>\n",
              "<style scoped>\n",
              "    .dataframe tbody tr th:only-of-type {\n",
              "        vertical-align: middle;\n",
              "    }\n",
              "\n",
              "    .dataframe tbody tr th {\n",
              "        vertical-align: top;\n",
              "    }\n",
              "\n",
              "    .dataframe thead th {\n",
              "        text-align: right;\n",
              "    }\n",
              "</style>\n",
              "<table border=\"1\" class=\"dataframe\">\n",
              "  <thead>\n",
              "    <tr style=\"text-align: right;\">\n",
              "      <th></th>\n",
              "      <th>Unnamed: 0</th>\n",
              "      <th>asin</th>\n",
              "      <th>reviewer_id</th>\n",
              "      <th>category</th>\n",
              "      <th>freq</th>\n",
              "      <th>sentence</th>\n",
              "      <th>num_review</th>\n",
              "      <th>num_sentence</th>\n",
              "      <th>sen_length</th>\n",
              "      <th>prediction</th>\n",
              "    </tr>\n",
              "  </thead>\n",
              "  <tbody>\n",
              "    <tr>\n",
              "      <th>0</th>\n",
              "      <td>0</td>\n",
              "      <td>B0002DSVTC</td>\n",
              "      <td>A34W2MFO0M3MNN</td>\n",
              "      <td>Health &amp; Personal Care</td>\n",
              "      <td>51</td>\n",
              "      <td>They're only a dollar each for name brand batt...</td>\n",
              "      <td>1</td>\n",
              "      <td>1</td>\n",
              "      <td>11</td>\n",
              "      <td>0.023339</td>\n",
              "    </tr>\n",
              "    <tr>\n",
              "      <th>1</th>\n",
              "      <td>1</td>\n",
              "      <td>B0002DSVTC</td>\n",
              "      <td>A34W2MFO0M3MNN</td>\n",
              "      <td>Health &amp; Personal Care</td>\n",
              "      <td>51</td>\n",
              "      <td>Less than a dollar even.</td>\n",
              "      <td>1</td>\n",
              "      <td>2</td>\n",
              "      <td>5</td>\n",
              "      <td>0.062069</td>\n",
              "    </tr>\n",
              "    <tr>\n",
              "      <th>2</th>\n",
              "      <td>2</td>\n",
              "      <td>B0002DSVTC</td>\n",
              "      <td>A34W2MFO0M3MNN</td>\n",
              "      <td>Health &amp; Personal Care</td>\n",
              "      <td>51</td>\n",
              "      <td>Can't beat that.</td>\n",
              "      <td>1</td>\n",
              "      <td>3</td>\n",
              "      <td>3</td>\n",
              "      <td>0.010087</td>\n",
              "    </tr>\n",
              "    <tr>\n",
              "      <th>3</th>\n",
              "      <td>3</td>\n",
              "      <td>B0002DSVTC</td>\n",
              "      <td>A34W2MFO0M3MNN</td>\n",
              "      <td>Health &amp; Personal Care</td>\n",
              "      <td>51</td>\n",
              "      <td>Came in a week; lasted 2 months.</td>\n",
              "      <td>1</td>\n",
              "      <td>4</td>\n",
              "      <td>6</td>\n",
              "      <td>0.515929</td>\n",
              "    </tr>\n",
              "    <tr>\n",
              "      <th>4</th>\n",
              "      <td>4</td>\n",
              "      <td>B0002DSVTC</td>\n",
              "      <td>A34W2MFO0M3MNN</td>\n",
              "      <td>Health &amp; Personal Care</td>\n",
              "      <td>51</td>\n",
              "      <td>I paid $10 each for Radio Shack brand batterie...</td>\n",
              "      <td>1</td>\n",
              "      <td>5</td>\n",
              "      <td>15</td>\n",
              "      <td>0.038508</td>\n",
              "    </tr>\n",
              "  </tbody>\n",
              "</table>\n",
              "</div>"
            ],
            "text/plain": [
              "   Unnamed: 0        asin     reviewer_id  ... num_sentence  sen_length prediction\n",
              "0           0  B0002DSVTC  A34W2MFO0M3MNN  ...            1          11   0.023339\n",
              "1           1  B0002DSVTC  A34W2MFO0M3MNN  ...            2           5   0.062069\n",
              "2           2  B0002DSVTC  A34W2MFO0M3MNN  ...            3           3   0.010087\n",
              "3           3  B0002DSVTC  A34W2MFO0M3MNN  ...            4           6   0.515929\n",
              "4           4  B0002DSVTC  A34W2MFO0M3MNN  ...            5          15   0.038508\n",
              "\n",
              "[5 rows x 10 columns]"
            ]
          },
          "metadata": {
            "tags": []
          },
          "execution_count": 178
        }
      ]
    },
    {
      "cell_type": "code",
      "metadata": {
        "id": "4EJHQNAAP5Xz",
        "colab": {
          "base_uri": "https://localhost:8080/",
          "height": 272
        },
        "outputId": "31dde8d6-8f67-4d3a-a3a3-b223caaeceb5"
      },
      "source": [
        "# MUSIC\n",
        "music_encodings = tokenizer(ev_music['sentence'].tolist(), truncation=True, padding=True, max_length=max_seq_length)\n",
        "music_dataset = tf.data.Dataset.from_tensor_slices((dict(music_encodings))) # test dataset\n",
        "music_data = music_dataset.batch(train_batch_size, drop_remainder=False).prefetch(tf.data.experimental.AUTOTUNE)\n",
        "\n",
        "preds_percentage_music = model.predict(music_data).logits\n",
        "preds_percentage_music = tf.nn.softmax(preds_percentage_music, axis=1).numpy()  \n",
        "preds_prob_music = preds_percentage_music[:,1]\n",
        "\n",
        "print(f\"Num. tips music at threshold = 0.5:  {(preds_prob_music > 0.5).sum()} / {len(preds_prob_music)}  \")\n",
        "print(f\"Num. tips music at threshold = 0.7:  {(preds_prob_music > 0.7).sum()} / {len(preds_prob_music)}  \")\n",
        "print(f\"Num. tips music at threshold = 0.9:  {(preds_prob_music > 0.9).sum()} / {len(preds_prob_music)}  \\n\")\n",
        "\n",
        "ev_music['prediction'] = preds_prob_music\n",
        "ev_music.head(5)"
      ],
      "execution_count": null,
      "outputs": [
        {
          "output_type": "stream",
          "text": [
            "Num. tips music at threshold = 0.5:  37 / 234  \n",
            "Num. tips music at threshold = 0.7:  23 / 234  \n",
            "Num. tips music at threshold = 0.9:  1 / 234  \n",
            "\n"
          ],
          "name": "stdout"
        },
        {
          "output_type": "execute_result",
          "data": {
            "text/html": [
              "<div>\n",
              "<style scoped>\n",
              "    .dataframe tbody tr th:only-of-type {\n",
              "        vertical-align: middle;\n",
              "    }\n",
              "\n",
              "    .dataframe tbody tr th {\n",
              "        vertical-align: top;\n",
              "    }\n",
              "\n",
              "    .dataframe thead th {\n",
              "        text-align: right;\n",
              "    }\n",
              "</style>\n",
              "<table border=\"1\" class=\"dataframe\">\n",
              "  <thead>\n",
              "    <tr style=\"text-align: right;\">\n",
              "      <th></th>\n",
              "      <th>Unnamed: 0</th>\n",
              "      <th>asin</th>\n",
              "      <th>reviewer_id</th>\n",
              "      <th>category</th>\n",
              "      <th>freq</th>\n",
              "      <th>sentence</th>\n",
              "      <th>num_review</th>\n",
              "      <th>num_sentence</th>\n",
              "      <th>sen_length</th>\n",
              "      <th>prediction</th>\n",
              "    </tr>\n",
              "  </thead>\n",
              "  <tbody>\n",
              "    <tr>\n",
              "      <th>0</th>\n",
              "      <td>0</td>\n",
              "      <td>B00074B67A</td>\n",
              "      <td>A8ANJNZAZQ6IQ</td>\n",
              "      <td>Music &amp; Instruments</td>\n",
              "      <td>5</td>\n",
              "      <td>I ordered three of these ...so far!Very afford...</td>\n",
              "      <td>1</td>\n",
              "      <td>1</td>\n",
              "      <td>12</td>\n",
              "      <td>0.005491</td>\n",
              "    </tr>\n",
              "    <tr>\n",
              "      <th>1</th>\n",
              "      <td>1</td>\n",
              "      <td>B00074B67A</td>\n",
              "      <td>A8ANJNZAZQ6IQ</td>\n",
              "      <td>Music &amp; Instruments</td>\n",
              "      <td>5</td>\n",
              "      <td>Made in Canada.Keeps wireless unit very snug a...</td>\n",
              "      <td>1</td>\n",
              "      <td>2</td>\n",
              "      <td>14</td>\n",
              "      <td>0.186560</td>\n",
              "    </tr>\n",
              "    <tr>\n",
              "      <th>2</th>\n",
              "      <td>2</td>\n",
              "      <td>B00074B67A</td>\n",
              "      <td>A8ANJNZAZQ6IQ</td>\n",
              "      <td>Music &amp; Instruments</td>\n",
              "      <td>5</td>\n",
              "      <td>(all leather.</td>\n",
              "      <td>1</td>\n",
              "      <td>3</td>\n",
              "      <td>2</td>\n",
              "      <td>0.017652</td>\n",
              "    </tr>\n",
              "    <tr>\n",
              "      <th>3</th>\n",
              "      <td>3</td>\n",
              "      <td>B00074B67A</td>\n",
              "      <td>A8ANJNZAZQ6IQ</td>\n",
              "      <td>Music &amp; Instruments</td>\n",
              "      <td>5</td>\n",
              "      <td>)I use the little plastic flat ring on the bot...</td>\n",
              "      <td>1</td>\n",
              "      <td>4</td>\n",
              "      <td>33</td>\n",
              "      <td>0.403140</td>\n",
              "    </tr>\n",
              "    <tr>\n",
              "      <th>4</th>\n",
              "      <td>4</td>\n",
              "      <td>B00074B67A</td>\n",
              "      <td>A8ANJNZAZQ6IQ</td>\n",
              "      <td>Music &amp; Instruments</td>\n",
              "      <td>5</td>\n",
              "      <td>The leather will bend a little to allow a slig...</td>\n",
              "      <td>1</td>\n",
              "      <td>5</td>\n",
              "      <td>28</td>\n",
              "      <td>0.527002</td>\n",
              "    </tr>\n",
              "  </tbody>\n",
              "</table>\n",
              "</div>"
            ],
            "text/plain": [
              "   Unnamed: 0        asin    reviewer_id  ... num_sentence  sen_length prediction\n",
              "0           0  B00074B67A  A8ANJNZAZQ6IQ  ...            1          12   0.005491\n",
              "1           1  B00074B67A  A8ANJNZAZQ6IQ  ...            2          14   0.186560\n",
              "2           2  B00074B67A  A8ANJNZAZQ6IQ  ...            3           2   0.017652\n",
              "3           3  B00074B67A  A8ANJNZAZQ6IQ  ...            4          33   0.403140\n",
              "4           4  B00074B67A  A8ANJNZAZQ6IQ  ...            5          28   0.527002\n",
              "\n",
              "[5 rows x 10 columns]"
            ]
          },
          "metadata": {
            "tags": []
          },
          "execution_count": 177
        }
      ]
    },
    {
      "cell_type": "code",
      "metadata": {
        "id": "fCMaosWeP5VN",
        "colab": {
          "base_uri": "https://localhost:8080/",
          "height": 272
        },
        "outputId": "85e74a6c-dfc1-448d-8b5c-50afc2972967"
      },
      "source": [
        "# PHONE\n",
        "phone_encodings = tokenizer(ev_phone['sentence'].tolist(), truncation=True, padding=True, max_length=max_seq_length)\n",
        "phone_dataset = tf.data.Dataset.from_tensor_slices((dict(phone_encodings))) # test dataset\n",
        "phone_data = phone_dataset.batch(train_batch_size, drop_remainder=False).prefetch(tf.data.experimental.AUTOTUNE)\n",
        "\n",
        "preds_percentage_phone = model.predict(phone_data).logits\n",
        "preds_percentage_phone = tf.nn.softmax(preds_percentage_phone, axis=1).numpy()  \n",
        "preds_prob_phone = preds_percentage_phone[:,1]\n",
        "\n",
        "print(f\"Num. tips phone at threshold = 0.5:  {(preds_prob_phone > 0.5).sum()} / {len(preds_prob_phone)}  \")\n",
        "print(f\"Num. tips phone at threshold = 0.7:  {(preds_prob_phone > 0.7).sum()} / {len(preds_prob_phone)}  \")\n",
        "print(f\"Num. tips phone at threshold = 0.9:  {(preds_prob_phone > 0.9).sum()} / {len(preds_prob_phone)}  \\n\")\n",
        "\n",
        "ev_phone['prediction'] = preds_prob_phone\n",
        "ev_phone.head(5)"
      ],
      "execution_count": null,
      "outputs": [
        {
          "output_type": "stream",
          "text": [
            "Num. tips phone at threshold = 0.5:  40 / 231  \n",
            "Num. tips phone at threshold = 0.7:  25 / 231  \n",
            "Num. tips phone at threshold = 0.9:  8 / 231  \n",
            "\n"
          ],
          "name": "stdout"
        },
        {
          "output_type": "execute_result",
          "data": {
            "text/html": [
              "<div>\n",
              "<style scoped>\n",
              "    .dataframe tbody tr th:only-of-type {\n",
              "        vertical-align: middle;\n",
              "    }\n",
              "\n",
              "    .dataframe tbody tr th {\n",
              "        vertical-align: top;\n",
              "    }\n",
              "\n",
              "    .dataframe thead th {\n",
              "        text-align: right;\n",
              "    }\n",
              "</style>\n",
              "<table border=\"1\" class=\"dataframe\">\n",
              "  <thead>\n",
              "    <tr style=\"text-align: right;\">\n",
              "      <th></th>\n",
              "      <th>Unnamed: 0</th>\n",
              "      <th>asin</th>\n",
              "      <th>reviewer_id</th>\n",
              "      <th>category</th>\n",
              "      <th>freq</th>\n",
              "      <th>sentence</th>\n",
              "      <th>num_review</th>\n",
              "      <th>num_sentence</th>\n",
              "      <th>sen_length</th>\n",
              "      <th>prediction</th>\n",
              "    </tr>\n",
              "  </thead>\n",
              "  <tbody>\n",
              "    <tr>\n",
              "      <th>0</th>\n",
              "      <td>0</td>\n",
              "      <td>B0036255ZE</td>\n",
              "      <td>A1LWHQY6JOWHBG</td>\n",
              "      <td>Cell Phones &amp; Accessories</td>\n",
              "      <td>5</td>\n",
              "      <td>I must say in a word Zagg SmartBuds are awesome!</td>\n",
              "      <td>1</td>\n",
              "      <td>2</td>\n",
              "      <td>10</td>\n",
              "      <td>0.005881</td>\n",
              "    </tr>\n",
              "    <tr>\n",
              "      <th>1</th>\n",
              "      <td>1</td>\n",
              "      <td>B0036255ZE</td>\n",
              "      <td>A1LWHQY6JOWHBG</td>\n",
              "      <td>Cell Phones &amp; Accessories</td>\n",
              "      <td>5</td>\n",
              "      <td>I have the Bose version.</td>\n",
              "      <td>1</td>\n",
              "      <td>3</td>\n",
              "      <td>5</td>\n",
              "      <td>0.013463</td>\n",
              "    </tr>\n",
              "    <tr>\n",
              "      <th>2</th>\n",
              "      <td>2</td>\n",
              "      <td>B0036255ZE</td>\n",
              "      <td>A1LWHQY6JOWHBG</td>\n",
              "      <td>Cell Phones &amp; Accessories</td>\n",
              "      <td>5</td>\n",
              "      <td>Both in the ear and over the head.</td>\n",
              "      <td>1</td>\n",
              "      <td>4</td>\n",
              "      <td>8</td>\n",
              "      <td>0.232189</td>\n",
              "    </tr>\n",
              "    <tr>\n",
              "      <th>3</th>\n",
              "      <td>3</td>\n",
              "      <td>B0036255ZE</td>\n",
              "      <td>A1LWHQY6JOWHBG</td>\n",
              "      <td>Cell Phones &amp; Accessories</td>\n",
              "      <td>5</td>\n",
              "      <td>Not real wild about either, but they work.</td>\n",
              "      <td>1</td>\n",
              "      <td>5</td>\n",
              "      <td>8</td>\n",
              "      <td>0.014831</td>\n",
              "    </tr>\n",
              "    <tr>\n",
              "      <th>4</th>\n",
              "      <td>4</td>\n",
              "      <td>B0036255ZE</td>\n",
              "      <td>A1LWHQY6JOWHBG</td>\n",
              "      <td>Cell Phones &amp; Accessories</td>\n",
              "      <td>5</td>\n",
              "      <td>Then I found something that I though nobody wo...</td>\n",
              "      <td>1</td>\n",
              "      <td>6</td>\n",
              "      <td>10</td>\n",
              "      <td>0.011886</td>\n",
              "    </tr>\n",
              "  </tbody>\n",
              "</table>\n",
              "</div>"
            ],
            "text/plain": [
              "   Unnamed: 0        asin     reviewer_id  ... num_sentence  sen_length prediction\n",
              "0           0  B0036255ZE  A1LWHQY6JOWHBG  ...            2          10   0.005881\n",
              "1           1  B0036255ZE  A1LWHQY6JOWHBG  ...            3           5   0.013463\n",
              "2           2  B0036255ZE  A1LWHQY6JOWHBG  ...            4           8   0.232189\n",
              "3           3  B0036255ZE  A1LWHQY6JOWHBG  ...            5           8   0.014831\n",
              "4           4  B0036255ZE  A1LWHQY6JOWHBG  ...            6          10   0.011886\n",
              "\n",
              "[5 rows x 10 columns]"
            ]
          },
          "metadata": {
            "tags": []
          },
          "execution_count": 176
        }
      ]
    },
    {
      "cell_type": "code",
      "metadata": {
        "id": "CbrAaMAaP5SO",
        "colab": {
          "base_uri": "https://localhost:8080/",
          "height": 272
        },
        "outputId": "e11b712b-63ab-4ba8-d751-fd09dc1b4532"
      },
      "source": [
        "# SPORTS\n",
        "sports_encodings = tokenizer(ev_sports['sentence'].tolist(), truncation=True, padding=True, max_length=max_seq_length)\n",
        "sports_dataset = tf.data.Dataset.from_tensor_slices((dict(sports_encodings))) # test dataset\n",
        "sports_data = sports_dataset.batch(train_batch_size, drop_remainder=False).prefetch(tf.data.experimental.AUTOTUNE)\n",
        "\n",
        "preds_percentage_sports = model.predict(sports_data).logits\n",
        "preds_percentage_sports = tf.nn.softmax(preds_percentage_sports, axis=1).numpy()  \n",
        "preds_prob_sports = preds_percentage_sports[:,1]\n",
        "\n",
        "print(f\"Num. tips sports at threshold = 0.5:  {(preds_prob_sports > 0.5).sum()} / {len(preds_prob_sports)}  \")\n",
        "print(f\"Num. tips sports at threshold = 0.7:  {(preds_prob_sports > 0.7).sum()} / {len(preds_prob_sports)}  \")\n",
        "print(f\"Num. tips sports at threshold = 0.9:  {(preds_prob_sports > 0.9).sum()} / {len(preds_prob_sports)}  \\n\")\n",
        "\n",
        "ev_sports['prediction'] = preds_prob_sports\n",
        "ev_sports.head(5)"
      ],
      "execution_count": null,
      "outputs": [
        {
          "output_type": "stream",
          "text": [
            "Num. tips sports at threshold = 0.5:  39 / 218  \n",
            "Num. tips sports at threshold = 0.7:  20 / 218  \n",
            "Num. tips sports at threshold = 0.9:  5 / 218  \n",
            "\n"
          ],
          "name": "stdout"
        },
        {
          "output_type": "execute_result",
          "data": {
            "text/html": [
              "<div>\n",
              "<style scoped>\n",
              "    .dataframe tbody tr th:only-of-type {\n",
              "        vertical-align: middle;\n",
              "    }\n",
              "\n",
              "    .dataframe tbody tr th {\n",
              "        vertical-align: top;\n",
              "    }\n",
              "\n",
              "    .dataframe thead th {\n",
              "        text-align: right;\n",
              "    }\n",
              "</style>\n",
              "<table border=\"1\" class=\"dataframe\">\n",
              "  <thead>\n",
              "    <tr style=\"text-align: right;\">\n",
              "      <th></th>\n",
              "      <th>Unnamed: 0</th>\n",
              "      <th>asin</th>\n",
              "      <th>reviewer_id</th>\n",
              "      <th>category</th>\n",
              "      <th>freq</th>\n",
              "      <th>sentence</th>\n",
              "      <th>num_review</th>\n",
              "      <th>num_sentence</th>\n",
              "      <th>sen_length</th>\n",
              "      <th>prediction</th>\n",
              "    </tr>\n",
              "  </thead>\n",
              "  <tbody>\n",
              "    <tr>\n",
              "      <th>0</th>\n",
              "      <td>0</td>\n",
              "      <td>B000AR2N76</td>\n",
              "      <td>A30CS2AL07WGU5</td>\n",
              "      <td>Sports &amp; Outdoors</td>\n",
              "      <td>29</td>\n",
              "      <td>This spork is great.</td>\n",
              "      <td>1</td>\n",
              "      <td>1</td>\n",
              "      <td>4</td>\n",
              "      <td>0.005707</td>\n",
              "    </tr>\n",
              "    <tr>\n",
              "      <th>1</th>\n",
              "      <td>1</td>\n",
              "      <td>B000AR2N76</td>\n",
              "      <td>A30CS2AL07WGU5</td>\n",
              "      <td>Sports &amp; Outdoors</td>\n",
              "      <td>29</td>\n",
              "      <td>Really lightweight.</td>\n",
              "      <td>1</td>\n",
              "      <td>2</td>\n",
              "      <td>2</td>\n",
              "      <td>0.031443</td>\n",
              "    </tr>\n",
              "    <tr>\n",
              "      <th>2</th>\n",
              "      <td>2</td>\n",
              "      <td>B000AR2N76</td>\n",
              "      <td>A30CS2AL07WGU5</td>\n",
              "      <td>Sports &amp; Outdoors</td>\n",
              "      <td>29</td>\n",
              "      <td>Can pack it anywhere.</td>\n",
              "      <td>1</td>\n",
              "      <td>3</td>\n",
              "      <td>4</td>\n",
              "      <td>0.078991</td>\n",
              "    </tr>\n",
              "    <tr>\n",
              "      <th>3</th>\n",
              "      <td>3</td>\n",
              "      <td>B000AR2N76</td>\n",
              "      <td>A30CS2AL07WGU5</td>\n",
              "      <td>Sports &amp; Outdoors</td>\n",
              "      <td>29</td>\n",
              "      <td>I have used it just twice but I love it.</td>\n",
              "      <td>1</td>\n",
              "      <td>4</td>\n",
              "      <td>10</td>\n",
              "      <td>0.006734</td>\n",
              "    </tr>\n",
              "    <tr>\n",
              "      <th>4</th>\n",
              "      <td>4</td>\n",
              "      <td>B000AR2N76</td>\n",
              "      <td>A30CS2AL07WGU5</td>\n",
              "      <td>Sports &amp; Outdoors</td>\n",
              "      <td>29</td>\n",
              "      <td>Easy to clean.</td>\n",
              "      <td>1</td>\n",
              "      <td>5</td>\n",
              "      <td>3</td>\n",
              "      <td>0.125893</td>\n",
              "    </tr>\n",
              "  </tbody>\n",
              "</table>\n",
              "</div>"
            ],
            "text/plain": [
              "   Unnamed: 0        asin     reviewer_id  ... num_sentence  sen_length prediction\n",
              "0           0  B000AR2N76  A30CS2AL07WGU5  ...            1           4   0.005707\n",
              "1           1  B000AR2N76  A30CS2AL07WGU5  ...            2           2   0.031443\n",
              "2           2  B000AR2N76  A30CS2AL07WGU5  ...            3           4   0.078991\n",
              "3           3  B000AR2N76  A30CS2AL07WGU5  ...            4          10   0.006734\n",
              "4           4  B000AR2N76  A30CS2AL07WGU5  ...            5           3   0.125893\n",
              "\n",
              "[5 rows x 10 columns]"
            ]
          },
          "metadata": {
            "tags": []
          },
          "execution_count": 175
        }
      ]
    },
    {
      "cell_type": "code",
      "metadata": {
        "id": "QgEN4LiAP5PF",
        "colab": {
          "base_uri": "https://localhost:8080/",
          "height": 272
        },
        "outputId": "05d50d53-10a2-45c8-fc32-9db780f9a542"
      },
      "source": [
        "# TOOLS\n",
        "tools_encodings = tokenizer(ev_tools['sentence'].tolist(), truncation=True, padding=True, max_length=max_seq_length)\n",
        "tools_dataset = tf.data.Dataset.from_tensor_slices((dict(tools_encodings))) # test dataset\n",
        "tools_data = tools_dataset.batch(train_batch_size, drop_remainder=False).prefetch(tf.data.experimental.AUTOTUNE)\n",
        "\n",
        "preds_percentage_tools = model.predict(tools_data).logits\n",
        "preds_percentage_tools = tf.nn.softmax(preds_percentage_tools, axis=1).numpy()  \n",
        "preds_prob_tools = preds_percentage_tools[:,1]\n",
        "\n",
        "print(f\"Num. tips tools at threshold = 0.5:  {(preds_prob_tools > 0.5).sum()} / {len(preds_prob_tools)}  \")\n",
        "print(f\"Num. tips tools at threshold = 0.7:  {(preds_prob_tools > 0.7).sum()} / {len(preds_prob_tools)}  \")\n",
        "print(f\"Num. tips tools at threshold = 0.9:  {(preds_prob_tools > 0.9).sum()} / {len(preds_prob_tools)}  \\n\")\n",
        "\n",
        "ev_tools['prediction'] = preds_prob_tools\n",
        "ev_tools.head(5)"
      ],
      "execution_count": null,
      "outputs": [
        {
          "output_type": "stream",
          "text": [
            "Num. tips tools at threshold = 0.5:  70 / 304  \n",
            "Num. tips tools at threshold = 0.7:  42 / 304  \n",
            "Num. tips tools at threshold = 0.9:  10 / 304  \n",
            "\n"
          ],
          "name": "stdout"
        },
        {
          "output_type": "execute_result",
          "data": {
            "text/html": [
              "<div>\n",
              "<style scoped>\n",
              "    .dataframe tbody tr th:only-of-type {\n",
              "        vertical-align: middle;\n",
              "    }\n",
              "\n",
              "    .dataframe tbody tr th {\n",
              "        vertical-align: top;\n",
              "    }\n",
              "\n",
              "    .dataframe thead th {\n",
              "        text-align: right;\n",
              "    }\n",
              "</style>\n",
              "<table border=\"1\" class=\"dataframe\">\n",
              "  <thead>\n",
              "    <tr style=\"text-align: right;\">\n",
              "      <th></th>\n",
              "      <th>Unnamed: 0</th>\n",
              "      <th>asin</th>\n",
              "      <th>reviewer_id</th>\n",
              "      <th>category</th>\n",
              "      <th>freq</th>\n",
              "      <th>sentence</th>\n",
              "      <th>num_review</th>\n",
              "      <th>num_sentence</th>\n",
              "      <th>sen_length</th>\n",
              "      <th>prediction</th>\n",
              "    </tr>\n",
              "  </thead>\n",
              "  <tbody>\n",
              "    <tr>\n",
              "      <th>0</th>\n",
              "      <td>0</td>\n",
              "      <td>B00004Z0YC</td>\n",
              "      <td>AASH83SNPTUXG</td>\n",
              "      <td>Tools &amp; Home Improvement</td>\n",
              "      <td>7</td>\n",
              "      <td>These are extremely weak if you need to swing ...</td>\n",
              "      <td>1</td>\n",
              "      <td>1</td>\n",
              "      <td>12</td>\n",
              "      <td>0.922304</td>\n",
              "    </tr>\n",
              "    <tr>\n",
              "      <th>1</th>\n",
              "      <td>1</td>\n",
              "      <td>B00004Z0YC</td>\n",
              "      <td>AASH83SNPTUXG</td>\n",
              "      <td>Tools &amp; Home Improvement</td>\n",
              "      <td>7</td>\n",
              "      <td>I have a solid wood door going into my basemen...</td>\n",
              "      <td>1</td>\n",
              "      <td>2</td>\n",
              "      <td>28</td>\n",
              "      <td>0.035821</td>\n",
              "    </tr>\n",
              "    <tr>\n",
              "      <th>2</th>\n",
              "      <td>2</td>\n",
              "      <td>B00004Z0YC</td>\n",
              "      <td>AASH83SNPTUXG</td>\n",
              "      <td>Tools &amp; Home Improvement</td>\n",
              "      <td>7</td>\n",
              "      <td>If you are using it for a hollow core door the...</td>\n",
              "      <td>1</td>\n",
              "      <td>3</td>\n",
              "      <td>13</td>\n",
              "      <td>0.928025</td>\n",
              "    </tr>\n",
              "    <tr>\n",
              "      <th>3</th>\n",
              "      <td>3</td>\n",
              "      <td>B00004Z0YC</td>\n",
              "      <td>AASH83SNPTUXG</td>\n",
              "      <td>Tools &amp; Home Improvement</td>\n",
              "      <td>7</td>\n",
              "      <td>Anything other than that, these are useless.</td>\n",
              "      <td>1</td>\n",
              "      <td>4</td>\n",
              "      <td>7</td>\n",
              "      <td>0.181776</td>\n",
              "    </tr>\n",
              "    <tr>\n",
              "      <th>4</th>\n",
              "      <td>4</td>\n",
              "      <td>B00004Z0YC</td>\n",
              "      <td>AASH83SNPTUXG</td>\n",
              "      <td>Tools &amp; Home Improvement</td>\n",
              "      <td>7</td>\n",
              "      <td>Use the Everbuilt spring hinges which work gre...</td>\n",
              "      <td>1</td>\n",
              "      <td>5</td>\n",
              "      <td>27</td>\n",
              "      <td>0.888856</td>\n",
              "    </tr>\n",
              "  </tbody>\n",
              "</table>\n",
              "</div>"
            ],
            "text/plain": [
              "   Unnamed: 0        asin    reviewer_id  ... num_sentence  sen_length prediction\n",
              "0           0  B00004Z0YC  AASH83SNPTUXG  ...            1          12   0.922304\n",
              "1           1  B00004Z0YC  AASH83SNPTUXG  ...            2          28   0.035821\n",
              "2           2  B00004Z0YC  AASH83SNPTUXG  ...            3          13   0.928025\n",
              "3           3  B00004Z0YC  AASH83SNPTUXG  ...            4           7   0.181776\n",
              "4           4  B00004Z0YC  AASH83SNPTUXG  ...            5          27   0.888856\n",
              "\n",
              "[5 rows x 10 columns]"
            ]
          },
          "metadata": {
            "tags": []
          },
          "execution_count": 172
        }
      ]
    },
    {
      "cell_type": "code",
      "metadata": {
        "id": "aOzx2CCxQRVu",
        "colab": {
          "base_uri": "https://localhost:8080/",
          "height": 272
        },
        "outputId": "29bf23ee-42af-422c-ce78-0d5e235f616a"
      },
      "source": [
        "# TOYS\n",
        "toys_encodings = tokenizer(ev_toys['sentence'].tolist(), truncation=True, padding=True, max_length=max_seq_length)\n",
        "toys_dataset = tf.data.Dataset.from_tensor_slices((dict(toys_encodings))) # test dataset\n",
        "toys_data = toys_dataset.batch(train_batch_size, drop_remainder=False).prefetch(tf.data.experimental.AUTOTUNE)\n",
        "\n",
        "preds_percentage_toys = model.predict(toys_data).logits\n",
        "preds_percentage_toys = tf.nn.softmax(preds_percentage_toys, axis=1).numpy()  \n",
        "preds_prob_toys = preds_percentage_toys[:,1]\n",
        "\n",
        "print(f\"Num. tips toys at threshold = 0.5:  {(preds_prob_toys > 0.5).sum()} / {len(preds_prob_toys)}  \")\n",
        "print(f\"Num. tips toys at threshold = 0.7:  {(preds_prob_toys > 0.7).sum()} / {len(preds_prob_toys)}  \")\n",
        "print(f\"Num. tips toys at threshold = 0.9:  {(preds_prob_toys > 0.9).sum()} / {len(preds_prob_toys)}  \\n\")\n",
        "\n",
        "ev_toys['prediction'] = preds_prob_toys\n",
        "ev_toys.head(5)"
      ],
      "execution_count": null,
      "outputs": [
        {
          "output_type": "stream",
          "text": [
            "Num. tips toys at threshold = 0.5:  33 / 259  \n",
            "Num. tips toys at threshold = 0.7:  25 / 259  \n",
            "Num. tips toys at threshold = 0.9:  5 / 259  \n",
            "\n"
          ],
          "name": "stdout"
        },
        {
          "output_type": "execute_result",
          "data": {
            "text/html": [
              "<div>\n",
              "<style scoped>\n",
              "    .dataframe tbody tr th:only-of-type {\n",
              "        vertical-align: middle;\n",
              "    }\n",
              "\n",
              "    .dataframe tbody tr th {\n",
              "        vertical-align: top;\n",
              "    }\n",
              "\n",
              "    .dataframe thead th {\n",
              "        text-align: right;\n",
              "    }\n",
              "</style>\n",
              "<table border=\"1\" class=\"dataframe\">\n",
              "  <thead>\n",
              "    <tr style=\"text-align: right;\">\n",
              "      <th></th>\n",
              "      <th>Unnamed: 0</th>\n",
              "      <th>asin</th>\n",
              "      <th>reviewer_id</th>\n",
              "      <th>category</th>\n",
              "      <th>freq</th>\n",
              "      <th>sentence</th>\n",
              "      <th>num_review</th>\n",
              "      <th>num_sentence</th>\n",
              "      <th>sen_length</th>\n",
              "      <th>prediction</th>\n",
              "    </tr>\n",
              "  </thead>\n",
              "  <tbody>\n",
              "    <tr>\n",
              "      <th>0</th>\n",
              "      <td>0</td>\n",
              "      <td>B0000C9WI2</td>\n",
              "      <td>A1B37KSGD8XUJ8</td>\n",
              "      <td>Toys &amp; Games</td>\n",
              "      <td>18</td>\n",
              "      <td>The goal works great.</td>\n",
              "      <td>1</td>\n",
              "      <td>1</td>\n",
              "      <td>4</td>\n",
              "      <td>0.005858</td>\n",
              "    </tr>\n",
              "    <tr>\n",
              "      <th>1</th>\n",
              "      <td>1</td>\n",
              "      <td>B0000C9WI2</td>\n",
              "      <td>A1B37KSGD8XUJ8</td>\n",
              "      <td>Toys &amp; Games</td>\n",
              "      <td>18</td>\n",
              "      <td>Make sure you have the correct batteries ( 6 A...</td>\n",
              "      <td>1</td>\n",
              "      <td>2</td>\n",
              "      <td>16</td>\n",
              "      <td>0.938989</td>\n",
              "    </tr>\n",
              "    <tr>\n",
              "      <th>2</th>\n",
              "      <td>2</td>\n",
              "      <td>B0000C9WI2</td>\n",
              "      <td>A1B37KSGD8XUJ8</td>\n",
              "      <td>Toys &amp; Games</td>\n",
              "      <td>18</td>\n",
              "      <td>You need a pump to pump up the miniature ball ...</td>\n",
              "      <td>1</td>\n",
              "      <td>3</td>\n",
              "      <td>13</td>\n",
              "      <td>0.856770</td>\n",
              "    </tr>\n",
              "    <tr>\n",
              "      <th>3</th>\n",
              "      <td>3</td>\n",
              "      <td>B0000C9WI2</td>\n",
              "      <td>A1B37KSGD8XUJ8</td>\n",
              "      <td>Toys &amp; Games</td>\n",
              "      <td>18</td>\n",
              "      <td>I bought a better ball to go with this, howeve...</td>\n",
              "      <td>1</td>\n",
              "      <td>4</td>\n",
              "      <td>18</td>\n",
              "      <td>0.885033</td>\n",
              "    </tr>\n",
              "    <tr>\n",
              "      <th>4</th>\n",
              "      <td>4</td>\n",
              "      <td>B0000C9WI2</td>\n",
              "      <td>A1B37KSGD8XUJ8</td>\n",
              "      <td>Toys &amp; Games</td>\n",
              "      <td>18</td>\n",
              "      <td>Great buy overall; instructions were easy to f...</td>\n",
              "      <td>1</td>\n",
              "      <td>5</td>\n",
              "      <td>8</td>\n",
              "      <td>0.005868</td>\n",
              "    </tr>\n",
              "  </tbody>\n",
              "</table>\n",
              "</div>"
            ],
            "text/plain": [
              "   Unnamed: 0        asin     reviewer_id  ... num_sentence  sen_length prediction\n",
              "0           0  B0000C9WI2  A1B37KSGD8XUJ8  ...            1           4   0.005858\n",
              "1           1  B0000C9WI2  A1B37KSGD8XUJ8  ...            2          16   0.938989\n",
              "2           2  B0000C9WI2  A1B37KSGD8XUJ8  ...            3          13   0.856770\n",
              "3           3  B0000C9WI2  A1B37KSGD8XUJ8  ...            4          18   0.885033\n",
              "4           4  B0000C9WI2  A1B37KSGD8XUJ8  ...            5           8   0.005868\n",
              "\n",
              "[5 rows x 10 columns]"
            ]
          },
          "metadata": {
            "tags": []
          },
          "execution_count": 173
        }
      ]
    },
    {
      "cell_type": "code",
      "metadata": {
        "id": "OAHwDkQwQRS5",
        "colab": {
          "base_uri": "https://localhost:8080/",
          "height": 272
        },
        "outputId": "da0ccda8-dd13-4540-d259-89030a610b88"
      },
      "source": [
        "# VIDEO\n",
        "video_encodings = tokenizer(ev_video['sentence'].tolist(), truncation=True, padding=True, max_length=max_seq_length)\n",
        "video_dataset = tf.data.Dataset.from_tensor_slices((dict(video_encodings))) # test dataset\n",
        "video_data = video_dataset.batch(train_batch_size, drop_remainder=False).prefetch(tf.data.experimental.AUTOTUNE)\n",
        "\n",
        "preds_percentage_video = model.predict(video_data).logits\n",
        "preds_percentage_video = tf.nn.softmax(preds_percentage_video, axis=1).numpy()  \n",
        "preds_prob_video = preds_percentage_video[:,1]\n",
        "\n",
        "print(f\"Num. tips video at threshold = 0.5:  {(preds_prob_video > 0.5).sum()} / {len(preds_prob_video)}  \")\n",
        "print(f\"Num. tips video at threshold = 0.7:  {(preds_prob_video > 0.7).sum()} / {len(preds_prob_video)}  \")\n",
        "print(f\"Num. tips video at threshold = 0.9:  {(preds_prob_video > 0.9).sum()} / {len(preds_prob_video)}  \\n\")\n",
        "\n",
        "ev_video['prediction'] = preds_prob_video\n",
        "ev_video.head(5)"
      ],
      "execution_count": null,
      "outputs": [
        {
          "output_type": "stream",
          "text": [
            "Num. tips video at threshold = 0.5:  38 / 458  \n",
            "Num. tips video at threshold = 0.7:  15 / 458  \n",
            "Num. tips video at threshold = 0.9:  2 / 458  \n",
            "\n"
          ],
          "name": "stdout"
        },
        {
          "output_type": "execute_result",
          "data": {
            "text/html": [
              "<div>\n",
              "<style scoped>\n",
              "    .dataframe tbody tr th:only-of-type {\n",
              "        vertical-align: middle;\n",
              "    }\n",
              "\n",
              "    .dataframe tbody tr th {\n",
              "        vertical-align: top;\n",
              "    }\n",
              "\n",
              "    .dataframe thead th {\n",
              "        text-align: right;\n",
              "    }\n",
              "</style>\n",
              "<table border=\"1\" class=\"dataframe\">\n",
              "  <thead>\n",
              "    <tr style=\"text-align: right;\">\n",
              "      <th></th>\n",
              "      <th>Unnamed: 0</th>\n",
              "      <th>asin</th>\n",
              "      <th>reviewer_id</th>\n",
              "      <th>category</th>\n",
              "      <th>freq</th>\n",
              "      <th>sentence</th>\n",
              "      <th>num_review</th>\n",
              "      <th>num_sentence</th>\n",
              "      <th>sen_length</th>\n",
              "      <th>prediction</th>\n",
              "    </tr>\n",
              "  </thead>\n",
              "  <tbody>\n",
              "    <tr>\n",
              "      <th>0</th>\n",
              "      <td>0</td>\n",
              "      <td>B00004WHW7</td>\n",
              "      <td>ADJKMC7AO7YN3</td>\n",
              "      <td>Video Games</td>\n",
              "      <td>21</td>\n",
              "      <td>Loopy Landscapes is the second expansion pack ...</td>\n",
              "      <td>1</td>\n",
              "      <td>1</td>\n",
              "      <td>21</td>\n",
              "      <td>0.011506</td>\n",
              "    </tr>\n",
              "    <tr>\n",
              "      <th>1</th>\n",
              "      <td>1</td>\n",
              "      <td>B00004WHW7</td>\n",
              "      <td>ADJKMC7AO7YN3</td>\n",
              "      <td>Video Games</td>\n",
              "      <td>21</td>\n",
              "      <td>Loopy Landscapes includes 30 new scenarios, 3 ...</td>\n",
              "      <td>1</td>\n",
              "      <td>2</td>\n",
              "      <td>21</td>\n",
              "      <td>0.137283</td>\n",
              "    </tr>\n",
              "    <tr>\n",
              "      <th>2</th>\n",
              "      <td>2</td>\n",
              "      <td>B00004WHW7</td>\n",
              "      <td>ADJKMC7AO7YN3</td>\n",
              "      <td>Video Games</td>\n",
              "      <td>21</td>\n",
              "      <td>It should be said upfront that this expansion ...</td>\n",
              "      <td>1</td>\n",
              "      <td>3</td>\n",
              "      <td>49</td>\n",
              "      <td>0.440835</td>\n",
              "    </tr>\n",
              "    <tr>\n",
              "      <th>3</th>\n",
              "      <td>3</td>\n",
              "      <td>B00004WHW7</td>\n",
              "      <td>ADJKMC7AO7YN3</td>\n",
              "      <td>Video Games</td>\n",
              "      <td>21</td>\n",
              "      <td>You must complete a scenario here in order to ...</td>\n",
              "      <td>1</td>\n",
              "      <td>4</td>\n",
              "      <td>11</td>\n",
              "      <td>0.324584</td>\n",
              "    </tr>\n",
              "    <tr>\n",
              "      <th>4</th>\n",
              "      <td>4</td>\n",
              "      <td>B00004WHW7</td>\n",
              "      <td>ADJKMC7AO7YN3</td>\n",
              "      <td>Video Games</td>\n",
              "      <td>21</td>\n",
              "      <td>However, I think this is where Loopy Landscape...</td>\n",
              "      <td>1</td>\n",
              "      <td>5</td>\n",
              "      <td>25</td>\n",
              "      <td>0.059905</td>\n",
              "    </tr>\n",
              "  </tbody>\n",
              "</table>\n",
              "</div>"
            ],
            "text/plain": [
              "   Unnamed: 0        asin    reviewer_id  ... num_sentence  sen_length prediction\n",
              "0           0  B00004WHW7  ADJKMC7AO7YN3  ...            1          21   0.011506\n",
              "1           1  B00004WHW7  ADJKMC7AO7YN3  ...            2          21   0.137283\n",
              "2           2  B00004WHW7  ADJKMC7AO7YN3  ...            3          49   0.440835\n",
              "3           3  B00004WHW7  ADJKMC7AO7YN3  ...            4          11   0.324584\n",
              "4           4  B00004WHW7  ADJKMC7AO7YN3  ...            5          25   0.059905\n",
              "\n",
              "[5 rows x 10 columns]"
            ]
          },
          "metadata": {
            "tags": []
          },
          "execution_count": 174
        }
      ]
    },
    {
      "cell_type": "markdown",
      "metadata": {
        "id": "zTFeVUH_4z7L"
      },
      "source": [
        "Write results matrices to csv"
      ]
    },
    {
      "cell_type": "code",
      "metadata": {
        "id": "3csa1UQJABKa",
        "colab": {
          "base_uri": "https://localhost:8080/",
          "height": 17
        },
        "outputId": "a6044ec8-2ae0-4dcf-d351-944bc42d345b"
      },
      "source": [
        "from google.colab import files\n",
        "\n",
        "ev_baby.to_csv(\"results_baby.csv\", sep = \"\\t\")  \n",
        "ev_cloth.to_csv(\"results_cloth.csv\", sep = \"\\t\")  \n",
        "ev_food.to_csv(\"results_food.csv\", sep = \"\\t\")  \n",
        "ev_health.to_csv(\"results_health.csv\", sep = \"\\t\")   \n",
        "ev_music.to_csv(\"results_music.csv\", sep = \"\\t\")   \n",
        "ev_phone.to_csv(\"results_phone.csv\", sep = \"\\t\")   \n",
        "ev_sports.to_csv(\"results_sports.csv\", sep = \"\\t\")  \n",
        "ev_tools.to_csv(\"results_tools.csv\", sep = \"\\t\")   \n",
        "ev_toys.to_csv(\"results_toys.csv\", sep = \"\\t\")   \n",
        "ev_video.to_csv(\"results_video.csv\", sep = \"\\t\")  \n",
        "\n",
        "files.download(\"results_baby.csv\")\n",
        "files.download('results_cloth.csv')\n",
        "files.download('results_food.csv')\n",
        "files.download('results_health.csv')\n",
        "files.download('results_music.csv')\n",
        "files.download('results_phone.csv')\n",
        "files.download('results_sports.csv')\n",
        "files.download('results_tools.csv')\n",
        "files.download('results_toys.csv')\n",
        "files.download('results_video.csv')"
      ],
      "execution_count": null,
      "outputs": [
        {
          "output_type": "display_data",
          "data": {
            "application/javascript": [
              "\n",
              "    async function download(id, filename, size) {\n",
              "      if (!google.colab.kernel.accessAllowed) {\n",
              "        return;\n",
              "      }\n",
              "      const div = document.createElement('div');\n",
              "      const label = document.createElement('label');\n",
              "      label.textContent = `Downloading \"${filename}\": `;\n",
              "      div.appendChild(label);\n",
              "      const progress = document.createElement('progress');\n",
              "      progress.max = size;\n",
              "      div.appendChild(progress);\n",
              "      document.body.appendChild(div);\n",
              "\n",
              "      const buffers = [];\n",
              "      let downloaded = 0;\n",
              "\n",
              "      const channel = await google.colab.kernel.comms.open(id);\n",
              "      // Send a message to notify the kernel that we're ready.\n",
              "      channel.send({})\n",
              "\n",
              "      for await (const message of channel.messages) {\n",
              "        // Send a message to notify the kernel that we're ready.\n",
              "        channel.send({})\n",
              "        if (message.buffers) {\n",
              "          for (const buffer of message.buffers) {\n",
              "            buffers.push(buffer);\n",
              "            downloaded += buffer.byteLength;\n",
              "            progress.value = downloaded;\n",
              "          }\n",
              "        }\n",
              "      }\n",
              "      const blob = new Blob(buffers, {type: 'application/binary'});\n",
              "      const a = document.createElement('a');\n",
              "      a.href = window.URL.createObjectURL(blob);\n",
              "      a.download = filename;\n",
              "      div.appendChild(a);\n",
              "      a.click();\n",
              "      div.remove();\n",
              "    }\n",
              "  "
            ],
            "text/plain": [
              "<IPython.core.display.Javascript object>"
            ]
          },
          "metadata": {
            "tags": []
          }
        },
        {
          "output_type": "display_data",
          "data": {
            "application/javascript": [
              "download(\"download_5fdb21cf-670e-4eaa-b988-2e63bc8a5586\", \"results_baby.csv\", 52842)"
            ],
            "text/plain": [
              "<IPython.core.display.Javascript object>"
            ]
          },
          "metadata": {
            "tags": []
          }
        },
        {
          "output_type": "display_data",
          "data": {
            "application/javascript": [
              "\n",
              "    async function download(id, filename, size) {\n",
              "      if (!google.colab.kernel.accessAllowed) {\n",
              "        return;\n",
              "      }\n",
              "      const div = document.createElement('div');\n",
              "      const label = document.createElement('label');\n",
              "      label.textContent = `Downloading \"${filename}\": `;\n",
              "      div.appendChild(label);\n",
              "      const progress = document.createElement('progress');\n",
              "      progress.max = size;\n",
              "      div.appendChild(progress);\n",
              "      document.body.appendChild(div);\n",
              "\n",
              "      const buffers = [];\n",
              "      let downloaded = 0;\n",
              "\n",
              "      const channel = await google.colab.kernel.comms.open(id);\n",
              "      // Send a message to notify the kernel that we're ready.\n",
              "      channel.send({})\n",
              "\n",
              "      for await (const message of channel.messages) {\n",
              "        // Send a message to notify the kernel that we're ready.\n",
              "        channel.send({})\n",
              "        if (message.buffers) {\n",
              "          for (const buffer of message.buffers) {\n",
              "            buffers.push(buffer);\n",
              "            downloaded += buffer.byteLength;\n",
              "            progress.value = downloaded;\n",
              "          }\n",
              "        }\n",
              "      }\n",
              "      const blob = new Blob(buffers, {type: 'application/binary'});\n",
              "      const a = document.createElement('a');\n",
              "      a.href = window.URL.createObjectURL(blob);\n",
              "      a.download = filename;\n",
              "      div.appendChild(a);\n",
              "      a.click();\n",
              "      div.remove();\n",
              "    }\n",
              "  "
            ],
            "text/plain": [
              "<IPython.core.display.Javascript object>"
            ]
          },
          "metadata": {
            "tags": []
          }
        },
        {
          "output_type": "display_data",
          "data": {
            "application/javascript": [
              "download(\"download_92eb1425-d385-4805-88ac-041fc2349d4b\", \"results_cloth.csv\", 36363)"
            ],
            "text/plain": [
              "<IPython.core.display.Javascript object>"
            ]
          },
          "metadata": {
            "tags": []
          }
        },
        {
          "output_type": "display_data",
          "data": {
            "application/javascript": [
              "\n",
              "    async function download(id, filename, size) {\n",
              "      if (!google.colab.kernel.accessAllowed) {\n",
              "        return;\n",
              "      }\n",
              "      const div = document.createElement('div');\n",
              "      const label = document.createElement('label');\n",
              "      label.textContent = `Downloading \"${filename}\": `;\n",
              "      div.appendChild(label);\n",
              "      const progress = document.createElement('progress');\n",
              "      progress.max = size;\n",
              "      div.appendChild(progress);\n",
              "      document.body.appendChild(div);\n",
              "\n",
              "      const buffers = [];\n",
              "      let downloaded = 0;\n",
              "\n",
              "      const channel = await google.colab.kernel.comms.open(id);\n",
              "      // Send a message to notify the kernel that we're ready.\n",
              "      channel.send({})\n",
              "\n",
              "      for await (const message of channel.messages) {\n",
              "        // Send a message to notify the kernel that we're ready.\n",
              "        channel.send({})\n",
              "        if (message.buffers) {\n",
              "          for (const buffer of message.buffers) {\n",
              "            buffers.push(buffer);\n",
              "            downloaded += buffer.byteLength;\n",
              "            progress.value = downloaded;\n",
              "          }\n",
              "        }\n",
              "      }\n",
              "      const blob = new Blob(buffers, {type: 'application/binary'});\n",
              "      const a = document.createElement('a');\n",
              "      a.href = window.URL.createObjectURL(blob);\n",
              "      a.download = filename;\n",
              "      div.appendChild(a);\n",
              "      a.click();\n",
              "      div.remove();\n",
              "    }\n",
              "  "
            ],
            "text/plain": [
              "<IPython.core.display.Javascript object>"
            ]
          },
          "metadata": {
            "tags": []
          }
        },
        {
          "output_type": "display_data",
          "data": {
            "application/javascript": [
              "download(\"download_fb9eb378-ba39-4cbb-90c5-29ee9c5c9064\", \"results_food.csv\", 32521)"
            ],
            "text/plain": [
              "<IPython.core.display.Javascript object>"
            ]
          },
          "metadata": {
            "tags": []
          }
        },
        {
          "output_type": "display_data",
          "data": {
            "application/javascript": [
              "\n",
              "    async function download(id, filename, size) {\n",
              "      if (!google.colab.kernel.accessAllowed) {\n",
              "        return;\n",
              "      }\n",
              "      const div = document.createElement('div');\n",
              "      const label = document.createElement('label');\n",
              "      label.textContent = `Downloading \"${filename}\": `;\n",
              "      div.appendChild(label);\n",
              "      const progress = document.createElement('progress');\n",
              "      progress.max = size;\n",
              "      div.appendChild(progress);\n",
              "      document.body.appendChild(div);\n",
              "\n",
              "      const buffers = [];\n",
              "      let downloaded = 0;\n",
              "\n",
              "      const channel = await google.colab.kernel.comms.open(id);\n",
              "      // Send a message to notify the kernel that we're ready.\n",
              "      channel.send({})\n",
              "\n",
              "      for await (const message of channel.messages) {\n",
              "        // Send a message to notify the kernel that we're ready.\n",
              "        channel.send({})\n",
              "        if (message.buffers) {\n",
              "          for (const buffer of message.buffers) {\n",
              "            buffers.push(buffer);\n",
              "            downloaded += buffer.byteLength;\n",
              "            progress.value = downloaded;\n",
              "          }\n",
              "        }\n",
              "      }\n",
              "      const blob = new Blob(buffers, {type: 'application/binary'});\n",
              "      const a = document.createElement('a');\n",
              "      a.href = window.URL.createObjectURL(blob);\n",
              "      a.download = filename;\n",
              "      div.appendChild(a);\n",
              "      a.click();\n",
              "      div.remove();\n",
              "    }\n",
              "  "
            ],
            "text/plain": [
              "<IPython.core.display.Javascript object>"
            ]
          },
          "metadata": {
            "tags": []
          }
        },
        {
          "output_type": "display_data",
          "data": {
            "application/javascript": [
              "download(\"download_ac2c4f29-041a-45b2-817c-dbd419f57152\", \"results_health.csv\", 41563)"
            ],
            "text/plain": [
              "<IPython.core.display.Javascript object>"
            ]
          },
          "metadata": {
            "tags": []
          }
        },
        {
          "output_type": "display_data",
          "data": {
            "application/javascript": [
              "\n",
              "    async function download(id, filename, size) {\n",
              "      if (!google.colab.kernel.accessAllowed) {\n",
              "        return;\n",
              "      }\n",
              "      const div = document.createElement('div');\n",
              "      const label = document.createElement('label');\n",
              "      label.textContent = `Downloading \"${filename}\": `;\n",
              "      div.appendChild(label);\n",
              "      const progress = document.createElement('progress');\n",
              "      progress.max = size;\n",
              "      div.appendChild(progress);\n",
              "      document.body.appendChild(div);\n",
              "\n",
              "      const buffers = [];\n",
              "      let downloaded = 0;\n",
              "\n",
              "      const channel = await google.colab.kernel.comms.open(id);\n",
              "      // Send a message to notify the kernel that we're ready.\n",
              "      channel.send({})\n",
              "\n",
              "      for await (const message of channel.messages) {\n",
              "        // Send a message to notify the kernel that we're ready.\n",
              "        channel.send({})\n",
              "        if (message.buffers) {\n",
              "          for (const buffer of message.buffers) {\n",
              "            buffers.push(buffer);\n",
              "            downloaded += buffer.byteLength;\n",
              "            progress.value = downloaded;\n",
              "          }\n",
              "        }\n",
              "      }\n",
              "      const blob = new Blob(buffers, {type: 'application/binary'});\n",
              "      const a = document.createElement('a');\n",
              "      a.href = window.URL.createObjectURL(blob);\n",
              "      a.download = filename;\n",
              "      div.appendChild(a);\n",
              "      a.click();\n",
              "      div.remove();\n",
              "    }\n",
              "  "
            ],
            "text/plain": [
              "<IPython.core.display.Javascript object>"
            ]
          },
          "metadata": {
            "tags": []
          }
        },
        {
          "output_type": "display_data",
          "data": {
            "application/javascript": [
              "download(\"download_29c3d8fc-1d4a-4ff4-9396-498f8724b850\", \"results_music.csv\", 39933)"
            ],
            "text/plain": [
              "<IPython.core.display.Javascript object>"
            ]
          },
          "metadata": {
            "tags": []
          }
        },
        {
          "output_type": "display_data",
          "data": {
            "application/javascript": [
              "\n",
              "    async function download(id, filename, size) {\n",
              "      if (!google.colab.kernel.accessAllowed) {\n",
              "        return;\n",
              "      }\n",
              "      const div = document.createElement('div');\n",
              "      const label = document.createElement('label');\n",
              "      label.textContent = `Downloading \"${filename}\": `;\n",
              "      div.appendChild(label);\n",
              "      const progress = document.createElement('progress');\n",
              "      progress.max = size;\n",
              "      div.appendChild(progress);\n",
              "      document.body.appendChild(div);\n",
              "\n",
              "      const buffers = [];\n",
              "      let downloaded = 0;\n",
              "\n",
              "      const channel = await google.colab.kernel.comms.open(id);\n",
              "      // Send a message to notify the kernel that we're ready.\n",
              "      channel.send({})\n",
              "\n",
              "      for await (const message of channel.messages) {\n",
              "        // Send a message to notify the kernel that we're ready.\n",
              "        channel.send({})\n",
              "        if (message.buffers) {\n",
              "          for (const buffer of message.buffers) {\n",
              "            buffers.push(buffer);\n",
              "            downloaded += buffer.byteLength;\n",
              "            progress.value = downloaded;\n",
              "          }\n",
              "        }\n",
              "      }\n",
              "      const blob = new Blob(buffers, {type: 'application/binary'});\n",
              "      const a = document.createElement('a');\n",
              "      a.href = window.URL.createObjectURL(blob);\n",
              "      a.download = filename;\n",
              "      div.appendChild(a);\n",
              "      a.click();\n",
              "      div.remove();\n",
              "    }\n",
              "  "
            ],
            "text/plain": [
              "<IPython.core.display.Javascript object>"
            ]
          },
          "metadata": {
            "tags": []
          }
        },
        {
          "output_type": "display_data",
          "data": {
            "application/javascript": [
              "download(\"download_290c55dc-2917-492c-92b3-f436de437b42\", \"results_phone.csv\", 37884)"
            ],
            "text/plain": [
              "<IPython.core.display.Javascript object>"
            ]
          },
          "metadata": {
            "tags": []
          }
        },
        {
          "output_type": "display_data",
          "data": {
            "application/javascript": [
              "\n",
              "    async function download(id, filename, size) {\n",
              "      if (!google.colab.kernel.accessAllowed) {\n",
              "        return;\n",
              "      }\n",
              "      const div = document.createElement('div');\n",
              "      const label = document.createElement('label');\n",
              "      label.textContent = `Downloading \"${filename}\": `;\n",
              "      div.appendChild(label);\n",
              "      const progress = document.createElement('progress');\n",
              "      progress.max = size;\n",
              "      div.appendChild(progress);\n",
              "      document.body.appendChild(div);\n",
              "\n",
              "      const buffers = [];\n",
              "      let downloaded = 0;\n",
              "\n",
              "      const channel = await google.colab.kernel.comms.open(id);\n",
              "      // Send a message to notify the kernel that we're ready.\n",
              "      channel.send({})\n",
              "\n",
              "      for await (const message of channel.messages) {\n",
              "        // Send a message to notify the kernel that we're ready.\n",
              "        channel.send({})\n",
              "        if (message.buffers) {\n",
              "          for (const buffer of message.buffers) {\n",
              "            buffers.push(buffer);\n",
              "            downloaded += buffer.byteLength;\n",
              "            progress.value = downloaded;\n",
              "          }\n",
              "        }\n",
              "      }\n",
              "      const blob = new Blob(buffers, {type: 'application/binary'});\n",
              "      const a = document.createElement('a');\n",
              "      a.href = window.URL.createObjectURL(blob);\n",
              "      a.download = filename;\n",
              "      div.appendChild(a);\n",
              "      a.click();\n",
              "      div.remove();\n",
              "    }\n",
              "  "
            ],
            "text/plain": [
              "<IPython.core.display.Javascript object>"
            ]
          },
          "metadata": {
            "tags": []
          }
        },
        {
          "output_type": "display_data",
          "data": {
            "application/javascript": [
              "download(\"download_3418ac2d-7b23-4293-adc9-b96a35d6187f\", \"results_sports.csv\", 33945)"
            ],
            "text/plain": [
              "<IPython.core.display.Javascript object>"
            ]
          },
          "metadata": {
            "tags": []
          }
        },
        {
          "output_type": "display_data",
          "data": {
            "application/javascript": [
              "\n",
              "    async function download(id, filename, size) {\n",
              "      if (!google.colab.kernel.accessAllowed) {\n",
              "        return;\n",
              "      }\n",
              "      const div = document.createElement('div');\n",
              "      const label = document.createElement('label');\n",
              "      label.textContent = `Downloading \"${filename}\": `;\n",
              "      div.appendChild(label);\n",
              "      const progress = document.createElement('progress');\n",
              "      progress.max = size;\n",
              "      div.appendChild(progress);\n",
              "      document.body.appendChild(div);\n",
              "\n",
              "      const buffers = [];\n",
              "      let downloaded = 0;\n",
              "\n",
              "      const channel = await google.colab.kernel.comms.open(id);\n",
              "      // Send a message to notify the kernel that we're ready.\n",
              "      channel.send({})\n",
              "\n",
              "      for await (const message of channel.messages) {\n",
              "        // Send a message to notify the kernel that we're ready.\n",
              "        channel.send({})\n",
              "        if (message.buffers) {\n",
              "          for (const buffer of message.buffers) {\n",
              "            buffers.push(buffer);\n",
              "            downloaded += buffer.byteLength;\n",
              "            progress.value = downloaded;\n",
              "          }\n",
              "        }\n",
              "      }\n",
              "      const blob = new Blob(buffers, {type: 'application/binary'});\n",
              "      const a = document.createElement('a');\n",
              "      a.href = window.URL.createObjectURL(blob);\n",
              "      a.download = filename;\n",
              "      div.appendChild(a);\n",
              "      a.click();\n",
              "      div.remove();\n",
              "    }\n",
              "  "
            ],
            "text/plain": [
              "<IPython.core.display.Javascript object>"
            ]
          },
          "metadata": {
            "tags": []
          }
        },
        {
          "output_type": "display_data",
          "data": {
            "application/javascript": [
              "download(\"download_72edeea0-10a0-4d7f-9b44-232a22932ddc\", \"results_tools.csv\", 56134)"
            ],
            "text/plain": [
              "<IPython.core.display.Javascript object>"
            ]
          },
          "metadata": {
            "tags": []
          }
        },
        {
          "output_type": "display_data",
          "data": {
            "application/javascript": [
              "\n",
              "    async function download(id, filename, size) {\n",
              "      if (!google.colab.kernel.accessAllowed) {\n",
              "        return;\n",
              "      }\n",
              "      const div = document.createElement('div');\n",
              "      const label = document.createElement('label');\n",
              "      label.textContent = `Downloading \"${filename}\": `;\n",
              "      div.appendChild(label);\n",
              "      const progress = document.createElement('progress');\n",
              "      progress.max = size;\n",
              "      div.appendChild(progress);\n",
              "      document.body.appendChild(div);\n",
              "\n",
              "      const buffers = [];\n",
              "      let downloaded = 0;\n",
              "\n",
              "      const channel = await google.colab.kernel.comms.open(id);\n",
              "      // Send a message to notify the kernel that we're ready.\n",
              "      channel.send({})\n",
              "\n",
              "      for await (const message of channel.messages) {\n",
              "        // Send a message to notify the kernel that we're ready.\n",
              "        channel.send({})\n",
              "        if (message.buffers) {\n",
              "          for (const buffer of message.buffers) {\n",
              "            buffers.push(buffer);\n",
              "            downloaded += buffer.byteLength;\n",
              "            progress.value = downloaded;\n",
              "          }\n",
              "        }\n",
              "      }\n",
              "      const blob = new Blob(buffers, {type: 'application/binary'});\n",
              "      const a = document.createElement('a');\n",
              "      a.href = window.URL.createObjectURL(blob);\n",
              "      a.download = filename;\n",
              "      div.appendChild(a);\n",
              "      a.click();\n",
              "      div.remove();\n",
              "    }\n",
              "  "
            ],
            "text/plain": [
              "<IPython.core.display.Javascript object>"
            ]
          },
          "metadata": {
            "tags": []
          }
        },
        {
          "output_type": "display_data",
          "data": {
            "application/javascript": [
              "download(\"download_918a41f7-f297-4b51-bc73-2c0beb4dc012\", \"results_toys.csv\", 40721)"
            ],
            "text/plain": [
              "<IPython.core.display.Javascript object>"
            ]
          },
          "metadata": {
            "tags": []
          }
        },
        {
          "output_type": "display_data",
          "data": {
            "application/javascript": [
              "\n",
              "    async function download(id, filename, size) {\n",
              "      if (!google.colab.kernel.accessAllowed) {\n",
              "        return;\n",
              "      }\n",
              "      const div = document.createElement('div');\n",
              "      const label = document.createElement('label');\n",
              "      label.textContent = `Downloading \"${filename}\": `;\n",
              "      div.appendChild(label);\n",
              "      const progress = document.createElement('progress');\n",
              "      progress.max = size;\n",
              "      div.appendChild(progress);\n",
              "      document.body.appendChild(div);\n",
              "\n",
              "      const buffers = [];\n",
              "      let downloaded = 0;\n",
              "\n",
              "      const channel = await google.colab.kernel.comms.open(id);\n",
              "      // Send a message to notify the kernel that we're ready.\n",
              "      channel.send({})\n",
              "\n",
              "      for await (const message of channel.messages) {\n",
              "        // Send a message to notify the kernel that we're ready.\n",
              "        channel.send({})\n",
              "        if (message.buffers) {\n",
              "          for (const buffer of message.buffers) {\n",
              "            buffers.push(buffer);\n",
              "            downloaded += buffer.byteLength;\n",
              "            progress.value = downloaded;\n",
              "          }\n",
              "        }\n",
              "      }\n",
              "      const blob = new Blob(buffers, {type: 'application/binary'});\n",
              "      const a = document.createElement('a');\n",
              "      a.href = window.URL.createObjectURL(blob);\n",
              "      a.download = filename;\n",
              "      div.appendChild(a);\n",
              "      a.click();\n",
              "      div.remove();\n",
              "    }\n",
              "  "
            ],
            "text/plain": [
              "<IPython.core.display.Javascript object>"
            ]
          },
          "metadata": {
            "tags": []
          }
        },
        {
          "output_type": "display_data",
          "data": {
            "application/javascript": [
              "download(\"download_62cec2b0-527a-4681-9288-6be96c6d72dc\", \"results_video.csv\", 79215)"
            ],
            "text/plain": [
              "<IPython.core.display.Javascript object>"
            ]
          },
          "metadata": {
            "tags": []
          }
        }
      ]
    },
    {
      "cell_type": "code",
      "metadata": {
        "colab": {
          "base_uri": "https://localhost:8080/",
          "height": 17
        },
        "id": "CIYfN_OR6UzH",
        "outputId": "66da1a63-f683-4588-995f-47c03abed646"
      },
      "source": [
        "from google.colab import files\n",
        "ev_baby.to_csv('filename.csv') \n",
        "files.download('filename.csv')"
      ],
      "execution_count": null,
      "outputs": [
        {
          "output_type": "display_data",
          "data": {
            "application/javascript": [
              "\n",
              "    async function download(id, filename, size) {\n",
              "      if (!google.colab.kernel.accessAllowed) {\n",
              "        return;\n",
              "      }\n",
              "      const div = document.createElement('div');\n",
              "      const label = document.createElement('label');\n",
              "      label.textContent = `Downloading \"${filename}\": `;\n",
              "      div.appendChild(label);\n",
              "      const progress = document.createElement('progress');\n",
              "      progress.max = size;\n",
              "      div.appendChild(progress);\n",
              "      document.body.appendChild(div);\n",
              "\n",
              "      const buffers = [];\n",
              "      let downloaded = 0;\n",
              "\n",
              "      const channel = await google.colab.kernel.comms.open(id);\n",
              "      // Send a message to notify the kernel that we're ready.\n",
              "      channel.send({})\n",
              "\n",
              "      for await (const message of channel.messages) {\n",
              "        // Send a message to notify the kernel that we're ready.\n",
              "        channel.send({})\n",
              "        if (message.buffers) {\n",
              "          for (const buffer of message.buffers) {\n",
              "            buffers.push(buffer);\n",
              "            downloaded += buffer.byteLength;\n",
              "            progress.value = downloaded;\n",
              "          }\n",
              "        }\n",
              "      }\n",
              "      const blob = new Blob(buffers, {type: 'application/binary'});\n",
              "      const a = document.createElement('a');\n",
              "      a.href = window.URL.createObjectURL(blob);\n",
              "      a.download = filename;\n",
              "      div.appendChild(a);\n",
              "      a.click();\n",
              "      div.remove();\n",
              "    }\n",
              "  "
            ],
            "text/plain": [
              "<IPython.core.display.Javascript object>"
            ]
          },
          "metadata": {
            "tags": []
          }
        },
        {
          "output_type": "display_data",
          "data": {
            "application/javascript": [
              "download(\"download_b919017e-0966-4cb6-adbd-03f535f95dcb\", \"filename.csv\", 53104)"
            ],
            "text/plain": [
              "<IPython.core.display.Javascript object>"
            ]
          },
          "metadata": {
            "tags": []
          }
        }
      ]
    },
    {
      "cell_type": "markdown",
      "source": [
        "@references: \n",
        "* https://huggingface.co/transformers/custom_datasets.html"
      ],
      "metadata": {
        "id": "Yv54jSUTr8J_"
      }
    }
  ]
}