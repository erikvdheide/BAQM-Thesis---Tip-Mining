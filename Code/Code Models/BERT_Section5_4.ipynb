{
  "nbformat": 4,
  "nbformat_minor": 0,
  "metadata": {
    "colab": {
      "name": "BERT_Section5_4.ipynb",
      "provenance": [],
      "collapsed_sections": []
    },
    "kernelspec": {
      "name": "python3",
      "display_name": "Python 3"
    },
    "language_info": {
      "name": "python"
    },
    "accelerator": "GPU",
    "widgets": {
      "application/vnd.jupyter.widget-state+json": {
        "8b3e4672ece945b789c59793dd5ebe51": {
          "model_module": "@jupyter-widgets/controls",
          "model_name": "HBoxModel",
          "state": {
            "_view_name": "HBoxView",
            "_dom_classes": [],
            "_model_name": "HBoxModel",
            "_view_module": "@jupyter-widgets/controls",
            "_model_module_version": "1.5.0",
            "_view_count": null,
            "_view_module_version": "1.5.0",
            "box_style": "",
            "layout": "IPY_MODEL_11211f1c3c2d417ca8eb25dcffdc6831",
            "_model_module": "@jupyter-widgets/controls",
            "children": [
              "IPY_MODEL_cdb09be8f4c742a6923035a566d9755c",
              "IPY_MODEL_9af5de82108542d484544abd4e94bc78"
            ]
          },
          "model_module_version": "1.5.0"
        },
        "11211f1c3c2d417ca8eb25dcffdc6831": {
          "model_module": "@jupyter-widgets/base",
          "model_name": "LayoutModel",
          "state": {
            "_view_name": "LayoutView",
            "grid_template_rows": null,
            "right": null,
            "justify_content": null,
            "_view_module": "@jupyter-widgets/base",
            "overflow": null,
            "_model_module_version": "1.2.0",
            "_view_count": null,
            "flex_flow": null,
            "width": null,
            "min_width": null,
            "border": null,
            "align_items": null,
            "bottom": null,
            "_model_module": "@jupyter-widgets/base",
            "top": null,
            "grid_column": null,
            "overflow_y": null,
            "overflow_x": null,
            "grid_auto_flow": null,
            "grid_area": null,
            "grid_template_columns": null,
            "flex": null,
            "_model_name": "LayoutModel",
            "justify_items": null,
            "grid_row": null,
            "max_height": null,
            "align_content": null,
            "visibility": null,
            "align_self": null,
            "height": null,
            "min_height": null,
            "padding": null,
            "grid_auto_rows": null,
            "grid_gap": null,
            "max_width": null,
            "order": null,
            "_view_module_version": "1.2.0",
            "grid_template_areas": null,
            "object_position": null,
            "object_fit": null,
            "grid_auto_columns": null,
            "margin": null,
            "display": null,
            "left": null
          },
          "model_module_version": "1.2.0"
        },
        "cdb09be8f4c742a6923035a566d9755c": {
          "model_module": "@jupyter-widgets/controls",
          "model_name": "FloatProgressModel",
          "state": {
            "_view_name": "ProgressView",
            "style": "IPY_MODEL_96bbaa9bf246402b87017d7b92231a36",
            "_dom_classes": [],
            "description": "Downloading: 100%",
            "_model_name": "FloatProgressModel",
            "bar_style": "success",
            "max": 898823,
            "_view_module": "@jupyter-widgets/controls",
            "_model_module_version": "1.5.0",
            "value": 898823,
            "_view_count": null,
            "_view_module_version": "1.5.0",
            "orientation": "horizontal",
            "min": 0,
            "description_tooltip": null,
            "_model_module": "@jupyter-widgets/controls",
            "layout": "IPY_MODEL_0eea0585e057466a8000137c79deb8b7"
          },
          "model_module_version": "1.5.0"
        },
        "9af5de82108542d484544abd4e94bc78": {
          "model_module": "@jupyter-widgets/controls",
          "model_name": "HTMLModel",
          "state": {
            "_view_name": "HTMLView",
            "style": "IPY_MODEL_d3b858d2984143428fea9df03e9fe4ba",
            "_dom_classes": [],
            "description": "",
            "_model_name": "HTMLModel",
            "placeholder": "​",
            "_view_module": "@jupyter-widgets/controls",
            "_model_module_version": "1.5.0",
            "value": " 899k/899k [00:00&lt;00:00, 899kB/s]",
            "_view_count": null,
            "_view_module_version": "1.5.0",
            "description_tooltip": null,
            "_model_module": "@jupyter-widgets/controls",
            "layout": "IPY_MODEL_f1402022630c49b59a684d40cbd3f0f0"
          },
          "model_module_version": "1.5.0"
        },
        "96bbaa9bf246402b87017d7b92231a36": {
          "model_module": "@jupyter-widgets/controls",
          "model_name": "ProgressStyleModel",
          "state": {
            "_view_name": "StyleView",
            "_model_name": "ProgressStyleModel",
            "description_width": "initial",
            "_view_module": "@jupyter-widgets/base",
            "_model_module_version": "1.5.0",
            "_view_count": null,
            "_view_module_version": "1.2.0",
            "bar_color": null,
            "_model_module": "@jupyter-widgets/controls"
          },
          "model_module_version": "1.5.0"
        },
        "0eea0585e057466a8000137c79deb8b7": {
          "model_module": "@jupyter-widgets/base",
          "model_name": "LayoutModel",
          "state": {
            "_view_name": "LayoutView",
            "grid_template_rows": null,
            "right": null,
            "justify_content": null,
            "_view_module": "@jupyter-widgets/base",
            "overflow": null,
            "_model_module_version": "1.2.0",
            "_view_count": null,
            "flex_flow": null,
            "width": null,
            "min_width": null,
            "border": null,
            "align_items": null,
            "bottom": null,
            "_model_module": "@jupyter-widgets/base",
            "top": null,
            "grid_column": null,
            "overflow_y": null,
            "overflow_x": null,
            "grid_auto_flow": null,
            "grid_area": null,
            "grid_template_columns": null,
            "flex": null,
            "_model_name": "LayoutModel",
            "justify_items": null,
            "grid_row": null,
            "max_height": null,
            "align_content": null,
            "visibility": null,
            "align_self": null,
            "height": null,
            "min_height": null,
            "padding": null,
            "grid_auto_rows": null,
            "grid_gap": null,
            "max_width": null,
            "order": null,
            "_view_module_version": "1.2.0",
            "grid_template_areas": null,
            "object_position": null,
            "object_fit": null,
            "grid_auto_columns": null,
            "margin": null,
            "display": null,
            "left": null
          },
          "model_module_version": "1.2.0"
        },
        "d3b858d2984143428fea9df03e9fe4ba": {
          "model_module": "@jupyter-widgets/controls",
          "model_name": "DescriptionStyleModel",
          "state": {
            "_view_name": "StyleView",
            "_model_name": "DescriptionStyleModel",
            "description_width": "",
            "_view_module": "@jupyter-widgets/base",
            "_model_module_version": "1.5.0",
            "_view_count": null,
            "_view_module_version": "1.2.0",
            "_model_module": "@jupyter-widgets/controls"
          },
          "model_module_version": "1.5.0"
        },
        "f1402022630c49b59a684d40cbd3f0f0": {
          "model_module": "@jupyter-widgets/base",
          "model_name": "LayoutModel",
          "state": {
            "_view_name": "LayoutView",
            "grid_template_rows": null,
            "right": null,
            "justify_content": null,
            "_view_module": "@jupyter-widgets/base",
            "overflow": null,
            "_model_module_version": "1.2.0",
            "_view_count": null,
            "flex_flow": null,
            "width": null,
            "min_width": null,
            "border": null,
            "align_items": null,
            "bottom": null,
            "_model_module": "@jupyter-widgets/base",
            "top": null,
            "grid_column": null,
            "overflow_y": null,
            "overflow_x": null,
            "grid_auto_flow": null,
            "grid_area": null,
            "grid_template_columns": null,
            "flex": null,
            "_model_name": "LayoutModel",
            "justify_items": null,
            "grid_row": null,
            "max_height": null,
            "align_content": null,
            "visibility": null,
            "align_self": null,
            "height": null,
            "min_height": null,
            "padding": null,
            "grid_auto_rows": null,
            "grid_gap": null,
            "max_width": null,
            "order": null,
            "_view_module_version": "1.2.0",
            "grid_template_areas": null,
            "object_position": null,
            "object_fit": null,
            "grid_auto_columns": null,
            "margin": null,
            "display": null,
            "left": null
          },
          "model_module_version": "1.2.0"
        },
        "16a433bf8f0a4ab0b9bd875abae16b6e": {
          "model_module": "@jupyter-widgets/controls",
          "model_name": "HBoxModel",
          "state": {
            "_view_name": "HBoxView",
            "_dom_classes": [],
            "_model_name": "HBoxModel",
            "_view_module": "@jupyter-widgets/controls",
            "_model_module_version": "1.5.0",
            "_view_count": null,
            "_view_module_version": "1.5.0",
            "box_style": "",
            "layout": "IPY_MODEL_43dd64c5f14949e1903dbc1886e2c919",
            "_model_module": "@jupyter-widgets/controls",
            "children": [
              "IPY_MODEL_96c8292df393482ea32256111836e069",
              "IPY_MODEL_a95130b291cc4e8a9ae87c92dfd04122"
            ]
          },
          "model_module_version": "1.5.0"
        },
        "43dd64c5f14949e1903dbc1886e2c919": {
          "model_module": "@jupyter-widgets/base",
          "model_name": "LayoutModel",
          "state": {
            "_view_name": "LayoutView",
            "grid_template_rows": null,
            "right": null,
            "justify_content": null,
            "_view_module": "@jupyter-widgets/base",
            "overflow": null,
            "_model_module_version": "1.2.0",
            "_view_count": null,
            "flex_flow": null,
            "width": null,
            "min_width": null,
            "border": null,
            "align_items": null,
            "bottom": null,
            "_model_module": "@jupyter-widgets/base",
            "top": null,
            "grid_column": null,
            "overflow_y": null,
            "overflow_x": null,
            "grid_auto_flow": null,
            "grid_area": null,
            "grid_template_columns": null,
            "flex": null,
            "_model_name": "LayoutModel",
            "justify_items": null,
            "grid_row": null,
            "max_height": null,
            "align_content": null,
            "visibility": null,
            "align_self": null,
            "height": null,
            "min_height": null,
            "padding": null,
            "grid_auto_rows": null,
            "grid_gap": null,
            "max_width": null,
            "order": null,
            "_view_module_version": "1.2.0",
            "grid_template_areas": null,
            "object_position": null,
            "object_fit": null,
            "grid_auto_columns": null,
            "margin": null,
            "display": null,
            "left": null
          },
          "model_module_version": "1.2.0"
        },
        "96c8292df393482ea32256111836e069": {
          "model_module": "@jupyter-widgets/controls",
          "model_name": "FloatProgressModel",
          "state": {
            "_view_name": "ProgressView",
            "style": "IPY_MODEL_944b53286c9b46ba90c679c408ed1614",
            "_dom_classes": [],
            "description": "Downloading: 100%",
            "_model_name": "FloatProgressModel",
            "bar_style": "success",
            "max": 456318,
            "_view_module": "@jupyter-widgets/controls",
            "_model_module_version": "1.5.0",
            "value": 456318,
            "_view_count": null,
            "_view_module_version": "1.5.0",
            "orientation": "horizontal",
            "min": 0,
            "description_tooltip": null,
            "_model_module": "@jupyter-widgets/controls",
            "layout": "IPY_MODEL_a1586e0bed12435fb0bd9012a0432080"
          },
          "model_module_version": "1.5.0"
        },
        "a95130b291cc4e8a9ae87c92dfd04122": {
          "model_module": "@jupyter-widgets/controls",
          "model_name": "HTMLModel",
          "state": {
            "_view_name": "HTMLView",
            "style": "IPY_MODEL_586ee78ebcb448b39cfd0e0be217d90f",
            "_dom_classes": [],
            "description": "",
            "_model_name": "HTMLModel",
            "placeholder": "​",
            "_view_module": "@jupyter-widgets/controls",
            "_model_module_version": "1.5.0",
            "value": " 456k/456k [00:02&lt;00:00, 161kB/s]",
            "_view_count": null,
            "_view_module_version": "1.5.0",
            "description_tooltip": null,
            "_model_module": "@jupyter-widgets/controls",
            "layout": "IPY_MODEL_5caf120beacc490f971908edd2d0d46f"
          },
          "model_module_version": "1.5.0"
        },
        "944b53286c9b46ba90c679c408ed1614": {
          "model_module": "@jupyter-widgets/controls",
          "model_name": "ProgressStyleModel",
          "state": {
            "_view_name": "StyleView",
            "_model_name": "ProgressStyleModel",
            "description_width": "initial",
            "_view_module": "@jupyter-widgets/base",
            "_model_module_version": "1.5.0",
            "_view_count": null,
            "_view_module_version": "1.2.0",
            "bar_color": null,
            "_model_module": "@jupyter-widgets/controls"
          },
          "model_module_version": "1.5.0"
        },
        "a1586e0bed12435fb0bd9012a0432080": {
          "model_module": "@jupyter-widgets/base",
          "model_name": "LayoutModel",
          "state": {
            "_view_name": "LayoutView",
            "grid_template_rows": null,
            "right": null,
            "justify_content": null,
            "_view_module": "@jupyter-widgets/base",
            "overflow": null,
            "_model_module_version": "1.2.0",
            "_view_count": null,
            "flex_flow": null,
            "width": null,
            "min_width": null,
            "border": null,
            "align_items": null,
            "bottom": null,
            "_model_module": "@jupyter-widgets/base",
            "top": null,
            "grid_column": null,
            "overflow_y": null,
            "overflow_x": null,
            "grid_auto_flow": null,
            "grid_area": null,
            "grid_template_columns": null,
            "flex": null,
            "_model_name": "LayoutModel",
            "justify_items": null,
            "grid_row": null,
            "max_height": null,
            "align_content": null,
            "visibility": null,
            "align_self": null,
            "height": null,
            "min_height": null,
            "padding": null,
            "grid_auto_rows": null,
            "grid_gap": null,
            "max_width": null,
            "order": null,
            "_view_module_version": "1.2.0",
            "grid_template_areas": null,
            "object_position": null,
            "object_fit": null,
            "grid_auto_columns": null,
            "margin": null,
            "display": null,
            "left": null
          },
          "model_module_version": "1.2.0"
        },
        "586ee78ebcb448b39cfd0e0be217d90f": {
          "model_module": "@jupyter-widgets/controls",
          "model_name": "DescriptionStyleModel",
          "state": {
            "_view_name": "StyleView",
            "_model_name": "DescriptionStyleModel",
            "description_width": "",
            "_view_module": "@jupyter-widgets/base",
            "_model_module_version": "1.5.0",
            "_view_count": null,
            "_view_module_version": "1.2.0",
            "_model_module": "@jupyter-widgets/controls"
          },
          "model_module_version": "1.5.0"
        },
        "5caf120beacc490f971908edd2d0d46f": {
          "model_module": "@jupyter-widgets/base",
          "model_name": "LayoutModel",
          "state": {
            "_view_name": "LayoutView",
            "grid_template_rows": null,
            "right": null,
            "justify_content": null,
            "_view_module": "@jupyter-widgets/base",
            "overflow": null,
            "_model_module_version": "1.2.0",
            "_view_count": null,
            "flex_flow": null,
            "width": null,
            "min_width": null,
            "border": null,
            "align_items": null,
            "bottom": null,
            "_model_module": "@jupyter-widgets/base",
            "top": null,
            "grid_column": null,
            "overflow_y": null,
            "overflow_x": null,
            "grid_auto_flow": null,
            "grid_area": null,
            "grid_template_columns": null,
            "flex": null,
            "_model_name": "LayoutModel",
            "justify_items": null,
            "grid_row": null,
            "max_height": null,
            "align_content": null,
            "visibility": null,
            "align_self": null,
            "height": null,
            "min_height": null,
            "padding": null,
            "grid_auto_rows": null,
            "grid_gap": null,
            "max_width": null,
            "order": null,
            "_view_module_version": "1.2.0",
            "grid_template_areas": null,
            "object_position": null,
            "object_fit": null,
            "grid_auto_columns": null,
            "margin": null,
            "display": null,
            "left": null
          },
          "model_module_version": "1.2.0"
        },
        "07325292cf764439be63de9efb0f5f0e": {
          "model_module": "@jupyter-widgets/controls",
          "model_name": "HBoxModel",
          "state": {
            "_view_name": "HBoxView",
            "_dom_classes": [],
            "_model_name": "HBoxModel",
            "_view_module": "@jupyter-widgets/controls",
            "_model_module_version": "1.5.0",
            "_view_count": null,
            "_view_module_version": "1.5.0",
            "box_style": "",
            "layout": "IPY_MODEL_7a3360c59cc14468993edd7210149cad",
            "_model_module": "@jupyter-widgets/controls",
            "children": [
              "IPY_MODEL_2cf651030fe9467c9d1c249f44a10109",
              "IPY_MODEL_bffcbe38bc16452a9d835fa0d9aeab0f"
            ]
          },
          "model_module_version": "1.5.0"
        },
        "7a3360c59cc14468993edd7210149cad": {
          "model_module": "@jupyter-widgets/base",
          "model_name": "LayoutModel",
          "state": {
            "_view_name": "LayoutView",
            "grid_template_rows": null,
            "right": null,
            "justify_content": null,
            "_view_module": "@jupyter-widgets/base",
            "overflow": null,
            "_model_module_version": "1.2.0",
            "_view_count": null,
            "flex_flow": null,
            "width": null,
            "min_width": null,
            "border": null,
            "align_items": null,
            "bottom": null,
            "_model_module": "@jupyter-widgets/base",
            "top": null,
            "grid_column": null,
            "overflow_y": null,
            "overflow_x": null,
            "grid_auto_flow": null,
            "grid_area": null,
            "grid_template_columns": null,
            "flex": null,
            "_model_name": "LayoutModel",
            "justify_items": null,
            "grid_row": null,
            "max_height": null,
            "align_content": null,
            "visibility": null,
            "align_self": null,
            "height": null,
            "min_height": null,
            "padding": null,
            "grid_auto_rows": null,
            "grid_gap": null,
            "max_width": null,
            "order": null,
            "_view_module_version": "1.2.0",
            "grid_template_areas": null,
            "object_position": null,
            "object_fit": null,
            "grid_auto_columns": null,
            "margin": null,
            "display": null,
            "left": null
          },
          "model_module_version": "1.2.0"
        },
        "2cf651030fe9467c9d1c249f44a10109": {
          "model_module": "@jupyter-widgets/controls",
          "model_name": "FloatProgressModel",
          "state": {
            "_view_name": "ProgressView",
            "style": "IPY_MODEL_fa7dbdc65fc04df09145b9eb1ecd12d1",
            "_dom_classes": [],
            "description": "Downloading: 100%",
            "_model_name": "FloatProgressModel",
            "bar_style": "success",
            "max": 1355863,
            "_view_module": "@jupyter-widgets/controls",
            "_model_module_version": "1.5.0",
            "value": 1355863,
            "_view_count": null,
            "_view_module_version": "1.5.0",
            "orientation": "horizontal",
            "min": 0,
            "description_tooltip": null,
            "_model_module": "@jupyter-widgets/controls",
            "layout": "IPY_MODEL_b7cea7e72c3b416f96ef8173412af623"
          },
          "model_module_version": "1.5.0"
        },
        "bffcbe38bc16452a9d835fa0d9aeab0f": {
          "model_module": "@jupyter-widgets/controls",
          "model_name": "HTMLModel",
          "state": {
            "_view_name": "HTMLView",
            "style": "IPY_MODEL_14d57d6408e44313a361b3c97f2aefff",
            "_dom_classes": [],
            "description": "",
            "_model_name": "HTMLModel",
            "placeholder": "​",
            "_view_module": "@jupyter-widgets/controls",
            "_model_module_version": "1.5.0",
            "value": " 1.36M/1.36M [00:01&lt;00:00, 730kB/s]",
            "_view_count": null,
            "_view_module_version": "1.5.0",
            "description_tooltip": null,
            "_model_module": "@jupyter-widgets/controls",
            "layout": "IPY_MODEL_9828505ad9f54b08b96acddb4f2f1a17"
          },
          "model_module_version": "1.5.0"
        },
        "fa7dbdc65fc04df09145b9eb1ecd12d1": {
          "model_module": "@jupyter-widgets/controls",
          "model_name": "ProgressStyleModel",
          "state": {
            "_view_name": "StyleView",
            "_model_name": "ProgressStyleModel",
            "description_width": "initial",
            "_view_module": "@jupyter-widgets/base",
            "_model_module_version": "1.5.0",
            "_view_count": null,
            "_view_module_version": "1.2.0",
            "bar_color": null,
            "_model_module": "@jupyter-widgets/controls"
          },
          "model_module_version": "1.5.0"
        },
        "b7cea7e72c3b416f96ef8173412af623": {
          "model_module": "@jupyter-widgets/base",
          "model_name": "LayoutModel",
          "state": {
            "_view_name": "LayoutView",
            "grid_template_rows": null,
            "right": null,
            "justify_content": null,
            "_view_module": "@jupyter-widgets/base",
            "overflow": null,
            "_model_module_version": "1.2.0",
            "_view_count": null,
            "flex_flow": null,
            "width": null,
            "min_width": null,
            "border": null,
            "align_items": null,
            "bottom": null,
            "_model_module": "@jupyter-widgets/base",
            "top": null,
            "grid_column": null,
            "overflow_y": null,
            "overflow_x": null,
            "grid_auto_flow": null,
            "grid_area": null,
            "grid_template_columns": null,
            "flex": null,
            "_model_name": "LayoutModel",
            "justify_items": null,
            "grid_row": null,
            "max_height": null,
            "align_content": null,
            "visibility": null,
            "align_self": null,
            "height": null,
            "min_height": null,
            "padding": null,
            "grid_auto_rows": null,
            "grid_gap": null,
            "max_width": null,
            "order": null,
            "_view_module_version": "1.2.0",
            "grid_template_areas": null,
            "object_position": null,
            "object_fit": null,
            "grid_auto_columns": null,
            "margin": null,
            "display": null,
            "left": null
          },
          "model_module_version": "1.2.0"
        },
        "14d57d6408e44313a361b3c97f2aefff": {
          "model_module": "@jupyter-widgets/controls",
          "model_name": "DescriptionStyleModel",
          "state": {
            "_view_name": "StyleView",
            "_model_name": "DescriptionStyleModel",
            "description_width": "",
            "_view_module": "@jupyter-widgets/base",
            "_model_module_version": "1.5.0",
            "_view_count": null,
            "_view_module_version": "1.2.0",
            "_model_module": "@jupyter-widgets/controls"
          },
          "model_module_version": "1.5.0"
        },
        "9828505ad9f54b08b96acddb4f2f1a17": {
          "model_module": "@jupyter-widgets/base",
          "model_name": "LayoutModel",
          "state": {
            "_view_name": "LayoutView",
            "grid_template_rows": null,
            "right": null,
            "justify_content": null,
            "_view_module": "@jupyter-widgets/base",
            "overflow": null,
            "_model_module_version": "1.2.0",
            "_view_count": null,
            "flex_flow": null,
            "width": null,
            "min_width": null,
            "border": null,
            "align_items": null,
            "bottom": null,
            "_model_module": "@jupyter-widgets/base",
            "top": null,
            "grid_column": null,
            "overflow_y": null,
            "overflow_x": null,
            "grid_auto_flow": null,
            "grid_area": null,
            "grid_template_columns": null,
            "flex": null,
            "_model_name": "LayoutModel",
            "justify_items": null,
            "grid_row": null,
            "max_height": null,
            "align_content": null,
            "visibility": null,
            "align_self": null,
            "height": null,
            "min_height": null,
            "padding": null,
            "grid_auto_rows": null,
            "grid_gap": null,
            "max_width": null,
            "order": null,
            "_view_module_version": "1.2.0",
            "grid_template_areas": null,
            "object_position": null,
            "object_fit": null,
            "grid_auto_columns": null,
            "margin": null,
            "display": null,
            "left": null
          },
          "model_module_version": "1.2.0"
        },
        "843e92dbf6c5463bac3b7ba0d297c7dc": {
          "model_module": "@jupyter-widgets/controls",
          "model_name": "HBoxModel",
          "state": {
            "_view_name": "HBoxView",
            "_dom_classes": [],
            "_model_name": "HBoxModel",
            "_view_module": "@jupyter-widgets/controls",
            "_model_module_version": "1.5.0",
            "_view_count": null,
            "_view_module_version": "1.5.0",
            "box_style": "",
            "layout": "IPY_MODEL_9d7e046c4ccb453b945f56d5c9c77537",
            "_model_module": "@jupyter-widgets/controls",
            "children": [
              "IPY_MODEL_50783bb8493248b9ac3737f24cdff383",
              "IPY_MODEL_2f9fb963a7ac44c2a2c0b969d3d33b32"
            ]
          },
          "model_module_version": "1.5.0"
        },
        "9d7e046c4ccb453b945f56d5c9c77537": {
          "model_module": "@jupyter-widgets/base",
          "model_name": "LayoutModel",
          "state": {
            "_view_name": "LayoutView",
            "grid_template_rows": null,
            "right": null,
            "justify_content": null,
            "_view_module": "@jupyter-widgets/base",
            "overflow": null,
            "_model_module_version": "1.2.0",
            "_view_count": null,
            "flex_flow": null,
            "width": null,
            "min_width": null,
            "border": null,
            "align_items": null,
            "bottom": null,
            "_model_module": "@jupyter-widgets/base",
            "top": null,
            "grid_column": null,
            "overflow_y": null,
            "overflow_x": null,
            "grid_auto_flow": null,
            "grid_area": null,
            "grid_template_columns": null,
            "flex": null,
            "_model_name": "LayoutModel",
            "justify_items": null,
            "grid_row": null,
            "max_height": null,
            "align_content": null,
            "visibility": null,
            "align_self": null,
            "height": null,
            "min_height": null,
            "padding": null,
            "grid_auto_rows": null,
            "grid_gap": null,
            "max_width": null,
            "order": null,
            "_view_module_version": "1.2.0",
            "grid_template_areas": null,
            "object_position": null,
            "object_fit": null,
            "grid_auto_columns": null,
            "margin": null,
            "display": null,
            "left": null
          },
          "model_module_version": "1.2.0"
        },
        "50783bb8493248b9ac3737f24cdff383": {
          "model_module": "@jupyter-widgets/controls",
          "model_name": "FloatProgressModel",
          "state": {
            "_view_name": "ProgressView",
            "style": "IPY_MODEL_103cf3f5ccda41408305e3fadc7b42f1",
            "_dom_classes": [],
            "description": "Downloading: 100%",
            "_model_name": "FloatProgressModel",
            "bar_style": "success",
            "max": 481,
            "_view_module": "@jupyter-widgets/controls",
            "_model_module_version": "1.5.0",
            "value": 481,
            "_view_count": null,
            "_view_module_version": "1.5.0",
            "orientation": "horizontal",
            "min": 0,
            "description_tooltip": null,
            "_model_module": "@jupyter-widgets/controls",
            "layout": "IPY_MODEL_18e09a536bff4b49bcade6c427b526fb"
          },
          "model_module_version": "1.5.0"
        },
        "2f9fb963a7ac44c2a2c0b969d3d33b32": {
          "model_module": "@jupyter-widgets/controls",
          "model_name": "HTMLModel",
          "state": {
            "_view_name": "HTMLView",
            "style": "IPY_MODEL_46f8ab3835c84763b98808c116c5a12e",
            "_dom_classes": [],
            "description": "",
            "_model_name": "HTMLModel",
            "placeholder": "​",
            "_view_module": "@jupyter-widgets/controls",
            "_model_module_version": "1.5.0",
            "value": " 481/481 [00:21&lt;00:00, 22.7B/s]",
            "_view_count": null,
            "_view_module_version": "1.5.0",
            "description_tooltip": null,
            "_model_module": "@jupyter-widgets/controls",
            "layout": "IPY_MODEL_f5b2573a5bda4020abce03eb21dd1e32"
          },
          "model_module_version": "1.5.0"
        },
        "103cf3f5ccda41408305e3fadc7b42f1": {
          "model_module": "@jupyter-widgets/controls",
          "model_name": "ProgressStyleModel",
          "state": {
            "_view_name": "StyleView",
            "_model_name": "ProgressStyleModel",
            "description_width": "initial",
            "_view_module": "@jupyter-widgets/base",
            "_model_module_version": "1.5.0",
            "_view_count": null,
            "_view_module_version": "1.2.0",
            "bar_color": null,
            "_model_module": "@jupyter-widgets/controls"
          },
          "model_module_version": "1.5.0"
        },
        "18e09a536bff4b49bcade6c427b526fb": {
          "model_module": "@jupyter-widgets/base",
          "model_name": "LayoutModel",
          "state": {
            "_view_name": "LayoutView",
            "grid_template_rows": null,
            "right": null,
            "justify_content": null,
            "_view_module": "@jupyter-widgets/base",
            "overflow": null,
            "_model_module_version": "1.2.0",
            "_view_count": null,
            "flex_flow": null,
            "width": null,
            "min_width": null,
            "border": null,
            "align_items": null,
            "bottom": null,
            "_model_module": "@jupyter-widgets/base",
            "top": null,
            "grid_column": null,
            "overflow_y": null,
            "overflow_x": null,
            "grid_auto_flow": null,
            "grid_area": null,
            "grid_template_columns": null,
            "flex": null,
            "_model_name": "LayoutModel",
            "justify_items": null,
            "grid_row": null,
            "max_height": null,
            "align_content": null,
            "visibility": null,
            "align_self": null,
            "height": null,
            "min_height": null,
            "padding": null,
            "grid_auto_rows": null,
            "grid_gap": null,
            "max_width": null,
            "order": null,
            "_view_module_version": "1.2.0",
            "grid_template_areas": null,
            "object_position": null,
            "object_fit": null,
            "grid_auto_columns": null,
            "margin": null,
            "display": null,
            "left": null
          },
          "model_module_version": "1.2.0"
        },
        "46f8ab3835c84763b98808c116c5a12e": {
          "model_module": "@jupyter-widgets/controls",
          "model_name": "DescriptionStyleModel",
          "state": {
            "_view_name": "StyleView",
            "_model_name": "DescriptionStyleModel",
            "description_width": "",
            "_view_module": "@jupyter-widgets/base",
            "_model_module_version": "1.5.0",
            "_view_count": null,
            "_view_module_version": "1.2.0",
            "_model_module": "@jupyter-widgets/controls"
          },
          "model_module_version": "1.5.0"
        },
        "f5b2573a5bda4020abce03eb21dd1e32": {
          "model_module": "@jupyter-widgets/base",
          "model_name": "LayoutModel",
          "state": {
            "_view_name": "LayoutView",
            "grid_template_rows": null,
            "right": null,
            "justify_content": null,
            "_view_module": "@jupyter-widgets/base",
            "overflow": null,
            "_model_module_version": "1.2.0",
            "_view_count": null,
            "flex_flow": null,
            "width": null,
            "min_width": null,
            "border": null,
            "align_items": null,
            "bottom": null,
            "_model_module": "@jupyter-widgets/base",
            "top": null,
            "grid_column": null,
            "overflow_y": null,
            "overflow_x": null,
            "grid_auto_flow": null,
            "grid_area": null,
            "grid_template_columns": null,
            "flex": null,
            "_model_name": "LayoutModel",
            "justify_items": null,
            "grid_row": null,
            "max_height": null,
            "align_content": null,
            "visibility": null,
            "align_self": null,
            "height": null,
            "min_height": null,
            "padding": null,
            "grid_auto_rows": null,
            "grid_gap": null,
            "max_width": null,
            "order": null,
            "_view_module_version": "1.2.0",
            "grid_template_areas": null,
            "object_position": null,
            "object_fit": null,
            "grid_auto_columns": null,
            "margin": null,
            "display": null,
            "left": null
          },
          "model_module_version": "1.2.0"
        },
        "6455600e9ae84c588a09be1a3b15233b": {
          "model_module": "@jupyter-widgets/controls",
          "model_name": "HBoxModel",
          "state": {
            "_view_name": "HBoxView",
            "_dom_classes": [],
            "_model_name": "HBoxModel",
            "_view_module": "@jupyter-widgets/controls",
            "_model_module_version": "1.5.0",
            "_view_count": null,
            "_view_module_version": "1.5.0",
            "box_style": "",
            "layout": "IPY_MODEL_3112ec9d6c7c41c8b714e9302a81f407",
            "_model_module": "@jupyter-widgets/controls",
            "children": [
              "IPY_MODEL_5a321cfef2cd445b8a34c95a0e34cd89",
              "IPY_MODEL_d35d613447a441ef891897fac2253b26"
            ]
          },
          "model_module_version": "1.5.0"
        },
        "3112ec9d6c7c41c8b714e9302a81f407": {
          "model_module": "@jupyter-widgets/base",
          "model_name": "LayoutModel",
          "state": {
            "_view_name": "LayoutView",
            "grid_template_rows": null,
            "right": null,
            "justify_content": null,
            "_view_module": "@jupyter-widgets/base",
            "overflow": null,
            "_model_module_version": "1.2.0",
            "_view_count": null,
            "flex_flow": null,
            "width": null,
            "min_width": null,
            "border": null,
            "align_items": null,
            "bottom": null,
            "_model_module": "@jupyter-widgets/base",
            "top": null,
            "grid_column": null,
            "overflow_y": null,
            "overflow_x": null,
            "grid_auto_flow": null,
            "grid_area": null,
            "grid_template_columns": null,
            "flex": null,
            "_model_name": "LayoutModel",
            "justify_items": null,
            "grid_row": null,
            "max_height": null,
            "align_content": null,
            "visibility": null,
            "align_self": null,
            "height": null,
            "min_height": null,
            "padding": null,
            "grid_auto_rows": null,
            "grid_gap": null,
            "max_width": null,
            "order": null,
            "_view_module_version": "1.2.0",
            "grid_template_areas": null,
            "object_position": null,
            "object_fit": null,
            "grid_auto_columns": null,
            "margin": null,
            "display": null,
            "left": null
          },
          "model_module_version": "1.2.0"
        },
        "5a321cfef2cd445b8a34c95a0e34cd89": {
          "model_module": "@jupyter-widgets/controls",
          "model_name": "FloatProgressModel",
          "state": {
            "_view_name": "ProgressView",
            "style": "IPY_MODEL_8cf2f57454a84c23ae71009b3b0f5b8e",
            "_dom_classes": [],
            "description": "Downloading: 100%",
            "_model_name": "FloatProgressModel",
            "bar_style": "success",
            "max": 657434796,
            "_view_module": "@jupyter-widgets/controls",
            "_model_module_version": "1.5.0",
            "value": 657434796,
            "_view_count": null,
            "_view_module_version": "1.5.0",
            "orientation": "horizontal",
            "min": 0,
            "description_tooltip": null,
            "_model_module": "@jupyter-widgets/controls",
            "layout": "IPY_MODEL_0f86255c3dcd4712a47072a0e4be9dde"
          },
          "model_module_version": "1.5.0"
        },
        "d35d613447a441ef891897fac2253b26": {
          "model_module": "@jupyter-widgets/controls",
          "model_name": "HTMLModel",
          "state": {
            "_view_name": "HTMLView",
            "style": "IPY_MODEL_fd485f5a8ce749e6a8a18eb720d80aca",
            "_dom_classes": [],
            "description": "",
            "_model_name": "HTMLModel",
            "placeholder": "​",
            "_view_module": "@jupyter-widgets/controls",
            "_model_module_version": "1.5.0",
            "value": " 657M/657M [00:21&lt;00:00, 31.3MB/s]",
            "_view_count": null,
            "_view_module_version": "1.5.0",
            "description_tooltip": null,
            "_model_module": "@jupyter-widgets/controls",
            "layout": "IPY_MODEL_64f74500233b4804a3ea64187c24d862"
          },
          "model_module_version": "1.5.0"
        },
        "8cf2f57454a84c23ae71009b3b0f5b8e": {
          "model_module": "@jupyter-widgets/controls",
          "model_name": "ProgressStyleModel",
          "state": {
            "_view_name": "StyleView",
            "_model_name": "ProgressStyleModel",
            "description_width": "initial",
            "_view_module": "@jupyter-widgets/base",
            "_model_module_version": "1.5.0",
            "_view_count": null,
            "_view_module_version": "1.2.0",
            "bar_color": null,
            "_model_module": "@jupyter-widgets/controls"
          },
          "model_module_version": "1.5.0"
        },
        "0f86255c3dcd4712a47072a0e4be9dde": {
          "model_module": "@jupyter-widgets/base",
          "model_name": "LayoutModel",
          "state": {
            "_view_name": "LayoutView",
            "grid_template_rows": null,
            "right": null,
            "justify_content": null,
            "_view_module": "@jupyter-widgets/base",
            "overflow": null,
            "_model_module_version": "1.2.0",
            "_view_count": null,
            "flex_flow": null,
            "width": null,
            "min_width": null,
            "border": null,
            "align_items": null,
            "bottom": null,
            "_model_module": "@jupyter-widgets/base",
            "top": null,
            "grid_column": null,
            "overflow_y": null,
            "overflow_x": null,
            "grid_auto_flow": null,
            "grid_area": null,
            "grid_template_columns": null,
            "flex": null,
            "_model_name": "LayoutModel",
            "justify_items": null,
            "grid_row": null,
            "max_height": null,
            "align_content": null,
            "visibility": null,
            "align_self": null,
            "height": null,
            "min_height": null,
            "padding": null,
            "grid_auto_rows": null,
            "grid_gap": null,
            "max_width": null,
            "order": null,
            "_view_module_version": "1.2.0",
            "grid_template_areas": null,
            "object_position": null,
            "object_fit": null,
            "grid_auto_columns": null,
            "margin": null,
            "display": null,
            "left": null
          },
          "model_module_version": "1.2.0"
        },
        "fd485f5a8ce749e6a8a18eb720d80aca": {
          "model_module": "@jupyter-widgets/controls",
          "model_name": "DescriptionStyleModel",
          "state": {
            "_view_name": "StyleView",
            "_model_name": "DescriptionStyleModel",
            "description_width": "",
            "_view_module": "@jupyter-widgets/base",
            "_model_module_version": "1.5.0",
            "_view_count": null,
            "_view_module_version": "1.2.0",
            "_model_module": "@jupyter-widgets/controls"
          },
          "model_module_version": "1.5.0"
        },
        "64f74500233b4804a3ea64187c24d862": {
          "model_module": "@jupyter-widgets/base",
          "model_name": "LayoutModel",
          "state": {
            "_view_name": "LayoutView",
            "grid_template_rows": null,
            "right": null,
            "justify_content": null,
            "_view_module": "@jupyter-widgets/base",
            "overflow": null,
            "_model_module_version": "1.2.0",
            "_view_count": null,
            "flex_flow": null,
            "width": null,
            "min_width": null,
            "border": null,
            "align_items": null,
            "bottom": null,
            "_model_module": "@jupyter-widgets/base",
            "top": null,
            "grid_column": null,
            "overflow_y": null,
            "overflow_x": null,
            "grid_auto_flow": null,
            "grid_area": null,
            "grid_template_columns": null,
            "flex": null,
            "_model_name": "LayoutModel",
            "justify_items": null,
            "grid_row": null,
            "max_height": null,
            "align_content": null,
            "visibility": null,
            "align_self": null,
            "height": null,
            "min_height": null,
            "padding": null,
            "grid_auto_rows": null,
            "grid_gap": null,
            "max_width": null,
            "order": null,
            "_view_module_version": "1.2.0",
            "grid_template_areas": null,
            "object_position": null,
            "object_fit": null,
            "grid_auto_columns": null,
            "margin": null,
            "display": null,
            "left": null
          },
          "model_module_version": "1.2.0"
        }
      }
    }
  },
  "cells": [
    {
      "cell_type": "markdown",
      "metadata": {
        "id": "lEl8X8mQgYWM"
      },
      "source": [
        "# Fine-tuning the BERT model for Tip Mining\n",
        "Combination of Huggingface library and TensorFlow \n",
        " --------------------------------------\n",
        "@author: Erik van der Heide, EUR 2021-2022"
      ]
    },
    {
      "cell_type": "code",
      "metadata": {
        "id": "YAG9N3Rixr2I",
        "colab": {
          "base_uri": "https://localhost:8080/"
        },
        "outputId": "3c104639-e204-4a74-8d9f-31fb7e295ffc"
      },
      "source": [
        "!nvidia-smi"
      ],
      "execution_count": null,
      "outputs": [
        {
          "output_type": "stream",
          "text": [
            "Wed Jun 23 08:59:24 2021       \n",
            "+-----------------------------------------------------------------------------+\n",
            "| NVIDIA-SMI 465.27       Driver Version: 460.32.03    CUDA Version: 11.2     |\n",
            "|-------------------------------+----------------------+----------------------+\n",
            "| GPU  Name        Persistence-M| Bus-Id        Disp.A | Volatile Uncorr. ECC |\n",
            "| Fan  Temp  Perf  Pwr:Usage/Cap|         Memory-Usage | GPU-Util  Compute M. |\n",
            "|                               |                      |               MIG M. |\n",
            "|===============================+======================+======================|\n",
            "|   0  Tesla K80           Off  | 00000000:00:04.0 Off |                    0 |\n",
            "| N/A   52C    P0    57W / 149W |   4265MiB / 11441MiB |      0%      Default |\n",
            "|                               |                      |                  N/A |\n",
            "+-------------------------------+----------------------+----------------------+\n",
            "                                                                               \n",
            "+-----------------------------------------------------------------------------+\n",
            "| Processes:                                                                  |\n",
            "|  GPU   GI   CI        PID   Type   Process name                  GPU Memory |\n",
            "|        ID   ID                                                   Usage      |\n",
            "|=============================================================================|\n",
            "+-----------------------------------------------------------------------------+\n"
          ],
          "name": "stdout"
        }
      ]
    },
    {
      "cell_type": "markdown",
      "metadata": {
        "id": "zwKM4ly4GrDB"
      },
      "source": [
        "### Hyperparameters"
      ]
    },
    {
      "cell_type": "code",
      "metadata": {
        "id": "OPCdninmiEoS"
      },
      "source": [
        "# Hyperparameters\n",
        "data_type = 'subset'       # Choose data 'subsetX' or 'full'\n",
        "model_type = 'roberta'     # Choose model 'bert', 'distilbert' or 'roberta'\n",
        "optim_type = 'adam'        # Choose optimizer 'Adam' or 'AdamW'\n",
        "max_seq_length = 64        # define maximum length (32, 64)\n",
        "train_batch_size = 16      # define batch size (16, 32)\n",
        "learning_rate = 2e-5       # define learning rate (2e-5, 3e-5, 5e-5)\n",
        "num_epochs = 2             # define nr. of epoch (1, 2, 3, 4)"
      ],
      "execution_count": null,
      "outputs": []
    },
    {
      "cell_type": "markdown",
      "metadata": {
        "id": "Q4JY9K4cHll0"
      },
      "source": [
        "### Installations & packages"
      ]
    },
    {
      "cell_type": "code",
      "metadata": {
        "id": "M8MANF7XgMUX",
        "colab": {
          "base_uri": "https://localhost:8080/"
        },
        "outputId": "4b2226e0-5b2b-40d2-8c51-327bcf5c7eae"
      },
      "source": [
        "# Install transformers\n",
        "!pip install transformers"
      ],
      "execution_count": null,
      "outputs": [
        {
          "output_type": "stream",
          "text": [
            "Requirement already satisfied: transformers in /usr/local/lib/python3.7/dist-packages (4.7.0)\n",
            "Requirement already satisfied: regex!=2019.12.17 in /usr/local/lib/python3.7/dist-packages (from transformers) (2019.12.20)\n",
            "Requirement already satisfied: sacremoses in /usr/local/lib/python3.7/dist-packages (from transformers) (0.0.45)\n",
            "Requirement already satisfied: huggingface-hub==0.0.8 in /usr/local/lib/python3.7/dist-packages (from transformers) (0.0.8)\n",
            "Requirement already satisfied: tqdm>=4.27 in /usr/local/lib/python3.7/dist-packages (from transformers) (4.41.1)\n",
            "Requirement already satisfied: pyyaml in /usr/local/lib/python3.7/dist-packages (from transformers) (3.13)\n",
            "Requirement already satisfied: requests in /usr/local/lib/python3.7/dist-packages (from transformers) (2.23.0)\n",
            "Requirement already satisfied: filelock in /usr/local/lib/python3.7/dist-packages (from transformers) (3.0.12)\n",
            "Requirement already satisfied: importlib-metadata; python_version < \"3.8\" in /usr/local/lib/python3.7/dist-packages (from transformers) (4.5.0)\n",
            "Requirement already satisfied: tokenizers<0.11,>=0.10.1 in /usr/local/lib/python3.7/dist-packages (from transformers) (0.10.3)\n",
            "Requirement already satisfied: packaging in /usr/local/lib/python3.7/dist-packages (from transformers) (20.9)\n",
            "Requirement already satisfied: numpy>=1.17 in /usr/local/lib/python3.7/dist-packages (from transformers) (1.19.5)\n",
            "Requirement already satisfied: click in /usr/local/lib/python3.7/dist-packages (from sacremoses->transformers) (7.1.2)\n",
            "Requirement already satisfied: joblib in /usr/local/lib/python3.7/dist-packages (from sacremoses->transformers) (1.0.1)\n",
            "Requirement already satisfied: six in /usr/local/lib/python3.7/dist-packages (from sacremoses->transformers) (1.15.0)\n",
            "Requirement already satisfied: urllib3!=1.25.0,!=1.25.1,<1.26,>=1.21.1 in /usr/local/lib/python3.7/dist-packages (from requests->transformers) (1.24.3)\n",
            "Requirement already satisfied: certifi>=2017.4.17 in /usr/local/lib/python3.7/dist-packages (from requests->transformers) (2021.5.30)\n",
            "Requirement already satisfied: chardet<4,>=3.0.2 in /usr/local/lib/python3.7/dist-packages (from requests->transformers) (3.0.4)\n",
            "Requirement already satisfied: idna<3,>=2.5 in /usr/local/lib/python3.7/dist-packages (from requests->transformers) (2.10)\n",
            "Requirement already satisfied: typing-extensions>=3.6.4; python_version < \"3.8\" in /usr/local/lib/python3.7/dist-packages (from importlib-metadata; python_version < \"3.8\"->transformers) (3.7.4.3)\n",
            "Requirement already satisfied: zipp>=0.5 in /usr/local/lib/python3.7/dist-packages (from importlib-metadata; python_version < \"3.8\"->transformers) (3.4.1)\n",
            "Requirement already satisfied: pyparsing>=2.0.2 in /usr/local/lib/python3.7/dist-packages (from packaging->transformers) (2.4.7)\n"
          ],
          "name": "stdout"
        }
      ]
    },
    {
      "cell_type": "code",
      "metadata": {
        "id": "9PND8MMOj6GZ"
      },
      "source": [
        "# Install tensorflow model environment\n",
        "#!pip install -q tf-models-official"
      ],
      "execution_count": null,
      "outputs": []
    },
    {
      "cell_type": "code",
      "metadata": {
        "id": "chlnSn9XjmGS"
      },
      "source": [
        "# Packages\n",
        "import pandas as pd\n",
        "import time\n",
        "import random\n",
        "\n",
        "import torch\n",
        "import torch.nn as nn\n",
        "import tensorflow as tf\n",
        "#from official.nlp import optimization\n",
        "\n",
        "from transformers import BertTokenizerFast, DistilBertTokenizerFast, RobertaTokenizerFast\n",
        "from transformers import TFDistilBertForSequenceClassification\n",
        "from transformers import TFBertForSequenceClassification\n",
        "from transformers import TFRobertaForSequenceClassification\n",
        "\n",
        "import matplotlib.pyplot as plt\n",
        "from sklearn.model_selection import train_test_split\n",
        "from sklearn.metrics import precision_score, recall_score, f1_score\n",
        "from sklearn.metrics import roc_auc_score, accuracy_score, precision_recall_curve\n",
        "from sklearn.metrics import confusion_matrix"
      ],
      "execution_count": null,
      "outputs": []
    },
    {
      "cell_type": "markdown",
      "metadata": {
        "id": "i-kFITrbixaV"
      },
      "source": [
        "### Loading the data"
      ]
    },
    {
      "cell_type": "code",
      "metadata": {
        "id": "WfNhXJtRh4XW",
        "colab": {
          "base_uri": "https://localhost:8080/"
        },
        "outputId": "f61a68c8-3b9a-47a7-fd08-b6fc2c97ce51"
      },
      "source": [
        "from google.colab import drive\n",
        "drive.mount('/content/drive')"
      ],
      "execution_count": null,
      "outputs": [
        {
          "output_type": "stream",
          "text": [
            "Drive already mounted at /content/drive; to attempt to forcibly remount, call drive.mount(\"/content/drive\", force_remount=True).\n"
          ],
          "name": "stdout"
        }
      ]
    },
    {
      "cell_type": "code",
      "metadata": {
        "id": "98HkvQFVh-K2"
      },
      "source": [
        "if data_type=='full': \n",
        "  path_train = \"drive/MyDrive/Thesis BA&QM 2021/Data/td_train.csv\"    \n",
        "  path_test  = \"drive/MyDrive/Thesis BA&QM 2021/Data/td_test.csv\"\n",
        "  df_train = pd.read_csv(path_train, sep=\"\\t\", header=0)\n",
        "  df_test  = pd.read_csv(path_test, sep=\"\\t\", header=0)\n",
        "\n",
        "if data_type=='subset': \n",
        "  path_train = \"drive/MyDrive/Thesis BA&QM 2021/Data/td_train5050.csv\"    \n",
        "  path_test  = \"drive/MyDrive/Thesis BA&QM 2021/Data/td_test.csv\"\n",
        "  df_train = pd.read_csv(path_train, sep=\"\\t\", header=0)\n",
        "  df_test  = pd.read_csv(path_test, sep=\"\\t\", header=0)\n",
        "\n",
        "if data_type=='category': \n",
        "  df_baby_train = pd.read_csv(\"drive/MyDrive/Thesis BA&QM 2021/Data/td_baby_train5050.csv\", sep=\"\\t\", header=0)[['sentence', 'tip']]\n",
        "  df_baby_test = pd.read_csv(\"drive/MyDrive/Thesis BA&QM 2021/Data/td_baby_test.csv\", sep=\"\\t\", header=0)[['sentence', 'tip']]\n",
        "\n",
        "  df_music_train = pd.read_csv(\"drive/MyDrive/Thesis BA&QM 2021/Data/td_music_train5050.csv\", sep=\"\\t\", header=0)[['sentence', 'tip']]\n",
        "  df_music_test = pd.read_csv(\"drive/MyDrive/Thesis BA&QM 2021/Data/td_music_test.csv\", sep=\"\\t\", header=0)[['sentence', 'tip']]\n",
        "\n",
        "  df_sports_train = pd.read_csv(\"drive/MyDrive/Thesis BA&QM 2021/Data/td_sports_train5050.csv\", sep=\"\\t\", header=0)[['sentence', 'tip']]\n",
        "  df_sports_test = pd.read_csv(\"drive/MyDrive/Thesis BA&QM 2021/Data/td_sports_test.csv\", sep=\"\\t\", header=0)[['sentence', 'tip']]\n",
        "\n",
        "  df_tools_train = pd.read_csv(\"drive/MyDrive/Thesis BA&QM 2021/Data/td_tools_train5050.csv\", sep=\"\\t\", header=0)[['sentence', 'tip']]\n",
        "  df_tools_test = pd.read_csv(\"drive/MyDrive/Thesis BA&QM 2021/Data/td_tools_test.csv\", sep=\"\\t\", header=0)[['sentence', 'tip']]\n",
        "\n",
        "  df_toys_train = pd.read_csv(\"drive/MyDrive/Thesis BA&QM 2021/Data/td_toys_train5050.csv\", sep=\"\\t\", header=0)[['sentence', 'tip']]\n",
        "  df_toys_test = pd.read_csv(\"drive/MyDrive/Thesis BA&QM 2021/Data/td_toys_test.csv\", sep=\"\\t\", header=0)[['sentence', 'tip']]"
      ],
      "execution_count": null,
      "outputs": []
    },
    {
      "cell_type": "code",
      "metadata": {
        "id": "Ijs6Y9eWh_tt",
        "colab": {
          "base_uri": "https://localhost:8080/"
        },
        "outputId": "a142dffd-35de-4fc2-e28d-9a6b07c2befa"
      },
      "source": [
        "# Choose which data you want to use\n",
        "if data_type=='full' or data_type=='subset': \n",
        "  df_train = df_train[['sentence', 'tip']]\n",
        "  df_test  = df_test[['sentence', 'tip']]\n",
        "  df_train['tip'] = df_train['tip'].astype(int)\n",
        "  df_test['tip'] = df_test['tip'].astype(int)\n",
        "  print(f\"Tip distribution train:\\n{df_train['tip'].value_counts(normalize=True)} \\n\")\n",
        "  print(f\"Tip distribution test:\\n{df_test['tip'].value_counts(normalize=True)}\")\n",
        "elif data_type=='category':\n",
        "  df_baby_train['tip'] = df_baby_train['tip'].astype(int)\n",
        "  df_baby_test['tip'] = df_baby_test['tip'].astype(int)\n",
        "  df_music_train['tip'] = df_music_train['tip'].astype(int)\n",
        "  df_music_test['tip'] = df_music_test['tip'].astype(int)\n",
        "  df_sports_train['tip'] = df_sports_train['tip'].astype(int)\n",
        "  df_sports_test['tip'] = df_sports_test['tip'].astype(int)\n",
        "  df_tools_train['tip'] = df_tools_train['tip'].astype(int)\n",
        "  df_tools_test['tip'] = df_tools_test['tip'].astype(int)\n",
        "  df_toys_train['tip'] = df_toys_train['tip'].astype(int)\n",
        "  df_toys_test['tip'] = df_toys_test['tip'].astype(int)"
      ],
      "execution_count": null,
      "outputs": [
        {
          "output_type": "stream",
          "text": [
            "Tip distribution train:\n",
            "1    0.5\n",
            "0    0.5\n",
            "Name: tip, dtype: float64 \n",
            "\n",
            "Tip distribution test:\n",
            "0    0.881843\n",
            "1    0.118157\n",
            "Name: tip, dtype: float64\n"
          ],
          "name": "stdout"
        }
      ]
    },
    {
      "cell_type": "markdown",
      "metadata": {
        "id": "YTzBpIIxjFit"
      },
      "source": [
        "Split into X and y data and keep "
      ]
    },
    {
      "cell_type": "code",
      "metadata": {
        "id": "67OWFeVXSqQm",
        "colab": {
          "base_uri": "https://localhost:8080/"
        },
        "outputId": "0685aa62-14f1-42e7-ac23-0e2259a935a5"
      },
      "source": [
        "from sklearn.utils import shuffle\n",
        "\n",
        "if data_type=='full' or data_type=='subset': \n",
        "  # shuffle\n",
        "  df_train = shuffle(df_train, random_state=0)\n",
        "  df_test = shuffle(df_test, random_state=0)\n",
        "\n",
        "  # split\n",
        "  X_train = df_train['sentence']\n",
        "  y_train = df_train['tip']\n",
        "  X_test = df_test['sentence']\n",
        "  y_test = df_test['tip']\n",
        "  print(\"Training size: \", X_train.shape[0])\n",
        "  print(\"Test size: \", X_test.shape[0])\n",
        "\n",
        "elif data_type=='category':\n",
        "  # shuffle\n",
        "  df_baby_train = shuffle(df_baby_train, random_state=0)\n",
        "  df_baby_test = shuffle(df_baby_test, random_state=0)\n",
        "  df_music_train = shuffle(df_music_train, random_state=0)\n",
        "  df_music_test = shuffle(df_music_test, random_state=0)\n",
        "  df_sports_train = shuffle(df_sports_train, random_state=0)\n",
        "  df_sports_test = shuffle(df_sports_test, random_state=0)\n",
        "  df_tools_train = shuffle(df_tools_train, random_state=0)\n",
        "  df_tools_test = shuffle(df_tools_test, random_state=0)\n",
        "  df_toys_train = shuffle(df_toys_train, random_state=0)\n",
        "  df_toys_test = shuffle(df_toys_test, random_state=0)\n",
        "\n",
        "  X_baby_train = df_baby_train['sentence']\n",
        "  y_baby_train = df_baby_train['tip']\n",
        "  X_baby_test = df_baby_test['sentence']\n",
        "  y_baby_test = df_baby_test['tip']\n",
        "\n",
        "  X_music_train = df_music_train['sentence']\n",
        "  y_music_train = df_music_train['tip']\n",
        "  X_music_test = df_music_test['sentence']\n",
        "  y_music_test = df_music_test['tip']\n",
        "\n",
        "  X_sports_train = df_sports_train['sentence']\n",
        "  y_sports_train = df_sports_train['tip']\n",
        "  X_sports_test = df_sports_test['sentence']\n",
        "  y_sports_test = df_sports_test['tip']\n",
        "\n",
        "  X_tools_train = df_tools_train['sentence']\n",
        "  y_tools_train = df_tools_train['tip']\n",
        "  X_tools_test = df_tools_test['sentence']\n",
        "  y_tools_test = df_tools_test['tip']\n",
        "\n",
        "  X_toys_train = df_toys_train['sentence']\n",
        "  y_toys_train = df_toys_train['tip']\n",
        "  X_toys_test = df_toys_test['sentence']\n",
        "  y_toys_test = df_toys_test['tip']"
      ],
      "execution_count": null,
      "outputs": [
        {
          "output_type": "stream",
          "text": [
            "Training size:  6142\n",
            "Test size:  6576\n"
          ],
          "name": "stdout"
        }
      ]
    },
    {
      "cell_type": "markdown",
      "metadata": {
        "id": "XxITzUEzi1dU"
      },
      "source": [
        "### Tokenization"
      ]
    },
    {
      "cell_type": "markdown",
      "metadata": {
        "id": "HOm13llsVosx"
      },
      "source": [
        "Choose a tokenizer corresponding to your model of choice."
      ]
    },
    {
      "cell_type": "code",
      "metadata": {
        "id": "JlvyO6TK36Sz",
        "colab": {
          "base_uri": "https://localhost:8080/",
          "height": 201,
          "referenced_widgets": [
            "8b3e4672ece945b789c59793dd5ebe51",
            "11211f1c3c2d417ca8eb25dcffdc6831",
            "cdb09be8f4c742a6923035a566d9755c",
            "9af5de82108542d484544abd4e94bc78",
            "96bbaa9bf246402b87017d7b92231a36",
            "0eea0585e057466a8000137c79deb8b7",
            "d3b858d2984143428fea9df03e9fe4ba",
            "f1402022630c49b59a684d40cbd3f0f0",
            "16a433bf8f0a4ab0b9bd875abae16b6e",
            "43dd64c5f14949e1903dbc1886e2c919",
            "96c8292df393482ea32256111836e069",
            "a95130b291cc4e8a9ae87c92dfd04122",
            "944b53286c9b46ba90c679c408ed1614",
            "a1586e0bed12435fb0bd9012a0432080",
            "586ee78ebcb448b39cfd0e0be217d90f",
            "5caf120beacc490f971908edd2d0d46f",
            "07325292cf764439be63de9efb0f5f0e",
            "7a3360c59cc14468993edd7210149cad",
            "2cf651030fe9467c9d1c249f44a10109",
            "bffcbe38bc16452a9d835fa0d9aeab0f",
            "fa7dbdc65fc04df09145b9eb1ecd12d1",
            "b7cea7e72c3b416f96ef8173412af623",
            "14d57d6408e44313a361b3c97f2aefff",
            "9828505ad9f54b08b96acddb4f2f1a17"
          ]
        },
        "outputId": "93134e35-6b1b-4471-cdb0-9409bb47e2ea"
      },
      "source": [
        "if model_type.lower() == 'distilbert':\n",
        "  tokenizer = DistilBertTokenizerFast.from_pretrained('distilbert-base-uncased')\n",
        "elif model_type.lower() == 'bert':\n",
        "  tokenizer = BertTokenizerFast.from_pretrained('bert-base-uncased')\n",
        "elif model_type.lower() == 'roberta':\n",
        "  tokenizer = RobertaTokenizerFast.from_pretrained('roberta-base')\n",
        "tokenizer"
      ],
      "execution_count": null,
      "outputs": [
        {
          "output_type": "display_data",
          "data": {
            "application/vnd.jupyter.widget-view+json": {
              "model_id": "8b3e4672ece945b789c59793dd5ebe51",
              "version_minor": 0,
              "version_major": 2
            },
            "text/plain": [
              "HBox(children=(FloatProgress(value=0.0, description='Downloading', max=898823.0, style=ProgressStyle(descripti…"
            ]
          },
          "metadata": {
            "tags": []
          }
        },
        {
          "output_type": "stream",
          "text": [
            "\n"
          ],
          "name": "stdout"
        },
        {
          "output_type": "display_data",
          "data": {
            "application/vnd.jupyter.widget-view+json": {
              "model_id": "16a433bf8f0a4ab0b9bd875abae16b6e",
              "version_minor": 0,
              "version_major": 2
            },
            "text/plain": [
              "HBox(children=(FloatProgress(value=0.0, description='Downloading', max=456318.0, style=ProgressStyle(descripti…"
            ]
          },
          "metadata": {
            "tags": []
          }
        },
        {
          "output_type": "stream",
          "text": [
            "\n"
          ],
          "name": "stdout"
        },
        {
          "output_type": "display_data",
          "data": {
            "application/vnd.jupyter.widget-view+json": {
              "model_id": "07325292cf764439be63de9efb0f5f0e",
              "version_minor": 0,
              "version_major": 2
            },
            "text/plain": [
              "HBox(children=(FloatProgress(value=0.0, description='Downloading', max=1355863.0, style=ProgressStyle(descript…"
            ]
          },
          "metadata": {
            "tags": []
          }
        },
        {
          "output_type": "stream",
          "text": [
            "\n"
          ],
          "name": "stdout"
        },
        {
          "output_type": "execute_result",
          "data": {
            "text/plain": [
              "PreTrainedTokenizerFast(name_or_path='roberta-base', vocab_size=50265, model_max_len=512, is_fast=True, padding_side='right', special_tokens={'bos_token': '<s>', 'eos_token': '</s>', 'unk_token': '<unk>', 'sep_token': '</s>', 'pad_token': '<pad>', 'cls_token': '<s>', 'mask_token': AddedToken(\"<mask>\", rstrip=False, lstrip=True, single_word=False, normalized=False)})"
            ]
          },
          "metadata": {
            "tags": []
          },
          "execution_count": 37
        }
      ]
    },
    {
      "cell_type": "markdown",
      "metadata": {
        "id": "NHuaJVHKchXl"
      },
      "source": [
        "Tokenize the training, validation and test set."
      ]
    },
    {
      "cell_type": "code",
      "metadata": {
        "id": "osqHdzuRi4l2"
      },
      "source": [
        "if data_type=='full' or data_type=='subset': \n",
        "  train_encodings = tokenizer(X_train.tolist(), truncation=True, padding=True, max_length=max_seq_length)\n",
        "  test_encodings = tokenizer(X_test.tolist(), truncation=True, padding=True, max_length=max_seq_length)\n",
        "elif data_type=='category':\n",
        "  train_encodings_baby = tokenizer(X_baby_train.tolist(), truncation=True, padding=True, max_length=max_seq_length)\n",
        "  test_encodings_baby = tokenizer(X_baby_test.tolist(), truncation=True, padding=True, max_length=max_seq_length)\n",
        "\n",
        "  train_encodings_music = tokenizer(X_music_train.tolist(), truncation=True, padding=True, max_length=max_seq_length)\n",
        "  test_encodings_music = tokenizer(X_music_test.tolist(), truncation=True, padding=True, max_length=max_seq_length)\n",
        "\n",
        "  train_encodings_sports = tokenizer(X_sports_train.tolist(), truncation=True, padding=True, max_length=max_seq_length)\n",
        "  test_encodings_sports = tokenizer(X_sports_test.tolist(), truncation=True, padding=True, max_length=max_seq_length)\n",
        "\n",
        "  train_encodings_tools = tokenizer(X_tools_train.tolist(), truncation=True, padding=True, max_length=max_seq_length)\n",
        "  test_encodings_tools = tokenizer(X_tools_test.tolist(), truncation=True, padding=True, max_length=max_seq_length)\n",
        "\n",
        "  train_encodings_toys = tokenizer(X_toys_train.tolist(), truncation=True, padding=True, max_length=max_seq_length)\n",
        "  test_encodings_toys = tokenizer(X_toys_test.tolist(), truncation=True, padding=True, max_length=max_seq_length)\n",
        "\n",
        "# Example\n",
        "#print(f\"Example        : {X_train[0]}\")\n",
        "#toks = ['CLS'] + tokenizer.tokenize(X_train[0]) + ['SEP']\n",
        "#print(f\"Tokens         : {toks}  ({len(toks)} tokens)\")\n",
        "#print(f\"Token id's     : {train_encodings['input_ids'][0]}\")\n",
        "#print(f\"Attention mask : {train_encodings['attention_mask'][0]}\")"
      ],
      "execution_count": null,
      "outputs": []
    },
    {
      "cell_type": "code",
      "metadata": {
        "id": "kDdk0FvckI4T"
      },
      "source": [
        "#with tf.device('/cpu:0'): # run on cpu\n",
        "# Write datasets to tensor slices\n",
        "\n",
        "if data_type=='full' or data_type=='subset': \n",
        "  train_dataset = tf.data.Dataset.from_tensor_slices((dict(train_encodings), y_train))\n",
        "  test_dataset = tf.data.Dataset.from_tensor_slices((dict(test_encodings), y_test))\n",
        "elif data_type=='category':\n",
        "  train_dataset_baby = tf.data.Dataset.from_tensor_slices((dict(train_encodings_baby), y_baby_train))\n",
        "  test_dataset_baby = tf.data.Dataset.from_tensor_slices((dict(test_encodings_baby), y_baby_test))\n",
        "\n",
        "  train_dataset_music = tf.data.Dataset.from_tensor_slices((dict(train_encodings_music), y_music_train))\n",
        "  test_dataset_music = tf.data.Dataset.from_tensor_slices((dict(test_encodings_music), y_music_test))\n",
        "\n",
        "  train_dataset_sports = tf.data.Dataset.from_tensor_slices((dict(train_encodings_sports), y_sports_train))\n",
        "  test_dataset_sports = tf.data.Dataset.from_tensor_slices((dict(test_encodings_sports), y_sports_test))\n",
        "\n",
        "  train_dataset_tools = tf.data.Dataset.from_tensor_slices((dict(train_encodings_tools), y_tools_train))\n",
        "  test_dataset_tools = tf.data.Dataset.from_tensor_slices((dict(test_encodings_tools), y_tools_test))\n",
        "\n",
        "  train_dataset_toys = tf.data.Dataset.from_tensor_slices((dict(train_encodings_toys), y_toys_train))\n",
        "  test_dataset_toys = tf.data.Dataset.from_tensor_slices((dict(test_encodings_toys), y_toys_test))"
      ],
      "execution_count": null,
      "outputs": []
    },
    {
      "cell_type": "markdown",
      "metadata": {
        "id": "Etl7V8zMvIdC"
      },
      "source": [
        "### Model definition"
      ]
    },
    {
      "cell_type": "markdown",
      "metadata": {
        "id": "n_hzECssivS3"
      },
      "source": [
        "Set the model to your prefered model architecture."
      ]
    },
    {
      "cell_type": "code",
      "metadata": {
        "id": "ik-G9mKJGwWO",
        "colab": {
          "base_uri": "https://localhost:8080/",
          "height": 203,
          "referenced_widgets": [
            "843e92dbf6c5463bac3b7ba0d297c7dc",
            "9d7e046c4ccb453b945f56d5c9c77537",
            "50783bb8493248b9ac3737f24cdff383",
            "2f9fb963a7ac44c2a2c0b969d3d33b32",
            "103cf3f5ccda41408305e3fadc7b42f1",
            "18e09a536bff4b49bcade6c427b526fb",
            "46f8ab3835c84763b98808c116c5a12e",
            "f5b2573a5bda4020abce03eb21dd1e32",
            "6455600e9ae84c588a09be1a3b15233b",
            "3112ec9d6c7c41c8b714e9302a81f407",
            "5a321cfef2cd445b8a34c95a0e34cd89",
            "d35d613447a441ef891897fac2253b26",
            "8cf2f57454a84c23ae71009b3b0f5b8e",
            "0f86255c3dcd4712a47072a0e4be9dde",
            "fd485f5a8ce749e6a8a18eb720d80aca",
            "64f74500233b4804a3ea64187c24d862"
          ]
        },
        "outputId": "9e620b3a-1c43-4598-83cd-ed31174d0568"
      },
      "source": [
        "if data_type=='full' or data_type=='subset': \n",
        "  if model_type.lower() == 'distilbert':\n",
        "    model = TFDistilBertForSequenceClassification.from_pretrained('distilbert-base-uncased')\n",
        "  elif model_type.lower() == 'bert':\n",
        "    model = TFBertForSequenceClassification.from_pretrained('bert-base-uncased')\n",
        "  elif model_type.lower() == 'roberta':\n",
        "    model = TFRobertaForSequenceClassification.from_pretrained('roberta-base')\n",
        "  model\n",
        "elif data_type=='category':\n",
        "  # CHANGE MANUALLY\n",
        "  #model = TFDistilBertForSequenceClassification.from_pretrained('distilbert-base-uncased')\n",
        "  #model = TFBertForSequenceClassification.from_pretrained('bert-base-uncased')\n",
        "  #model = TFRobertaForSequenceClassification.from_pretrained('roberta-base')\n",
        "\n",
        "  model_baby = TFBertForSequenceClassification.from_pretrained('bert-base-uncased')\n",
        "  model_music = TFBertForSequenceClassification.from_pretrained('bert-base-uncased')\n",
        "  model_sports = TFBertForSequenceClassification.from_pretrained('bert-base-uncased')\n",
        "  model_tools = TFBertForSequenceClassification.from_pretrained('bert-base-uncased')\n",
        "  model_toys = TFBertForSequenceClassification.from_pretrained('bert-base-uncased')"
      ],
      "execution_count": null,
      "outputs": [
        {
          "output_type": "display_data",
          "data": {
            "application/vnd.jupyter.widget-view+json": {
              "model_id": "843e92dbf6c5463bac3b7ba0d297c7dc",
              "version_minor": 0,
              "version_major": 2
            },
            "text/plain": [
              "HBox(children=(FloatProgress(value=0.0, description='Downloading', max=481.0, style=ProgressStyle(description_…"
            ]
          },
          "metadata": {
            "tags": []
          }
        },
        {
          "output_type": "stream",
          "text": [
            "\n"
          ],
          "name": "stdout"
        },
        {
          "output_type": "display_data",
          "data": {
            "application/vnd.jupyter.widget-view+json": {
              "model_id": "6455600e9ae84c588a09be1a3b15233b",
              "version_minor": 0,
              "version_major": 2
            },
            "text/plain": [
              "HBox(children=(FloatProgress(value=0.0, description='Downloading', max=657434796.0, style=ProgressStyle(descri…"
            ]
          },
          "metadata": {
            "tags": []
          }
        },
        {
          "output_type": "stream",
          "text": [
            "\n"
          ],
          "name": "stdout"
        },
        {
          "output_type": "stream",
          "text": [
            "All model checkpoint layers were used when initializing TFRobertaForSequenceClassification.\n",
            "\n",
            "Some layers of TFRobertaForSequenceClassification were not initialized from the model checkpoint at roberta-base and are newly initialized: ['classifier']\n",
            "You should probably TRAIN this model on a down-stream task to be able to use it for predictions and inference.\n"
          ],
          "name": "stderr"
        }
      ]
    },
    {
      "cell_type": "markdown",
      "metadata": {
        "id": "-t1_boPei0MG"
      },
      "source": [
        "Define your optimizer, loss function, and evaluation metrics, then compile the model."
      ]
    },
    {
      "cell_type": "code",
      "metadata": {
        "id": "-OpMbcCbimIX"
      },
      "source": [
        "# Optimizer\n",
        "if optim_type.lower() == 'adam':\n",
        "  optimizer = tf.keras.optimizers.Adam(learning_rate=learning_rate)\n",
        "elif optim_type.lower() == 'adamw':  # not improving results\n",
        "  steps_per_epoch = 156\n",
        "  num_train_steps = steps_per_epoch * num_epochs\n",
        "  num_warmup_steps = int(0.1*num_train_steps)\n",
        "  optimizer = optimization.create_optimizer(init_lr=learning_rate,\n",
        "                                            num_train_steps=num_train_steps,\n",
        "                                            num_warmup_steps=num_warmup_steps,\n",
        "                                            optimizer_type='adamw')\n",
        "  \n",
        "# Loss function\n",
        "loss_function = tf.keras.losses.SparseCategoricalCrossentropy(from_logits=True) \n",
        "# Sparse, as true are [0, 1, ..], and pred is [[0.9, 0.1], [0.2, 0.8]]\n",
        "\n",
        "# Evaluation metrics\n",
        "ev_metrics = [tf.keras.metrics.SparseCategoricalAccuracy('accuracy')]\n",
        "\n",
        "# Compile model  \n",
        "if data_type=='full' or data_type=='subset': \n",
        "  model.compile(optimizer=optimizer, loss=loss_function, metrics=ev_metrics)\n",
        "elif data_type=='category':\n",
        "  model_baby.compile(optimizer=optimizer, loss=loss_function, metrics=ev_metrics)\n",
        "  model_music.compile(optimizer=optimizer, loss=loss_function, metrics=ev_metrics)\n",
        "  model_sports.compile(optimizer=optimizer, loss=loss_function, metrics=ev_metrics)\n",
        "  model_tools.compile(optimizer=optimizer, loss=loss_function, metrics=ev_metrics)\n",
        "  model_toys.compile(optimizer=optimizer, loss=loss_function, metrics=ev_metrics)\n",
        "\n",
        "# Save weights of model with minimum validation loss\n",
        "#checkpoint_filepath = '/content/drive/MyDrive/Thesis BA&QM 2021'\n",
        "#model_checkpoint_callback = tf.keras.callbacks.ModelCheckpoint(\n",
        "#    filepath=checkpoint_filepath,\n",
        "#    save_weights_only=True,\n",
        "#    monitor='val_loss',\n",
        "#    mode='min',\n",
        "#    save_best_only=True)"
      ],
      "execution_count": null,
      "outputs": []
    },
    {
      "cell_type": "code",
      "metadata": {
        "id": "iGS8RRxMbTA0"
      },
      "source": [
        "#model.summary()"
      ],
      "execution_count": null,
      "outputs": []
    },
    {
      "cell_type": "markdown",
      "metadata": {
        "id": "mZTARlNabfnU"
      },
      "source": [
        "Run the model."
      ]
    },
    {
      "cell_type": "code",
      "metadata": {
        "id": "a9FJIQlTQ4HK",
        "colab": {
          "base_uri": "https://localhost:8080/"
        },
        "outputId": "6f9d97db-a8c1-483f-cc37-9e7a123f5c89"
      },
      "source": [
        "from sklearn.utils import class_weight \n",
        "import numpy as np\n",
        "\n",
        "if data_type=='full' or data_type=='subset': \n",
        "  class_weights = class_weight.compute_class_weight('balanced', np.unique(y_train), y_train)\n",
        "  class_weights = dict(enumerate(class_weights))\n",
        "  print(\"Class weights: \", class_weights)\n",
        "elif data_type=='category':\n",
        "  class_weights_baby = class_weight.compute_class_weight('balanced', np.unique(y_baby_train), y_baby_train)\n",
        "  class_weights_baby = dict(enumerate(class_weights_baby))\n",
        "  print(\"Class weights: \", class_weights_baby)\n",
        "\n",
        "  class_weights_music = class_weight.compute_class_weight('balanced', np.unique(y_music_train), y_music_train)\n",
        "  class_weights_music = dict(enumerate(class_weights_music))\n",
        "  print(\"Class weights: \", class_weights_music)\n",
        "\n",
        "  class_weights_sports = class_weight.compute_class_weight('balanced', np.unique(y_sports_train), y_sports_train)\n",
        "  class_weights_sports = dict(enumerate(class_weights_sports))\n",
        "  print(\"Class weights: \", class_weights_sports)\n",
        "\n",
        "  class_weights_tools = class_weight.compute_class_weight('balanced', np.unique(y_tools_train), y_tools_train)\n",
        "  class_weights_tools = dict(enumerate(class_weights_tools))\n",
        "  print(\"Class weights: \", class_weights_tools)\n",
        "\n",
        "  class_weights_toys = class_weight.compute_class_weight('balanced', np.unique(y_toys_train), y_toys_train)\n",
        "  class_weights_toys = dict(enumerate(class_weights_toys))\n",
        "  print(\"Class weights: \", class_weights_toys)"
      ],
      "execution_count": null,
      "outputs": [
        {
          "output_type": "stream",
          "text": [
            "Class weights:  {0: 1.0, 1: 1.0}\n"
          ],
          "name": "stdout"
        }
      ]
    },
    {
      "cell_type": "code",
      "metadata": {
        "id": "DSLUFhLabbrc",
        "colab": {
          "base_uri": "https://localhost:8080/"
        },
        "outputId": "b892c38b-a708-44fb-9421-d03101f99168"
      },
      "source": [
        "if data_type=='full' or data_type=='subset': \n",
        "  train_data = train_dataset.shuffle(1000).batch(train_batch_size, drop_remainder=True).prefetch(tf.data.experimental.AUTOTUNE)\n",
        "  test_data = test_dataset.batch(train_batch_size, drop_remainder=False).prefetch(tf.data.experimental.AUTOTUNE)\n",
        "\n",
        "  start = time.time()\n",
        "\n",
        "  # Fit model\n",
        "  history = model.fit(train_data, \n",
        "                    epochs=num_epochs,\n",
        "                    #callbacks=[model_checkpoint_callback],\n",
        "                    verbose=1,\n",
        "                    class_weight = class_weights)\n",
        "\n",
        "  end = time.time()\n",
        "  print(\"Training completed\")\n",
        "  print(\"Elapsed time fine-tuning the model: \", (end-start)/60, \"min\\n\")\n",
        "elif data_type=='category':\n",
        "  \n",
        "  train_data_baby = train_dataset_baby.shuffle(1000).batch(train_batch_size, drop_remainder=True).prefetch(tf.data.experimental.AUTOTUNE)\n",
        "  test_data_baby = test_dataset_baby.batch(train_batch_size, drop_remainder=False).prefetch(tf.data.experimental.AUTOTUNE)\n",
        "\n",
        "  train_data_music = train_dataset_music.shuffle(1000).batch(train_batch_size, drop_remainder=True).prefetch(tf.data.experimental.AUTOTUNE)\n",
        "  test_data_music = test_dataset_music.batch(train_batch_size, drop_remainder=False).prefetch(tf.data.experimental.AUTOTUNE)\n",
        "\n",
        "  train_data_sports = train_dataset_sports.shuffle(1000).batch(train_batch_size, drop_remainder=True).prefetch(tf.data.experimental.AUTOTUNE)\n",
        "  test_data_sports = test_dataset_sports.batch(train_batch_size, drop_remainder=False).prefetch(tf.data.experimental.AUTOTUNE)\n",
        "\n",
        "  train_data_tools = train_dataset_tools.shuffle(1000).batch(train_batch_size, drop_remainder=True).prefetch(tf.data.experimental.AUTOTUNE) \n",
        "  test_data_tools = test_dataset_tools.batch(train_batch_size, drop_remainder=False).prefetch(tf.data.experimental.AUTOTUNE)\n",
        "\n",
        "  train_data_toys = train_dataset_toys.shuffle(1000).batch(train_batch_size, drop_remainder=True).prefetch(tf.data.experimental.AUTOTUNE)\n",
        "  test_data_toys = test_dataset_toys.batch(train_batch_size, drop_remainder=False).prefetch(tf.data.experimental.AUTOTUNE)\n",
        "\n",
        "  start = time.time()\n",
        "\n",
        "# Fit model\n",
        "  history_baby = model_baby.fit(train_data_baby, \n",
        "                    epochs=num_epochs,\n",
        "                    #callbacks=[model_checkpoint_callback],\n",
        "                    verbose=1,\n",
        "                    class_weight = class_weights_baby)\n",
        "  \n",
        "  history_music = model_music.fit(train_data_music, \n",
        "                    epochs=num_epochs,\n",
        "                    #callbacks=[model_checkpoint_callback],\n",
        "                    verbose=1,\n",
        "                    class_weight = class_weights_music)\n",
        "  \n",
        "  history_sports = model_sports.fit(train_data_sports, \n",
        "                    epochs=num_epochs,\n",
        "                    #callbacks=[model_checkpoint_callback],\n",
        "                    verbose=1,\n",
        "                    class_weight = class_weights_sports)\n",
        "\n",
        "  history_tools = model_tools.fit(train_data_tools, \n",
        "                    epochs=num_epochs,\n",
        "                    #callbacks=[model_checkpoint_callback],\n",
        "                    verbose=1)\n",
        "                 #  class_weight = class_weights_tools)\n",
        "\n",
        "  history_toys = model_toys.fit(train_data_toys, \n",
        "                    epochs=num_epochs,\n",
        "                    #callbacks=[model_checkpoint_callback],\n",
        "                    verbose=1,\n",
        "                    class_weight = class_weights_toys)\n",
        "\n",
        "  end = time.time()\n",
        "  print(\"Training completed\")\n",
        "  print(\"Elapsed time fine-tuning the model: \", (end-start)/60, \"min\\n\")"
      ],
      "execution_count": null,
      "outputs": [
        {
          "output_type": "stream",
          "text": [
            "Epoch 1/2\n",
            "WARNING:tensorflow:The parameters `output_attentions`, `output_hidden_states` and `use_cache` cannot be updated when calling a model.They have to be set to True/False in the config object (i.e.: `config=XConfig.from_pretrained('name', output_attentions=True)`).\n",
            "WARNING:tensorflow:The parameter `return_dict` cannot be set in graph mode and will always be set to `True`.\n",
            "WARNING:tensorflow:The parameters `output_attentions`, `output_hidden_states` and `use_cache` cannot be updated when calling a model.They have to be set to True/False in the config object (i.e.: `config=XConfig.from_pretrained('name', output_attentions=True)`).\n",
            "WARNING:tensorflow:The parameter `return_dict` cannot be set in graph mode and will always be set to `True`.\n",
            "383/383 [==============================] - 174s 418ms/step - loss: 0.5596 - accuracy: 0.7099\n",
            "Epoch 2/2\n",
            "383/383 [==============================] - 161s 420ms/step - loss: 0.4367 - accuracy: 0.8025\n",
            "Training completed\n",
            "Elapsed time fine-tuning the model:  5.575246326128641 min\n",
            "\n"
          ],
          "name": "stdout"
        }
      ]
    },
    {
      "cell_type": "markdown",
      "metadata": {
        "id": "E757qyyMeUbc"
      },
      "source": [
        "### Evaluate epochs"
      ]
    },
    {
      "cell_type": "markdown",
      "metadata": {
        "id": "1rixyF1ktvcl"
      },
      "source": [
        "Print the train and validation loss given the epoch number."
      ]
    },
    {
      "cell_type": "code",
      "metadata": {
        "id": "lYd5nWJaeUD8"
      },
      "source": [
        "if data_type=='full' or data_type=='subset': \n",
        "  if num_epochs > 1:\n",
        "    history_dict = history.history\n",
        "    #print(history_dict.keys())\n",
        "\n",
        "    acc = history_dict['accuracy']\n",
        "    #val_acc = history_dict['val_accuracy']\n",
        "    loss = history_dict['loss']\n",
        "    #val_loss = history_dict['val_loss']\n",
        "\n",
        "    epochs = range(1, len(acc) + 1)\n",
        "    fig = plt.figure(figsize=(10, 5))\n",
        "    fig.subplots_adjust(hspace=0.4)\n",
        "\n",
        "    plt.subplot(2, 1, 1)\n",
        "    plt.plot(epochs, loss, 'r', label='training loss')\n",
        "    #plt.plot(epochs, val_loss, 'b', label='validation loss')\n",
        "    #plt.title('Training and validation loss')\n",
        "    plt.xlabel('Epochs')\n",
        "    plt.ylabel('Loss')\n",
        "    plt.locator_params(axis=\"x\", nbins=len(acc))\n",
        "    plt.legend()\n",
        "\n",
        "    plt.subplot(2, 1, 2)\n",
        "    plt.plot(epochs, acc, 'r', label='training accuracy')\n",
        "    #plt.plot(epochs, val_acc, 'b', label='validation accuracy')\n",
        "    #plt.title('Training and validation accuracy')\n",
        "    plt.xlabel('Epochs')\n",
        "    plt.ylabel('Accuracy')\n",
        "    #plt.ylim((0.70,0.78))\n",
        "    plt.locator_params(axis=\"x\", nbins=len(acc))\n",
        "    plt.legend(loc='upper left')\n",
        "  else:\n",
        "    print(\"Not enough epochs to plot\")"
      ],
      "execution_count": null,
      "outputs": []
    },
    {
      "cell_type": "markdown",
      "metadata": {
        "id": "WeN8HDNlipi8"
      },
      "source": [
        "### Model evaluation"
      ]
    },
    {
      "cell_type": "markdown",
      "metadata": {
        "id": "kwVLFEMOAxjf"
      },
      "source": [
        "Load best model weights with lowest validation loss into the model."
      ]
    },
    {
      "cell_type": "code",
      "metadata": {
        "id": "MTJWB1PYtNcD"
      },
      "source": [
        "#model.load_weights(checkpoint_filepath)"
      ],
      "execution_count": null,
      "outputs": []
    },
    {
      "cell_type": "markdown",
      "metadata": {
        "id": "5YOz2nX0d5Mp"
      },
      "source": [
        "Evaluate the model on 4 artificial sentences: 2 tips and 2 non-tips."
      ]
    },
    {
      "cell_type": "code",
      "metadata": {
        "id": "P_g4UjfAwQqA",
        "colab": {
          "base_uri": "https://localhost:8080/"
        },
        "outputId": "f5b57be9-9b4f-4342-d43b-9d950f81baa2"
      },
      "source": [
        "if data_type=='full' or data_type=='subset': \n",
        "  # Example data\n",
        "  sample_examples = [\"Just make sure to check if you have enough batteries at home.\",      # TIP\n",
        "                  \"I would argue that a child of two is still too young for this toy.\",  # TIP\n",
        "                  \"It was way too expensive and the shipping was late.\",                 # NON-TIP\n",
        "                  \"Loved it!\"]                                                           # NON-TIP\n",
        "  sample_labels = pd.Series([1, 1, 0, 0])\n",
        "\n",
        "  # Prepare examples\n",
        "  sample_encodings = tokenizer(sample_examples, truncation=True, padding=True, max_length=max_seq_length)\n",
        "  sample_encodings = tf.data.Dataset.from_tensor_slices((dict(sample_encodings), sample_labels))\n",
        "\n",
        "  # Calculate accuracy\n",
        "  sample_loss, sample_accuracy = model.evaluate(sample_encodings.batch(1))\n",
        "\n",
        "  # Make predictions\n",
        "  preds_percentage = model.predict(sample_encodings.batch(1)).logits\n",
        "  preds_percentage = tf.nn.softmax(preds_percentage, axis=1).numpy()\n",
        "  print(preds_percentage)    \n",
        "  preds_prob = preds_percentage[:,1]\n",
        "  threshold = 0.5\n",
        "  preds = [1 if pred[1] >=threshold else 0 for pred in preds_percentage]\n",
        "\n",
        "  # Print results\n",
        "  print()\n",
        "  for i in range(len(sample_examples)):\n",
        "    print(f\"Sentence   : {sample_examples[i]}\")\n",
        "    print(f\"Prob. tip  : {preds_percentage[i][1]}\")\n",
        "    print(f\"Prediction : Pred = {preds[i]} True = {sample_labels[i]}\")\n",
        "    print()\n",
        "  print(\"Final  accuracy : \", sample_accuracy)\n",
        "  print(\"Final  loss     : \", sample_loss)"
      ],
      "execution_count": null,
      "outputs": [
        {
          "output_type": "stream",
          "text": [
            "WARNING:tensorflow:The parameters `output_attentions`, `output_hidden_states` and `use_cache` cannot be updated when calling a model.They have to be set to True/False in the config object (i.e.: `config=XConfig.from_pretrained('name', output_attentions=True)`).\n",
            "WARNING:tensorflow:The parameter `return_dict` cannot be set in graph mode and will always be set to `True`.\n",
            "4/4 [==============================] - 3s 53ms/step - loss: 0.4087 - accuracy: 0.7500\n",
            "WARNING:tensorflow:The parameters `output_attentions`, `output_hidden_states` and `use_cache` cannot be updated when calling a model.They have to be set to True/False in the config object (i.e.: `config=XConfig.from_pretrained('name', output_attentions=True)`).\n",
            "WARNING:tensorflow:The parameter `return_dict` cannot be set in graph mode and will always be set to `True`.\n",
            "[[0.06000345 0.93999654]\n",
            " [0.07078373 0.9292163 ]\n",
            " [0.22405846 0.77594155]\n",
            " [0.9964232  0.00357683]]\n",
            "\n",
            "Sentence   : Just make sure to check if you have enough batteries at home.\n",
            "Prob. tip  : 0.9399965405464172\n",
            "Prediction : Pred = 1 True = 1\n",
            "\n",
            "Sentence   : I would argue that a child of two is still too young for this toy.\n",
            "Prob. tip  : 0.9292163252830505\n",
            "Prediction : Pred = 1 True = 1\n",
            "\n",
            "Sentence   : It was way too expensive and the shipping was late.\n",
            "Prob. tip  : 0.7759415507316589\n",
            "Prediction : Pred = 1 True = 0\n",
            "\n",
            "Sentence   : Loved it!\n",
            "Prob. tip  : 0.003576833987608552\n",
            "Prediction : Pred = 0 True = 0\n",
            "\n",
            "Final  accuracy :  0.75\n",
            "Final  loss     :  0.40868109464645386\n"
          ],
          "name": "stdout"
        }
      ]
    },
    {
      "cell_type": "markdown",
      "metadata": {
        "id": "QpxEtisbm5SC"
      },
      "source": [
        "Evaluate on the test set."
      ]
    },
    {
      "cell_type": "code",
      "metadata": {
        "id": "cB2ZYkytwQk3",
        "colab": {
          "base_uri": "https://localhost:8080/"
        },
        "outputId": "638ee2d1-0206-4c43-88df-d2f37c0c638e"
      },
      "source": [
        "# Evaluate model\n",
        "#LOSS, test_accuracy = model.evaluate(test_dataset.shuffle(1000).batch(train_batch_size))\n",
        "\n",
        "if data_type=='full' or data_type=='subset': \n",
        "  preds_percentage = model.predict(test_dataset.batch(train_batch_size)).logits\n",
        "  preds_percentage = tf.nn.softmax(preds_percentage, axis=1).numpy()    \n",
        "  preds_prob = preds_percentage[:,1]\n",
        "elif data_type=='category':\n",
        "  preds_percentage_baby = model_baby.predict(test_dataset_baby.batch(train_batch_size)).logits\n",
        "  preds_percentage_baby = tf.nn.softmax(preds_percentage_baby, axis=1).numpy()\n",
        "  preds_prob_baby = preds_percentage_baby[:,1]\n",
        "\n",
        "  preds_percentage_music = model_music.predict(test_dataset_music.batch(train_batch_size)).logits\n",
        "  preds_percentage_music = tf.nn.softmax(preds_percentage_music, axis=1).numpy()    \n",
        "  preds_prob_music = preds_percentage_music[:,1]\n",
        "\n",
        "  preds_percentage_sports = model_sports.predict(test_dataset_sports.batch(train_batch_size)).logits\n",
        "  preds_percentage_sports = tf.nn.softmax(preds_percentage_sports, axis=1).numpy()    \n",
        "  preds_prob_sports = preds_percentage_sports[:,1]\n",
        "\n",
        "  preds_percentage_tools = model_tools.predict(test_dataset_tools.batch(train_batch_size)).logits\n",
        "  preds_percentage_tools = tf.nn.softmax(preds_percentage_tools, axis=1).numpy()    \n",
        "  preds_prob_tools = preds_percentage_tools[:,1]\n",
        "\n",
        "  preds_percentage_toys = model_toys.predict(test_dataset_toys.batch(train_batch_size)).logits\n",
        "  preds_percentage_toys = tf.nn.softmax(preds_percentage_toys, axis=1).numpy()    \n",
        "  preds_prob_toys = preds_percentage_toys[:,1]\n",
        "\n",
        "  preds_percentage = np.concatenate([preds_percentage_baby, preds_percentage_music, preds_percentage_sports, preds_percentage_tools, preds_percentage_toys])\n",
        "  preds_prob = np.concatenate([preds_prob_baby, preds_prob_music, preds_prob_sports, preds_prob_tools, preds_prob_toys])\n",
        "  y_test = np.concatenate([y_baby_test, y_music_test, y_sports_test, y_tools_test, y_toys_test])\n",
        "\n",
        "# Create binary predictions\n",
        "threshold = 0.5\n",
        "preds = [1 if pred[1] >=threshold else 0 for pred in preds_percentage]\n",
        "\n",
        "# Evaluation metrics\n",
        "PR   = precision_score(y_test, preds)\n",
        "RC   = recall_score(y_test, preds)\n",
        "F1   = f1_score(y_test, preds)\n",
        "ACC  = accuracy_score(y_test, preds)\n",
        "AUC  = roc_auc_score(y_test, preds_prob)\n",
        "\n",
        "print(f\"Precision : {PR}\")\n",
        "print(f\"Recall    : {RC}\")\n",
        "print(f\"F1-score  : {F1}\")\n",
        "print(f\"Accuracy  : {ACC}\")\n",
        "print(f\"AUC       : {AUC}\")\n",
        "print()\n",
        "\n",
        "print(f\"COPY:  {round(PR,4)}, {round(RC,4)}, {round(F1,4)}, {round(ACC,4)}, {round(AUC,4)}\")"
      ],
      "execution_count": null,
      "outputs": [
        {
          "output_type": "stream",
          "text": [
            "WARNING:tensorflow:The parameters `output_attentions`, `output_hidden_states` and `use_cache` cannot be updated when calling a model.They have to be set to True/False in the config object (i.e.: `config=XConfig.from_pretrained('name', output_attentions=True)`).\n",
            "WARNING:tensorflow:The parameter `return_dict` cannot be set in graph mode and will always be set to `True`.\n",
            "Precision : 0.2202808112324493\n",
            "Recall    : 0.9086229086229086\n",
            "F1-score  : 0.3545956805625314\n",
            "Accuracy  : 0.6091849148418491\n",
            "AUC       : 0.8359287526385303\n",
            "\n",
            "COPY:  0.2203, 0.9086, 0.3546, 0.6092, 0.8359\n"
          ],
          "name": "stdout"
        }
      ]
    },
    {
      "cell_type": "markdown",
      "metadata": {
        "id": "OLxy_d_Gvg6L"
      },
      "source": [
        "Print the confusion matrix and the number of tips obtained."
      ]
    },
    {
      "cell_type": "code",
      "metadata": {
        "id": "y63_kwuF81tq",
        "colab": {
          "base_uri": "https://localhost:8080/"
        },
        "outputId": "6b06da26-bd52-46a1-c96b-010e08e97f60"
      },
      "source": [
        "threshold2 = 0.5\n",
        "preds2 = [1 if pred[1] >=threshold2 else 0 for pred in preds_percentage]\n",
        "\n",
        "print(\"Confusion matrix:\")\n",
        "print(confusion_matrix(y_test, preds2))\n",
        "print()\n",
        "print(\"Predicted as tip: \", preds2.count(1))\n",
        "print(\"Predicted as non-tip: \", preds2.count(0))\n",
        "print(\"Real number of tips:\", y_test.sum())"
      ],
      "execution_count": null,
      "outputs": [
        {
          "output_type": "stream",
          "text": [
            "Confusion matrix:\n",
            "[[3300 2499]\n",
            " [  71  706]]\n",
            "\n",
            "Predicted as tip:  3205\n",
            "Predicted as non-tip:  3371\n",
            "Real number of tips: 777\n"
          ],
          "name": "stdout"
        }
      ]
    },
    {
      "cell_type": "markdown",
      "metadata": {
        "id": "Hx014X92wcEH"
      },
      "source": [
        "Print the precision and recall as a function of the threshold."
      ]
    },
    {
      "cell_type": "code",
      "metadata": {
        "id": "LIU8-U6Avf94",
        "colab": {
          "base_uri": "https://localhost:8080/"
        },
        "outputId": "e701ff4e-44ae-43cf-8d95-ce4444032c89"
      },
      "source": [
        "precisions = []\n",
        "recalls = []\n",
        "f1s = []\n",
        "tips_pred = []\n",
        "nontips_pred = []\n",
        "false_pos = []\n",
        "false_neg = []\n",
        "true_pos = []\n",
        "thresholds = np.arange(0.4, 1.0, 0.01)\n",
        "max_f1s = 0\n",
        "max_thresh = 0\n",
        "max_prec = 0\n",
        "max_rec = 0\n",
        "max_tp = 0\n",
        "max_fp = 0\n",
        "\n",
        "for threshold3 in thresholds:\n",
        "  preds3 = [1 if pred[1] >=threshold3 else 0 for pred in preds_percentage]\n",
        "  precisions.append(precision_score(y_test, preds3))\n",
        "  recalls.append(recall_score(y_test, preds3))\n",
        "  f1s.append(f1_score(y_test, preds3))\n",
        "  tips_pred.append(preds3.count(1))\n",
        "  nontips_pred.append(preds3.count(0))\n",
        "  false_pos.append(confusion_matrix(y_test, preds3)[0,1])\n",
        "  false_neg.append(confusion_matrix(y_test, preds3)[1,0])\n",
        "  true_pos.append(confusion_matrix(y_test, preds3)[1,1])\n",
        "  if f1_score(y_test, preds3) > max_f1s:\n",
        "    max_f1s = f1_score(y_test, preds3)\n",
        "    max_thresh = threshold3\n",
        "    max_f1s_prec = precision_score(y_test, preds3)\n",
        "    max_f1s_rec = recall_score(y_test, preds3)\n",
        "    max_f1s_tp = confusion_matrix(y_test, preds3)[1,1]\n",
        "    max_f1s_fp = confusion_matrix(y_test, preds3)[0,1]\n",
        "  if precision_score(y_test, preds3) > max_prec:\n",
        "    max_prec = precision_score(y_test, preds3)\n",
        "    max_rec = recall_score(y_test, preds3)\n",
        "    max_tp = confusion_matrix(y_test, preds3)[1,1]\n",
        "    max_fp = confusion_matrix(y_test, preds3)[0,1]\n",
        "\n",
        "print(f\"Max F1-score: {max_f1s} at threshold {max_thresh} with precision {max_f1s_prec} and recall {max_f1s_rec} and TP {max_f1s_tp} and FP {max_f1s_fp}\")\n",
        "print(f\"Max precision: {max_prec} with recall {max_rec} and TP {max_tp} and FP {max_fp}\\n\")"
      ],
      "execution_count": null,
      "outputs": [
        {
          "output_type": "stream",
          "text": [
            "/usr/local/lib/python3.7/dist-packages/sklearn/metrics/_classification.py:1272: UndefinedMetricWarning: Precision is ill-defined and being set to 0.0 due to no predicted samples. Use `zero_division` parameter to control this behavior.\n",
            "  _warn_prf(average, modifier, msg_start, len(result))\n"
          ],
          "name": "stderr"
        },
        {
          "output_type": "stream",
          "text": [
            "Max F1-score: 0.4386907669760626 at threshold 0.8700000000000004 with precision 0.3535433070866142 and recall 0.5778635778635779 and TP 449 and FP 821\n",
            "Max precision: 1.0 with recall 0.002574002574002574 and TP 2 and FP 0\n",
            "\n"
          ],
          "name": "stdout"
        }
      ]
    },
    {
      "cell_type": "code",
      "metadata": {
        "id": "5PqEu4AA7Kzo"
      },
      "source": [
        "# Precision vs. Recall\n",
        "plt.plot(thresholds, precisions, 'blue', label='precision')\n",
        "plt.plot(thresholds, recalls, 'red', label='recall')\n",
        "plt.plot(thresholds, f1s, 'black', label='f1')\n",
        "plt.xlabel('Threshold')\n",
        "plt.grid(axis='y', alpha=0.75)\n",
        "plt.legend()\n",
        "plt.show()\n",
        "\n",
        "# False positives vs. False negatives\n",
        "plt.plot(thresholds, false_pos, 'blue', label='false pos.')\n",
        "plt.plot(thresholds, false_neg, 'red', label='false neg.')\n",
        "plt.plot(thresholds, true_pos, 'black', label='true pos.')\n",
        "plt.xlabel('Threshold')\n",
        "plt.grid(axis='y', alpha=0.75)\n",
        "plt.hlines(y=777, xmin=0.4, xmax=0.99, linestyle='dotted', linewidth=1.0)\n",
        "plt.legend()\n",
        "plt.show()\n",
        "\n",
        "# Predicted tips vs. non-tips\n",
        "plt.plot(thresholds, tips_pred, 'blue', label='predicted tips')\n",
        "plt.plot(thresholds, nontips_pred, 'red', label='predicted non-tips')\n",
        "plt.xlabel('Threshold')\n",
        "plt.grid(axis='y', alpha=0.75)\n",
        "plt.legend()\n",
        "#plt.hlines(y=770, xmin=0.4, xmax=0.99, linestyle='dotted', linewidth=1.0)\n",
        "plt.show()"
      ],
      "execution_count": null,
      "outputs": []
    },
    {
      "cell_type": "code",
      "metadata": {
        "id": "8Q_z9M0vzdSd"
      },
      "source": [
        "# False positives vs. False negatives\n",
        "predicted_tips = []\n",
        "for i in range(60):\n",
        "  predicted_tips.append(true_pos[i]+false_pos[i])\n",
        "\n",
        "plt.plot(thresholds, false_pos, 'blue', label='false pos.')\n",
        "#plt.plot(thresholds, false_neg, 'red', label='false neg.')\n",
        "plt.plot(thresholds, true_pos, 'black', label='true pos.')\n",
        "plt.plot(thresholds, predicted_tips, 'green', label='Predicted as tip')\n",
        "plt.xlabel('Threshold')\n",
        "plt.grid(axis='y', alpha=0.75)\n",
        "plt.hlines(y=777, xmin=0.4, xmax=0.99, linewidth=1.0)\n",
        "plt.legend()\n",
        "plt.show()"
      ],
      "execution_count": null,
      "outputs": []
    },
    {
      "cell_type": "markdown",
      "source": [
        "@references: \n",
        "* https://huggingface.co/transformers/custom_datasets.html"
      ],
      "metadata": {
        "id": "5tfddhLQsHYc"
      }
    }
  ]
}